{
 "cells": [
  {
   "cell_type": "markdown",
   "metadata": {},
   "source": [
    "# Week 1: 2016/01/11-15"
   ]
  },
  {
   "cell_type": "markdown",
   "metadata": {},
   "source": [
    "# Monday reading\n",
    "\n",
    "Read 0.1, which is an overview of the whole course."
   ]
  },
  {
   "cell_type": "markdown",
   "metadata": {},
   "source": [
    "# Tuesday class\n",
    "\n",
    "The central question of this course is: **What is a computer?**\n",
    "\n",
    "It seems obvious at first, but it's really not. Is a calculator a computer? Is a toaster oven a computer? Am I a computer?\n",
    "\n",
    "## What does it mean to compute?\n",
    "\n",
    "Historically, the answer to this question came from a totally different direction. Although people had built calculating machines, like Leibniz's [stepped reckoner] or Babbage's [difference engine], the question was not \"what is a computer,\" but \"what does it mean to compute?\" For in 1936, everyone knew what a computer was -- a computer was a person who computed things. Just like a dishwasher is a person who washes dishes.\n",
    "\n",
    "[stepped reckoner]: https://en.wikipedia.org/wiki/Stepped_Reckoner\n",
    "[difference engine]: https://en.wikipedia.org/wiki/Difference_engine\n",
    "\n",
    "For example, when you do arithmetic or solve a system of linear equations or find a derivative, you're computing -- you're following an algorithm that you learned in school. But some math requires more ingenuity, like writing proofs, and in the early 20th century, mathematicians were starting to wonder whether there was an \"effective procedure\" (we would say, an algorithm) for writing proofs too. The theory of computing developed as the answer to these questions; computing _machines_ were only somewhat incidental.\n",
    "\n",
    "## Turing machines\n",
    "\n",
    "In 1936, Turing published the paper that many consider to be the founding document of computer science. His answer to the question about what was meant by an \"effective procedure\" was not the first, but it was the most convincing. He imagined a computing person in an idealized scenario:\n",
    "\n",
    "- He has an infinitely long paper tape, divided into squares.\n",
    "- He can write one symbol in each square, and the number of possible symbols is finite (e.g., `0` to `9`).\n",
    "- He can only look at a finite number of squares at a time. \n",
    "- He can only move a finite distance at a time.\n",
    "- He has only a finite number of “states of mind.”\n",
    "\n",
    "He then imagined building machines (which he called a-machines, but which we now call Turing machines) that would do the same thing automatically.\n",
    "\n",
    "Turing machines were just a mathematical construct, a way of formalizing what it means to compute. Nevertheless, the obvious next step was to actually build a computing machine. The University of Pennsylvania's [EDVAC] and Turing's own [Automatic Computing Engine] (ACE) were the earliest such attempts.\n",
    "\n",
    "[EDVAC]: https://en.wikipedia.org/wiki/EDVAC\n",
    "[Automatic Computing Engine]: https://en.wikipedia.org/wiki/Automatic_Computing_Engine\n",
    "\n",
    "## Three big questions\n",
    "\n",
    "For the rest of the semester, we will ask and answer three questions:\n",
    "\n",
    "_What happens if we decrease or increase the machine’s power?_ In Units I and II, we will look at two kinds of machines, finite automata and pushdown automata, that are less powerful than Turing machines, but have interesting properties in their own right. In Unit III, we will look at extensions of Turing machines and show that they are no more powerful than Turing machines, leading to the conclusion (called the Church-Turing thesis) that Turing machines should be our definition of “computable.” Then Unit III continues with the question...\n",
    "\n",
    "_What can and can’t it do?_ One thing you can do with Turing machines is build a Turing machine that simulates any other Turing machine. That means that you only have to physically build that one machine, and it can simulate any other machine – hardware and software. What can’t it do? For example, you can’t build a Turing machine that can tell you whether another Turing machine runs in an endless loop.\n",
    "\n",
    "_What can and can’t it do tractably?_ Our investigation of Turing machines and models equivalent to it will lead to a reasonable definition of what “tractable” means, namely, those that can be solved in polynomial time. In Unit IV, we’ll see that there is a large class of problems, called NP-complete, that are interesting and useful but don’t seem to be tractably solvable. One of the most well-known is the Traveling Salesman problem: If you have to visit $n$ cities, what is the shortest way to visit all of them exactly once? I say that these problems don't _seem_ to be tractably solvable, because no one knows if they are. The amazing thing is that if you were to discover a tractable solution for one of them, then you would have a solution for all of them!"
   ]
  },
  {
   "cell_type": "markdown",
   "metadata": {},
   "source": [
    "# Wednesday reading\n",
    "\n",
    "Skim Sections 0.2-4, which cover mathematical preliminaries that you should have gotten in Discrete Math. If anything seems unfamiliar to you, study it a little more carefully. The subsection \"Strings and Languages\" is especially important (and surprisingly short); we'll be focusing on it in class."
   ]
  },
  {
   "cell_type": "markdown",
   "metadata": {},
   "source": [
    "# Thursday class\n",
    "\n",
    "## Everything’s a string, every problem a language\n",
    "\n",
    "In this course we want to study all the things that a computer can do. That seems very diverse, and it would seem that we have to study many different kinds of computations separately. But maybe we can reduce them all to one kind of problem, and focus our study on that one kind of problem. And we claim that any computational problem can be reduced to problems of the form: Does string $w$ belong to language $L$?\n",
    "\n",
    "People are fairly comfortable these days with the idea that any kind of object we might want to compute about can be represented as a string. We deal every day with messages, music, pictures, movies, books, etc., in digital form, with the awareness that these are just strings of 0’s and 1’s.\n",
    "\n",
    "Less obvious, perhaps, is that it makes sense to reduce all kinds of computations down to questions about whether strings belong to languages. First of all, our experience with computers today is highly interactive. But user-computer interaction can be thought of as a sequence of inputs and outputs. Second, the output from a computer is much more than just a \"yes\" or \"no\" answer. But if you have any function $f(x)$ that takes an input $x$ and outputs another string, we can think of it as the related function $f'(x,y)$ that takes an input $x$ and a possible output $y$, and returns \"yes\" iff $f(x) = y$.\n",
    "\n",
    "Caveat: The function $f'$ might be *much slower* than the original $f$. This will matter when we get to Unit IV, and we'll deal with this issue when the time comes.\n",
    "\n",
    "## Strings\n",
    "\n",
    "An _alphabet_ is a nonempty finite set of _symbols_. We use $\\Sigma$ (uppercase sigma) or sometimes $\\Gamma$ (uppercase gamma) to stand for an alphabet. We write actual symbols as $\\texttt{a}, \\texttt{b},$ etc., but write variables standing for symbols as $a, b$, etc.\n",
    "\n",
    "A _string_ is a finite sequence of symbols. Unlike with sets, order matters and duplicates matter. We usually use $w$ for a variable that stands for a string and $u,v$ or $x,y,z$ when we need more variables. Here's a formal definition of strings:\n",
    "\n",
    "- If $a$ is a symbol, it is also a string.\n",
    "- We write either $vw$ or $v \\cdot w$ for the concatenation of $v$ and $w$. Concatenation is associative: $(uv)w = u(vw) = uvw$.\n",
    "- We write $\\epsilon$ for the _empty string_: $\\epsilon \\cdot w = w \\cdot \\epsilon = w$.\n",
    "\n",
    "Note that $\\epsilon$ is not a symbol! It is a \"meta-symbol\" that stands for the empty string.\n",
    "\n",
    "**Question.** (This question and all questions below are not for credit; they will be discussed in class.) True or false? Assume $\\Sigma = \\{\\mathtt{a},\\mathtt{b}\\}$.\n",
    "\n",
    "\\begin{align}\n",
    "\\mathtt{ab}&=\\mathtt{ba} \\\\\n",
    "\\mathtt{aa}&=\\mathtt{a} \\\\\n",
    "\\epsilon &\\in \\Sigma \\\\\n",
    "\\epsilon \\epsilon &= \\epsilon\n",
    "\\end{align}\n",
    "\n",
    "**Question.** Write a formal definition of the length of a string. It should be defined inductively, following the structure of the definition of a string.\n",
    "\n",
    "## Languages\n",
    "\n",
    "A set of strings is called a _language_. We write $\\Sigma^\\ast$ for the language of all strings over $\\Sigma$. As usual, $\\emptyset$ stands for the empty language.\n",
    "\n",
    "**Question.** True or false?\n",
    "\n",
    "\\begin{align}\n",
    "\\{\\mathtt{a}, \\mathtt{a}\\} &= \\{\\mathtt{a}\\} \\\\\n",
    "\\{\\mathtt{a}, \\mathtt{b}\\} &= \\{\\mathtt{b}, \\mathtt{a}\\} \\\\\n",
    "\\{\\texttt{a}\\} \\cup \\emptyset &= \\{\\texttt{a}\\} \\\\\n",
    "\\{\\texttt{a}\\} \\cup \\{\\epsilon\\} &= \\{\\texttt{a}\\}\n",
    "\\end{align}\n",
    "\n",
    "**Question.** Is there such a thing (according to the definitions above) as \n",
    "\n",
    "- an infinite alphabet?\n",
    "- an infinite string?\n",
    "- an infinite language of finite strings?\n",
    "- an infinite language of infinite strings?\n",
    "\n",
    "Operations on strings often induce analogous operations on languages. For example, if $L$ and $L'$ are languages,\n",
    "\n",
    "\\begin{align}\n",
    "L^R &= \\{ w^R \\mid w \\in L \\} \\\\\n",
    "L L' &= \\{ w w' \\mid w \\in L, w' \\in L'\\}.\n",
    "\\end{align}\n",
    "\n",
    "The $\\ast$ operator that we saw above, known as the Kleene star, can be applied to any language. Thus $L^\\ast$ is defined as the smallest language such that:\n",
    "\n",
    "- $L \\subseteq L^\\ast$.\n",
    "- If $v \\in L^\\ast$ and $w \\in L^\\ast$, then $vw \\in L^\\ast$.\n",
    "- $\\epsilon \\in L^\\ast$.\n",
    "\n",
    "## Language classes\n",
    "\n",
    "Since every language corresponds to a computational problem (given a string $w$, does $w$ belong to $L$?), and since some problems are harder than others, it follows that some languages are harder to recognize than others. Some languages can be recognized by a Turing machine and some can't. Some can be recognized by a Turing machine in polynomial time ($O(n^k)$ time for some $k$) and some can't. So we can talk about sets of languages, commonly called _language classes_.\n",
    "\n",
    "There are only a handful of language classes we will learn this semester. They are:\n",
    "![Overview of language classes](overview.pdf)\n",
    "Each of the six boxes is a language class, with the name of the class written above; inside each box are models of computation that accept that language class.\n",
    "Each class is a strict superset of the previous one, _except_ NP is not known to be a strict superset of P."
   ]
  },
  {
   "cell_type": "code",
   "execution_count": null,
   "metadata": {
    "collapsed": true
   },
   "outputs": [],
   "source": []
  }
 ],
 "metadata": {
  "kernelspec": {
   "display_name": "Python 2",
   "language": "python",
   "name": "python2"
  },
  "language_info": {
   "codemirror_mode": {
    "name": "ipython",
    "version": 2
   },
   "file_extension": ".py",
   "mimetype": "text/x-python",
   "name": "python",
   "nbconvert_exporter": "python",
   "pygments_lexer": "ipython2",
   "version": "2.7.10"
  }
 },
 "nbformat": 4,
 "nbformat_minor": 0
}
