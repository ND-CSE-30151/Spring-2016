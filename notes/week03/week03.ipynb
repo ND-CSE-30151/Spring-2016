{
 "cells": [
  {
   "cell_type": "markdown",
   "metadata": {},
   "source": [
    "# Week 3: 2016/01/25-29"
   ]
  },
  {
   "cell_type": "code",
   "execution_count": 1,
   "metadata": {
    "collapsed": false
   },
   "outputs": [],
   "source": [
    "from tock import *"
   ]
  },
  {
   "cell_type": "markdown",
   "metadata": {},
   "source": [
    "# Monday reading\n",
    "\n",
    "Read Section 1.3, but you can save Lemma 1.60 and its proof for next time."
   ]
  },
  {
   "cell_type": "markdown",
   "metadata": {},
   "source": [
    "# Tuesday class\n",
    "\n",
    "Homework 2 is due this evening.\n",
    "\n",
    "## Regular expressions\n",
    "\n",
    "Regular expressions were invented by Stephen Kleene (pronounced clay-knee) back in the 1950s as a characterization of the languages recognized by the earliest neural networks. But they became widely used through various Unix tools, like `grep`, which is where you have likely encountered them.\n",
    "\n",
    "![Regex Golf](http://imgs.xkcd.com/comics/regex_golf.png)\n",
    "\n",
    "There are some differences between Unix regular expressions and true regular expressions. True regular expressions have three operations: concatenation, union ($\\cup$ in the book, `|` in Unix), and Kleene star (`*`). The order of operations is star, then concatenation, then union. Use parentheses to change the order of operations, just as in arithmetic expressions.\n",
    "\n",
    "Unix regular expressions use a dot (`.`) to match any symbol; the book uses $\\Sigma$ for this purpose.\n",
    "\n",
    "Another difference is that Unix regular expressions usually match anywhere in a string, whereas true regular expressions usually must match the entire string. When using `grep`, use the `-Ex` flags to approximate true regular expressions (`-E` to get the union operator, `-x` to match the whole line)."
   ]
  },
  {
   "cell_type": "code",
   "execution_count": 2,
   "metadata": {
    "collapsed": false
   },
   "outputs": [
    {
     "name": "stdout",
     "output_type": "stream",
     "text": [
      "Overwriting movies.txt\n"
     ]
    }
   ],
   "source": [
    "%%file movies.txt\n",
    "the phantom menace\n",
    "attack of the clones\n",
    "revenge of the sith\n",
    "a new hope\n",
    "the empire strikes back\n",
    "return of the jedi\n",
    "the force awakens\n",
    "rogue one\n",
    "the motion picture\n",
    "the wrath of khan\n",
    "the search for spock\n",
    "the voyage home\n",
    "the final frontier\n",
    "the undiscovered country\n",
    "generations\n",
    "first contact\n",
    "insurrection\n",
    "nemesis\n",
    "into darkness\n",
    "beyond"
   ]
  },
  {
   "cell_type": "code",
   "execution_count": 3,
   "metadata": {
    "collapsed": false
   },
   "outputs": [
    {
     "name": "stdout",
     "output_type": "stream",
     "text": [
      "the phantom menace\r\n",
      "attack of the clones\r\n",
      "revenge of the sith\r\n",
      "a new hope\r\n",
      "the empire strikes back\r\n",
      "return of the jedi\r\n",
      "beyond\r\n"
     ]
    }
   ],
   "source": [
    "!grep -Ex '.*(m | (t|n)|b).*' movies.txt"
   ]
  },
  {
   "cell_type": "markdown",
   "metadata": {
    "collapsed": true
   },
   "source": [
    "Almost right.\n",
    "\n",
    "**Question.** Can you fix the regular expression so that it also accepts `the force awakens` and `rogue one` but not `beyond`?"
   ]
  },
  {
   "cell_type": "markdown",
   "metadata": {},
   "source": [
    "## Converting regular expressions to NFAs\n",
    "\n",
    "Regular expressions are the third \"model of computation\" of this course, and they, too, are equivalent to both DFAs and NFAs. The proof involves algorithms to convert between regular expressions and NFAs. Today we're converting regular expressions to NFAs, which is, I think, not as difficult as the subset construction from last time.\n",
    "\n",
    "The algorithm in the book is a slight variation on the algorithm from a paper by Ken Thompson, one of the co-developers of Unix, [for the QED editor](https://swtch.com/~rsc/regexp/regexp1.html), from which are descended `sed`, `grep`, and `vi`. But Thompson's algorithm is _not_ the algorithm that is used by most regular expression engines today -- the modern algorithm is asymptotically much slower!\n",
    "\n",
    "Here's a step by step visualization of the example from the book. You can try different regular expressions to see how they get converted. (Note that in Tock, unlike in Unix tools, symbols in regular expressions are separated by spaces.)"
   ]
  },
  {
   "cell_type": "code",
   "execution_count": 4,
   "metadata": {
    "collapsed": false
   },
   "outputs": [
    {
     "data": {
      "text/html": [
       "subexpression: a"
      ],
      "text/plain": [
       "<IPython.core.display.HTML object>"
      ]
     },
     "metadata": {},
     "output_type": "display_data"
    },
    {
     "data": {
      "image/svg+xml": [
       "<svg height=\"37pt\" viewBox=\"0.00 0.00 144.00 36.50\" width=\"144pt\" xmlns=\"http://www.w3.org/2000/svg\" xmlns:xlink=\"http://www.w3.org/1999/xlink\">\n",
       "<g class=\"graph\" id=\"graph0\" transform=\"scale(1 1) rotate(0) translate(4 32.5)\">\n",
       "<title>%3</title>\n",
       "<polygon fill=\"white\" points=\"-4,4 -4,-32.5 140,-32.5 140,4 -4,4\" stroke=\"none\"/>\n",
       "<!-- _START -->\n",
       "<g class=\"node\" id=\"node1\"><title>_START</title>\n",
       "</g>\n",
       "<!-- 0 -->\n",
       "<g class=\"node\" id=\"node2\"><title>0</title>\n",
       "<path d=\"M53.3333,-21C53.3333,-21 43.6667,-21 43.6667,-21 40.8333,-21 38,-18.1667 38,-15.3333 38,-15.3333 38,-9.66667 38,-9.66667 38,-6.83333 40.8333,-4 43.6667,-4 43.6667,-4 53.3333,-4 53.3333,-4 56.1667,-4 59,-6.83333 59,-9.66667 59,-9.66667 59,-15.3333 59,-15.3333 59,-18.1667 56.1667,-21 53.3333,-21\" fill=\"none\" stroke=\"black\"/>\n",
       "<text font-family=\"Courier,monospace\" font-size=\"10.00\" text-anchor=\"start\" x=\"42\" y=\"-10\">q1</text>\n",
       "</g>\n",
       "<!-- _START&#45;&gt;0 -->\n",
       "<g class=\"edge\" id=\"edge1\"><title>_START-&gt;0</title>\n",
       "<path d=\"M1.13339,-12.5C2.79277,-12.5 19.5956,-12.5 32.5011,-12.5\" fill=\"none\" stroke=\"black\"/>\n",
       "<polygon fill=\"black\" points=\"37.7379,-12.5 32.738,-14.7501 35.2379,-12.5 32.7379,-12.5001 32.7379,-12.5001 32.7379,-12.5001 35.2379,-12.5 32.7379,-10.2501 37.7379,-12.5 37.7379,-12.5\" stroke=\"black\"/>\n",
       "</g>\n",
       "<!-- 1 -->\n",
       "<g class=\"node\" id=\"node3\"><title>1</title>\n",
       "<path d=\"M126.333,-21C126.333,-21 116.667,-21 116.667,-21 113.833,-21 111,-18.1667 111,-15.3333 111,-15.3333 111,-9.66667 111,-9.66667 111,-6.83333 113.833,-4 116.667,-4 116.667,-4 126.333,-4 126.333,-4 129.167,-4 132,-6.83333 132,-9.66667 132,-9.66667 132,-15.3333 132,-15.3333 132,-18.1667 129.167,-21 126.333,-21\" fill=\"none\" stroke=\"black\"/>\n",
       "<path d=\"M127.667,-25C127.667,-25 115.333,-25 115.333,-25 111.167,-25 107,-20.8333 107,-16.6667 107,-16.6667 107,-8.33333 107,-8.33333 107,-4.16667 111.167,-0 115.333,-0 115.333,-0 127.667,-0 127.667,-0 131.833,-0 136,-4.16667 136,-8.33333 136,-8.33333 136,-16.6667 136,-16.6667 136,-20.8333 131.833,-25 127.667,-25\" fill=\"none\" stroke=\"black\"/>\n",
       "<text font-family=\"Courier,monospace\" font-size=\"10.00\" text-anchor=\"start\" x=\"115\" y=\"-10\">q2</text>\n",
       "</g>\n",
       "<!-- 0&#45;&gt;1 -->\n",
       "<g class=\"edge\" id=\"edge2\"><title>0-&gt;1</title>\n",
       "<path d=\"M59.0754,-12.5C69.9689,-12.5 88.0236,-12.5 101.747,-12.5\" fill=\"none\" stroke=\"black\"/>\n",
       "<polygon fill=\"black\" points=\"106.956,-12.5 101.956,-14.7501 104.456,-12.5 101.956,-12.5001 101.956,-12.5001 101.956,-12.5001 104.456,-12.5 101.956,-10.2501 106.956,-12.5 106.956,-12.5\" stroke=\"black\"/>\n",
       "<text font-family=\"Courier,monospace\" font-size=\"9.00\" text-anchor=\"start\" x=\"80\" y=\"-18.3\">a</text>\n",
       "</g>\n",
       "</g>\n",
       "</svg>"
      ],
      "text/plain": [
       "<IPython.core.display.SVG object>"
      ]
     },
     "metadata": {},
     "output_type": "display_data"
    },
    {
     "data": {
      "text/html": [
       "subexpression: b"
      ],
      "text/plain": [
       "<IPython.core.display.HTML object>"
      ]
     },
     "metadata": {},
     "output_type": "display_data"
    },
    {
     "data": {
      "image/svg+xml": [
       "<svg height=\"37pt\" viewBox=\"0.00 0.00 144.00 36.50\" width=\"144pt\" xmlns=\"http://www.w3.org/2000/svg\" xmlns:xlink=\"http://www.w3.org/1999/xlink\">\n",
       "<g class=\"graph\" id=\"graph0\" transform=\"scale(1 1) rotate(0) translate(4 32.5)\">\n",
       "<title>%3</title>\n",
       "<polygon fill=\"white\" points=\"-4,4 -4,-32.5 140,-32.5 140,4 -4,4\" stroke=\"none\"/>\n",
       "<!-- _START -->\n",
       "<g class=\"node\" id=\"node1\"><title>_START</title>\n",
       "</g>\n",
       "<!-- 0 -->\n",
       "<g class=\"node\" id=\"node2\"><title>0</title>\n",
       "<path d=\"M53.3333,-21C53.3333,-21 43.6667,-21 43.6667,-21 40.8333,-21 38,-18.1667 38,-15.3333 38,-15.3333 38,-9.66667 38,-9.66667 38,-6.83333 40.8333,-4 43.6667,-4 43.6667,-4 53.3333,-4 53.3333,-4 56.1667,-4 59,-6.83333 59,-9.66667 59,-9.66667 59,-15.3333 59,-15.3333 59,-18.1667 56.1667,-21 53.3333,-21\" fill=\"none\" stroke=\"black\"/>\n",
       "<text font-family=\"Courier,monospace\" font-size=\"10.00\" text-anchor=\"start\" x=\"42\" y=\"-10\">q3</text>\n",
       "</g>\n",
       "<!-- _START&#45;&gt;0 -->\n",
       "<g class=\"edge\" id=\"edge1\"><title>_START-&gt;0</title>\n",
       "<path d=\"M1.13339,-12.5C2.79277,-12.5 19.5956,-12.5 32.5011,-12.5\" fill=\"none\" stroke=\"black\"/>\n",
       "<polygon fill=\"black\" points=\"37.7379,-12.5 32.738,-14.7501 35.2379,-12.5 32.7379,-12.5001 32.7379,-12.5001 32.7379,-12.5001 35.2379,-12.5 32.7379,-10.2501 37.7379,-12.5 37.7379,-12.5\" stroke=\"black\"/>\n",
       "</g>\n",
       "<!-- 1 -->\n",
       "<g class=\"node\" id=\"node3\"><title>1</title>\n",
       "<path d=\"M126.333,-21C126.333,-21 116.667,-21 116.667,-21 113.833,-21 111,-18.1667 111,-15.3333 111,-15.3333 111,-9.66667 111,-9.66667 111,-6.83333 113.833,-4 116.667,-4 116.667,-4 126.333,-4 126.333,-4 129.167,-4 132,-6.83333 132,-9.66667 132,-9.66667 132,-15.3333 132,-15.3333 132,-18.1667 129.167,-21 126.333,-21\" fill=\"none\" stroke=\"black\"/>\n",
       "<path d=\"M127.667,-25C127.667,-25 115.333,-25 115.333,-25 111.167,-25 107,-20.8333 107,-16.6667 107,-16.6667 107,-8.33333 107,-8.33333 107,-4.16667 111.167,-0 115.333,-0 115.333,-0 127.667,-0 127.667,-0 131.833,-0 136,-4.16667 136,-8.33333 136,-8.33333 136,-16.6667 136,-16.6667 136,-20.8333 131.833,-25 127.667,-25\" fill=\"none\" stroke=\"black\"/>\n",
       "<text font-family=\"Courier,monospace\" font-size=\"10.00\" text-anchor=\"start\" x=\"115\" y=\"-10\">q4</text>\n",
       "</g>\n",
       "<!-- 0&#45;&gt;1 -->\n",
       "<g class=\"edge\" id=\"edge2\"><title>0-&gt;1</title>\n",
       "<path d=\"M59.0754,-12.5C69.9689,-12.5 88.0236,-12.5 101.747,-12.5\" fill=\"none\" stroke=\"black\"/>\n",
       "<polygon fill=\"black\" points=\"106.956,-12.5 101.956,-14.7501 104.456,-12.5 101.956,-12.5001 101.956,-12.5001 101.956,-12.5001 104.456,-12.5 101.956,-10.2501 106.956,-12.5 106.956,-12.5\" stroke=\"black\"/>\n",
       "<text font-family=\"Courier,monospace\" font-size=\"9.00\" text-anchor=\"start\" x=\"80\" y=\"-18.3\">b</text>\n",
       "</g>\n",
       "</g>\n",
       "</svg>"
      ],
      "text/plain": [
       "<IPython.core.display.SVG object>"
      ]
     },
     "metadata": {},
     "output_type": "display_data"
    },
    {
     "data": {
      "text/html": [
       "subexpression: a b"
      ],
      "text/plain": [
       "<IPython.core.display.HTML object>"
      ]
     },
     "metadata": {},
     "output_type": "display_data"
    },
    {
     "data": {
      "image/svg+xml": [
       "<svg height=\"37pt\" viewBox=\"0.00 0.00 281.00 36.50\" width=\"281pt\" xmlns=\"http://www.w3.org/2000/svg\" xmlns:xlink=\"http://www.w3.org/1999/xlink\">\n",
       "<g class=\"graph\" id=\"graph0\" transform=\"scale(1 1) rotate(0) translate(4 32.5)\">\n",
       "<title>%3</title>\n",
       "<polygon fill=\"white\" points=\"-4,4 -4,-32.5 277,-32.5 277,4 -4,4\" stroke=\"none\"/>\n",
       "<!-- _START -->\n",
       "<g class=\"node\" id=\"node1\"><title>_START</title>\n",
       "</g>\n",
       "<!-- 0 -->\n",
       "<g class=\"node\" id=\"node2\"><title>0</title>\n",
       "<path d=\"M53.3333,-21C53.3333,-21 43.6667,-21 43.6667,-21 40.8333,-21 38,-18.1667 38,-15.3333 38,-15.3333 38,-9.66667 38,-9.66667 38,-6.83333 40.8333,-4 43.6667,-4 43.6667,-4 53.3333,-4 53.3333,-4 56.1667,-4 59,-6.83333 59,-9.66667 59,-9.66667 59,-15.3333 59,-15.3333 59,-18.1667 56.1667,-21 53.3333,-21\" fill=\"none\" stroke=\"black\"/>\n",
       "<text font-family=\"Courier,monospace\" font-size=\"10.00\" text-anchor=\"start\" x=\"42\" y=\"-10\">q1</text>\n",
       "</g>\n",
       "<!-- _START&#45;&gt;0 -->\n",
       "<g class=\"edge\" id=\"edge1\"><title>_START-&gt;0</title>\n",
       "<path d=\"M1.13339,-12.5C2.79277,-12.5 19.5956,-12.5 32.5011,-12.5\" fill=\"none\" stroke=\"black\"/>\n",
       "<polygon fill=\"black\" points=\"37.7379,-12.5 32.738,-14.7501 35.2379,-12.5 32.7379,-12.5001 32.7379,-12.5001 32.7379,-12.5001 35.2379,-12.5 32.7379,-10.2501 37.7379,-12.5 37.7379,-12.5\" stroke=\"black\"/>\n",
       "</g>\n",
       "<!-- 1 -->\n",
       "<g class=\"node\" id=\"node3\"><title>1</title>\n",
       "<path d=\"M122.333,-21C122.333,-21 112.667,-21 112.667,-21 109.833,-21 107,-18.1667 107,-15.3333 107,-15.3333 107,-9.66667 107,-9.66667 107,-6.83333 109.833,-4 112.667,-4 112.667,-4 122.333,-4 122.333,-4 125.167,-4 128,-6.83333 128,-9.66667 128,-9.66667 128,-15.3333 128,-15.3333 128,-18.1667 125.167,-21 122.333,-21\" fill=\"none\" stroke=\"black\"/>\n",
       "<text font-family=\"Courier,monospace\" font-size=\"10.00\" text-anchor=\"start\" x=\"111\" y=\"-10\">q2</text>\n",
       "</g>\n",
       "<!-- 0&#45;&gt;1 -->\n",
       "<g class=\"edge\" id=\"edge2\"><title>0-&gt;1</title>\n",
       "<path d=\"M59.0995,-12.5C70.2441,-12.5 88.7523,-12.5 101.732,-12.5\" fill=\"none\" stroke=\"black\"/>\n",
       "<polygon fill=\"black\" points=\"106.918,-12.5 101.918,-14.7501 104.418,-12.5 101.918,-12.5001 101.918,-12.5001 101.918,-12.5001 104.418,-12.5 101.918,-10.2501 106.918,-12.5 106.918,-12.5\" stroke=\"black\"/>\n",
       "<text font-family=\"Courier,monospace\" font-size=\"9.00\" text-anchor=\"start\" x=\"80\" y=\"-18.3\">a</text>\n",
       "</g>\n",
       "<!-- 2 -->\n",
       "<g class=\"node\" id=\"node4\"><title>2</title>\n",
       "<path d=\"M190.333,-21C190.333,-21 180.667,-21 180.667,-21 177.833,-21 175,-18.1667 175,-15.3333 175,-15.3333 175,-9.66667 175,-9.66667 175,-6.83333 177.833,-4 180.667,-4 180.667,-4 190.333,-4 190.333,-4 193.167,-4 196,-6.83333 196,-9.66667 196,-9.66667 196,-15.3333 196,-15.3333 196,-18.1667 193.167,-21 190.333,-21\" fill=\"none\" stroke=\"black\"/>\n",
       "<text font-family=\"Courier,monospace\" font-size=\"10.00\" text-anchor=\"start\" x=\"179\" y=\"-10\">q3</text>\n",
       "</g>\n",
       "<!-- 1&#45;&gt;2 -->\n",
       "<g class=\"edge\" id=\"edge4\"><title>1-&gt;2</title>\n",
       "<path d=\"M128.239,-12.5C139.157,-12.5 156.988,-12.5 169.648,-12.5\" fill=\"none\" stroke=\"black\"/>\n",
       "<polygon fill=\"black\" points=\"174.722,-12.5 169.722,-14.7501 172.222,-12.5 169.722,-12.5001 169.722,-12.5001 169.722,-12.5001 172.222,-12.5 169.721,-10.2501 174.722,-12.5 174.722,-12.5\" stroke=\"black\"/>\n",
       "<text font-family=\"Courier,monospace\" font-size=\"9.00\" text-anchor=\"start\" x=\"149.5\" y=\"-18.3\">ε</text>\n",
       "</g>\n",
       "<!-- 3 -->\n",
       "<g class=\"node\" id=\"node5\"><title>3</title>\n",
       "<path d=\"M263.333,-21C263.333,-21 253.667,-21 253.667,-21 250.833,-21 248,-18.1667 248,-15.3333 248,-15.3333 248,-9.66667 248,-9.66667 248,-6.83333 250.833,-4 253.667,-4 253.667,-4 263.333,-4 263.333,-4 266.167,-4 269,-6.83333 269,-9.66667 269,-9.66667 269,-15.3333 269,-15.3333 269,-18.1667 266.167,-21 263.333,-21\" fill=\"none\" stroke=\"black\"/>\n",
       "<path d=\"M264.667,-25C264.667,-25 252.333,-25 252.333,-25 248.167,-25 244,-20.8333 244,-16.6667 244,-16.6667 244,-8.33333 244,-8.33333 244,-4.16667 248.167,-0 252.333,-0 252.333,-0 264.667,-0 264.667,-0 268.833,-0 273,-4.16667 273,-8.33333 273,-8.33333 273,-16.6667 273,-16.6667 273,-20.8333 268.833,-25 264.667,-25\" fill=\"none\" stroke=\"black\"/>\n",
       "<text font-family=\"Courier,monospace\" font-size=\"10.00\" text-anchor=\"start\" x=\"252\" y=\"-10\">q4</text>\n",
       "</g>\n",
       "<!-- 2&#45;&gt;3 -->\n",
       "<g class=\"edge\" id=\"edge3\"><title>2-&gt;3</title>\n",
       "<path d=\"M196.075,-12.5C206.969,-12.5 225.024,-12.5 238.747,-12.5\" fill=\"none\" stroke=\"black\"/>\n",
       "<polygon fill=\"black\" points=\"243.956,-12.5 238.956,-14.7501 241.456,-12.5 238.956,-12.5001 238.956,-12.5001 238.956,-12.5001 241.456,-12.5 238.956,-10.2501 243.956,-12.5 243.956,-12.5\" stroke=\"black\"/>\n",
       "<text font-family=\"Courier,monospace\" font-size=\"9.00\" text-anchor=\"start\" x=\"217\" y=\"-18.3\">b</text>\n",
       "</g>\n",
       "</g>\n",
       "</svg>"
      ],
      "text/plain": [
       "<IPython.core.display.SVG object>"
      ]
     },
     "metadata": {},
     "output_type": "display_data"
    },
    {
     "data": {
      "text/html": [
       "subexpression: a"
      ],
      "text/plain": [
       "<IPython.core.display.HTML object>"
      ]
     },
     "metadata": {},
     "output_type": "display_data"
    },
    {
     "data": {
      "image/svg+xml": [
       "<svg height=\"37pt\" viewBox=\"0.00 0.00 144.00 36.50\" width=\"144pt\" xmlns=\"http://www.w3.org/2000/svg\" xmlns:xlink=\"http://www.w3.org/1999/xlink\">\n",
       "<g class=\"graph\" id=\"graph0\" transform=\"scale(1 1) rotate(0) translate(4 32.5)\">\n",
       "<title>%3</title>\n",
       "<polygon fill=\"white\" points=\"-4,4 -4,-32.5 140,-32.5 140,4 -4,4\" stroke=\"none\"/>\n",
       "<!-- _START -->\n",
       "<g class=\"node\" id=\"node1\"><title>_START</title>\n",
       "</g>\n",
       "<!-- 0 -->\n",
       "<g class=\"node\" id=\"node2\"><title>0</title>\n",
       "<path d=\"M53.3333,-21C53.3333,-21 43.6667,-21 43.6667,-21 40.8333,-21 38,-18.1667 38,-15.3333 38,-15.3333 38,-9.66667 38,-9.66667 38,-6.83333 40.8333,-4 43.6667,-4 43.6667,-4 53.3333,-4 53.3333,-4 56.1667,-4 59,-6.83333 59,-9.66667 59,-9.66667 59,-15.3333 59,-15.3333 59,-18.1667 56.1667,-21 53.3333,-21\" fill=\"none\" stroke=\"black\"/>\n",
       "<text font-family=\"Courier,monospace\" font-size=\"10.00\" text-anchor=\"start\" x=\"42\" y=\"-10\">q5</text>\n",
       "</g>\n",
       "<!-- _START&#45;&gt;0 -->\n",
       "<g class=\"edge\" id=\"edge1\"><title>_START-&gt;0</title>\n",
       "<path d=\"M1.13339,-12.5C2.79277,-12.5 19.5956,-12.5 32.5011,-12.5\" fill=\"none\" stroke=\"black\"/>\n",
       "<polygon fill=\"black\" points=\"37.7379,-12.5 32.738,-14.7501 35.2379,-12.5 32.7379,-12.5001 32.7379,-12.5001 32.7379,-12.5001 35.2379,-12.5 32.7379,-10.2501 37.7379,-12.5 37.7379,-12.5\" stroke=\"black\"/>\n",
       "</g>\n",
       "<!-- 1 -->\n",
       "<g class=\"node\" id=\"node3\"><title>1</title>\n",
       "<path d=\"M126.333,-21C126.333,-21 116.667,-21 116.667,-21 113.833,-21 111,-18.1667 111,-15.3333 111,-15.3333 111,-9.66667 111,-9.66667 111,-6.83333 113.833,-4 116.667,-4 116.667,-4 126.333,-4 126.333,-4 129.167,-4 132,-6.83333 132,-9.66667 132,-9.66667 132,-15.3333 132,-15.3333 132,-18.1667 129.167,-21 126.333,-21\" fill=\"none\" stroke=\"black\"/>\n",
       "<path d=\"M127.667,-25C127.667,-25 115.333,-25 115.333,-25 111.167,-25 107,-20.8333 107,-16.6667 107,-16.6667 107,-8.33333 107,-8.33333 107,-4.16667 111.167,-0 115.333,-0 115.333,-0 127.667,-0 127.667,-0 131.833,-0 136,-4.16667 136,-8.33333 136,-8.33333 136,-16.6667 136,-16.6667 136,-20.8333 131.833,-25 127.667,-25\" fill=\"none\" stroke=\"black\"/>\n",
       "<text font-family=\"Courier,monospace\" font-size=\"10.00\" text-anchor=\"start\" x=\"115\" y=\"-10\">q6</text>\n",
       "</g>\n",
       "<!-- 0&#45;&gt;1 -->\n",
       "<g class=\"edge\" id=\"edge2\"><title>0-&gt;1</title>\n",
       "<path d=\"M59.0754,-12.5C69.9689,-12.5 88.0236,-12.5 101.747,-12.5\" fill=\"none\" stroke=\"black\"/>\n",
       "<polygon fill=\"black\" points=\"106.956,-12.5 101.956,-14.7501 104.456,-12.5 101.956,-12.5001 101.956,-12.5001 101.956,-12.5001 104.456,-12.5 101.956,-10.2501 106.956,-12.5 106.956,-12.5\" stroke=\"black\"/>\n",
       "<text font-family=\"Courier,monospace\" font-size=\"9.00\" text-anchor=\"start\" x=\"80\" y=\"-18.3\">a</text>\n",
       "</g>\n",
       "</g>\n",
       "</svg>"
      ],
      "text/plain": [
       "<IPython.core.display.SVG object>"
      ]
     },
     "metadata": {},
     "output_type": "display_data"
    },
    {
     "data": {
      "text/html": [
       "subexpression: a b|a"
      ],
      "text/plain": [
       "<IPython.core.display.HTML object>"
      ]
     },
     "metadata": {},
     "output_type": "display_data"
    },
    {
     "data": {
      "image/svg+xml": [
       "<svg height=\"76pt\" viewBox=\"0.00 0.00 357.00 75.50\" width=\"357pt\" xmlns=\"http://www.w3.org/2000/svg\" xmlns:xlink=\"http://www.w3.org/1999/xlink\">\n",
       "<g class=\"graph\" id=\"graph0\" transform=\"scale(1 1) rotate(0) translate(4 71.5)\">\n",
       "<title>%3</title>\n",
       "<polygon fill=\"white\" points=\"-4,4 -4,-71.5 353,-71.5 353,4 -4,4\" stroke=\"none\"/>\n",
       "<!-- _START -->\n",
       "<g class=\"node\" id=\"node1\"><title>_START</title>\n",
       "</g>\n",
       "<!-- 6 -->\n",
       "<g class=\"node\" id=\"node8\"><title>6</title>\n",
       "<path d=\"M53.3333,-40C53.3333,-40 43.6667,-40 43.6667,-40 40.8333,-40 38,-37.1667 38,-34.3333 38,-34.3333 38,-28.6667 38,-28.6667 38,-25.8333 40.8333,-23 43.6667,-23 43.6667,-23 53.3333,-23 53.3333,-23 56.1667,-23 59,-25.8333 59,-28.6667 59,-28.6667 59,-34.3333 59,-34.3333 59,-37.1667 56.1667,-40 53.3333,-40\" fill=\"none\" stroke=\"black\"/>\n",
       "<text font-family=\"Courier,monospace\" font-size=\"10.00\" text-anchor=\"start\" x=\"42\" y=\"-29\">q7</text>\n",
       "</g>\n",
       "<!-- _START&#45;&gt;6 -->\n",
       "<g class=\"edge\" id=\"edge1\"><title>_START-&gt;6</title>\n",
       "<path d=\"M1.13339,-31.5C2.79277,-31.5 19.5956,-31.5 32.5011,-31.5\" fill=\"none\" stroke=\"black\"/>\n",
       "<polygon fill=\"black\" points=\"37.7379,-31.5 32.738,-33.7501 35.2379,-31.5 32.7379,-31.5001 32.7379,-31.5001 32.7379,-31.5001 35.2379,-31.5 32.7379,-29.2501 37.7379,-31.5 37.7379,-31.5\" stroke=\"black\"/>\n",
       "</g>\n",
       "<!-- 0 -->\n",
       "<g class=\"node\" id=\"node2\"><title>0</title>\n",
       "<path d=\"M121.333,-60C121.333,-60 111.667,-60 111.667,-60 108.833,-60 106,-57.1667 106,-54.3333 106,-54.3333 106,-48.6667 106,-48.6667 106,-45.8333 108.833,-43 111.667,-43 111.667,-43 121.333,-43 121.333,-43 124.167,-43 127,-45.8333 127,-48.6667 127,-48.6667 127,-54.3333 127,-54.3333 127,-57.1667 124.167,-60 121.333,-60\" fill=\"none\" stroke=\"black\"/>\n",
       "<text font-family=\"Courier,monospace\" font-size=\"10.00\" text-anchor=\"start\" x=\"110\" y=\"-49\">q1</text>\n",
       "</g>\n",
       "<!-- 1 -->\n",
       "<g class=\"node\" id=\"node3\"><title>1</title>\n",
       "<path d=\"M194.333,-60C194.333,-60 184.667,-60 184.667,-60 181.833,-60 179,-57.1667 179,-54.3333 179,-54.3333 179,-48.6667 179,-48.6667 179,-45.8333 181.833,-43 184.667,-43 184.667,-43 194.333,-43 194.333,-43 197.167,-43 200,-45.8333 200,-48.6667 200,-48.6667 200,-54.3333 200,-54.3333 200,-57.1667 197.167,-60 194.333,-60\" fill=\"none\" stroke=\"black\"/>\n",
       "<text font-family=\"Courier,monospace\" font-size=\"10.00\" text-anchor=\"start\" x=\"183\" y=\"-49\">q2</text>\n",
       "</g>\n",
       "<!-- 0&#45;&gt;1 -->\n",
       "<g class=\"edge\" id=\"edge2\"><title>0-&gt;1</title>\n",
       "<path d=\"M127.075,-51.5C138.971,-51.5 159.407,-51.5 173.417,-51.5\" fill=\"none\" stroke=\"black\"/>\n",
       "<polygon fill=\"black\" points=\"178.621,-51.5 173.621,-53.7501 176.121,-51.5 173.621,-51.5001 173.621,-51.5001 173.621,-51.5001 176.121,-51.5 173.621,-49.2501 178.621,-51.5 178.621,-51.5\" stroke=\"black\"/>\n",
       "<text font-family=\"Courier,monospace\" font-size=\"9.00\" text-anchor=\"start\" x=\"148\" y=\"-57.3\">a</text>\n",
       "</g>\n",
       "<!-- 2 -->\n",
       "<g class=\"node\" id=\"node4\"><title>2</title>\n",
       "<path d=\"M266.333,-60C266.333,-60 256.667,-60 256.667,-60 253.833,-60 251,-57.1667 251,-54.3333 251,-54.3333 251,-48.6667 251,-48.6667 251,-45.8333 253.833,-43 256.667,-43 256.667,-43 266.333,-43 266.333,-43 269.167,-43 272,-45.8333 272,-48.6667 272,-48.6667 272,-54.3333 272,-54.3333 272,-57.1667 269.167,-60 266.333,-60\" fill=\"none\" stroke=\"black\"/>\n",
       "<text font-family=\"Courier,monospace\" font-size=\"10.00\" text-anchor=\"start\" x=\"255\" y=\"-49\">q3</text>\n",
       "</g>\n",
       "<!-- 1&#45;&gt;2 -->\n",
       "<g class=\"edge\" id=\"edge4\"><title>1-&gt;2</title>\n",
       "<path d=\"M200.233,-51.5C212.04,-51.5 232.06,-51.5 245.761,-51.5\" fill=\"none\" stroke=\"black\"/>\n",
       "<polygon fill=\"black\" points=\"250.849,-51.5 245.85,-53.7501 248.349,-51.5 245.849,-51.5001 245.849,-51.5001 245.849,-51.5001 248.349,-51.5 245.849,-49.2501 250.849,-51.5 250.849,-51.5\" stroke=\"black\"/>\n",
       "<text font-family=\"Courier,monospace\" font-size=\"9.00\" text-anchor=\"start\" x=\"225.5\" y=\"-57.3\">ε</text>\n",
       "</g>\n",
       "<!-- 3 -->\n",
       "<g class=\"node\" id=\"node5\"><title>3</title>\n",
       "<path d=\"M339.333,-60C339.333,-60 329.667,-60 329.667,-60 326.833,-60 324,-57.1667 324,-54.3333 324,-54.3333 324,-48.6667 324,-48.6667 324,-45.8333 326.833,-43 329.667,-43 329.667,-43 339.333,-43 339.333,-43 342.167,-43 345,-45.8333 345,-48.6667 345,-48.6667 345,-54.3333 345,-54.3333 345,-57.1667 342.167,-60 339.333,-60\" fill=\"none\" stroke=\"black\"/>\n",
       "<path d=\"M340.667,-64C340.667,-64 328.333,-64 328.333,-64 324.167,-64 320,-59.8333 320,-55.6667 320,-55.6667 320,-47.3333 320,-47.3333 320,-43.1667 324.167,-39 328.333,-39 328.333,-39 340.667,-39 340.667,-39 344.833,-39 349,-43.1667 349,-47.3333 349,-47.3333 349,-55.6667 349,-55.6667 349,-59.8333 344.833,-64 340.667,-64\" fill=\"none\" stroke=\"black\"/>\n",
       "<text font-family=\"Courier,monospace\" font-size=\"10.00\" text-anchor=\"start\" x=\"328\" y=\"-49\">q4</text>\n",
       "</g>\n",
       "<!-- 2&#45;&gt;3 -->\n",
       "<g class=\"edge\" id=\"edge3\"><title>2-&gt;3</title>\n",
       "<path d=\"M272.075,-51.5C282.969,-51.5 301.024,-51.5 314.747,-51.5\" fill=\"none\" stroke=\"black\"/>\n",
       "<polygon fill=\"black\" points=\"319.956,-51.5 314.956,-53.7501 317.456,-51.5 314.956,-51.5001 314.956,-51.5001 314.956,-51.5001 317.456,-51.5 314.956,-49.2501 319.956,-51.5 319.956,-51.5\" stroke=\"black\"/>\n",
       "<text font-family=\"Courier,monospace\" font-size=\"9.00\" text-anchor=\"start\" x=\"293\" y=\"-57.3\">b</text>\n",
       "</g>\n",
       "<!-- 4 -->\n",
       "<g class=\"node\" id=\"node6\"><title>4</title>\n",
       "<path d=\"M121.333,-21C121.333,-21 111.667,-21 111.667,-21 108.833,-21 106,-18.1667 106,-15.3333 106,-15.3333 106,-9.66667 106,-9.66667 106,-6.83333 108.833,-4 111.667,-4 111.667,-4 121.333,-4 121.333,-4 124.167,-4 127,-6.83333 127,-9.66667 127,-9.66667 127,-15.3333 127,-15.3333 127,-18.1667 124.167,-21 121.333,-21\" fill=\"none\" stroke=\"black\"/>\n",
       "<text font-family=\"Courier,monospace\" font-size=\"10.00\" text-anchor=\"start\" x=\"110\" y=\"-10\">q5</text>\n",
       "</g>\n",
       "<!-- 5 -->\n",
       "<g class=\"node\" id=\"node7\"><title>5</title>\n",
       "<path d=\"M194.333,-21C194.333,-21 184.667,-21 184.667,-21 181.833,-21 179,-18.1667 179,-15.3333 179,-15.3333 179,-9.66667 179,-9.66667 179,-6.83333 181.833,-4 184.667,-4 184.667,-4 194.333,-4 194.333,-4 197.167,-4 200,-6.83333 200,-9.66667 200,-9.66667 200,-15.3333 200,-15.3333 200,-18.1667 197.167,-21 194.333,-21\" fill=\"none\" stroke=\"black\"/>\n",
       "<path d=\"M195.667,-25C195.667,-25 183.333,-25 183.333,-25 179.167,-25 175,-20.8333 175,-16.6667 175,-16.6667 175,-8.33333 175,-8.33333 175,-4.16667 179.167,-0 183.333,-0 183.333,-0 195.667,-0 195.667,-0 199.833,-0 204,-4.16667 204,-8.33333 204,-8.33333 204,-16.6667 204,-16.6667 204,-20.8333 199.833,-25 195.667,-25\" fill=\"none\" stroke=\"black\"/>\n",
       "<text font-family=\"Courier,monospace\" font-size=\"10.00\" text-anchor=\"start\" x=\"183\" y=\"-10\">q6</text>\n",
       "</g>\n",
       "<!-- 4&#45;&gt;5 -->\n",
       "<g class=\"edge\" id=\"edge5\"><title>4-&gt;5</title>\n",
       "<path d=\"M127.075,-12.5C137.969,-12.5 156.024,-12.5 169.747,-12.5\" fill=\"none\" stroke=\"black\"/>\n",
       "<polygon fill=\"black\" points=\"174.956,-12.5 169.956,-14.7501 172.456,-12.5 169.956,-12.5001 169.956,-12.5001 169.956,-12.5001 172.456,-12.5 169.956,-10.2501 174.956,-12.5 174.956,-12.5\" stroke=\"black\"/>\n",
       "<text font-family=\"Courier,monospace\" font-size=\"9.00\" text-anchor=\"start\" x=\"148\" y=\"-18.3\">a</text>\n",
       "</g>\n",
       "<!-- 6&#45;&gt;0 -->\n",
       "<g class=\"edge\" id=\"edge6\"><title>6-&gt;0</title>\n",
       "<path d=\"M59.2385,-34.4511C70.1571,-37.7597 87.9882,-43.1631 100.648,-46.9993\" fill=\"none\" stroke=\"black\"/>\n",
       "<polygon fill=\"black\" points=\"105.722,-48.5368 100.284,-49.24 103.329,-47.8118 100.936,-47.0867 100.936,-47.0867 100.936,-47.0867 103.329,-47.8118 101.589,-44.9334 105.722,-48.5368 105.722,-48.5368\" stroke=\"black\"/>\n",
       "<text font-family=\"Courier,monospace\" font-size=\"9.00\" text-anchor=\"start\" x=\"80.5\" y=\"-49.3\">ε</text>\n",
       "</g>\n",
       "<!-- 6&#45;&gt;4 -->\n",
       "<g class=\"edge\" id=\"edge7\"><title>6-&gt;4</title>\n",
       "<path d=\"M59.0036,-23.3859C64.0132,-19.6243 70.4641,-15.5416 77,-13.5 84.527,-11.1488 93.2899,-10.7517 100.552,-11.0073\" fill=\"none\" stroke=\"black\"/>\n",
       "<polygon fill=\"black\" points=\"105.768,-11.3084 100.647,-13.2664 103.272,-11.1643 100.777,-11.0201 100.777,-11.0201 100.777,-11.0201 103.272,-11.1643 100.906,-8.77389 105.768,-11.3084 105.768,-11.3084\" stroke=\"black\"/>\n",
       "<text font-family=\"Courier,monospace\" font-size=\"9.00\" text-anchor=\"start\" x=\"80.5\" y=\"-19.3\">ε</text>\n",
       "</g>\n",
       "</g>\n",
       "</svg>"
      ],
      "text/plain": [
       "<IPython.core.display.SVG object>"
      ]
     },
     "metadata": {},
     "output_type": "display_data"
    },
    {
     "data": {
      "text/html": [
       "subexpression: (a b|a)*"
      ],
      "text/plain": [
       "<IPython.core.display.HTML object>"
      ]
     },
     "metadata": {},
     "output_type": "display_data"
    },
    {
     "data": {
      "image/svg+xml": [
       "<svg height=\"140pt\" viewBox=\"0.00 0.00 425.00 139.50\" width=\"425pt\" xmlns=\"http://www.w3.org/2000/svg\" xmlns:xlink=\"http://www.w3.org/1999/xlink\">\n",
       "<g class=\"graph\" id=\"graph0\" transform=\"scale(1 1) rotate(0) translate(4 135.504)\">\n",
       "<title>%3</title>\n",
       "<polygon fill=\"white\" points=\"-4,4 -4,-135.504 421,-135.504 421,4 -4,4\" stroke=\"none\"/>\n",
       "<!-- _START -->\n",
       "<g class=\"node\" id=\"node1\"><title>_START</title>\n",
       "</g>\n",
       "<!-- 7 -->\n",
       "<g class=\"node\" id=\"node9\"><title>7</title>\n",
       "<path d=\"M53.3333,-65.0036C53.3333,-65.0036 43.6667,-65.0036 43.6667,-65.0036 40.8333,-65.0036 38,-62.1702 38,-59.3369 38,-59.3369 38,-53.6702 38,-53.6702 38,-50.8369 40.8333,-48.0036 43.6667,-48.0036 43.6667,-48.0036 53.3333,-48.0036 53.3333,-48.0036 56.1667,-48.0036 59,-50.8369 59,-53.6702 59,-53.6702 59,-59.3369 59,-59.3369 59,-62.1702 56.1667,-65.0036 53.3333,-65.0036\" fill=\"none\" stroke=\"black\"/>\n",
       "<text font-family=\"Courier,monospace\" font-size=\"10.00\" text-anchor=\"start\" x=\"42\" y=\"-54.0036\">q8</text>\n",
       "</g>\n",
       "<!-- _START&#45;&gt;7 -->\n",
       "<g class=\"edge\" id=\"edge1\"><title>_START-&gt;7</title>\n",
       "<path d=\"M1.13339,-56.5036C2.79277,-56.5036 19.5956,-56.5036 32.5011,-56.5036\" fill=\"none\" stroke=\"black\"/>\n",
       "<polygon fill=\"black\" points=\"37.7379,-56.5036 32.738,-58.7537 35.2379,-56.5036 32.7379,-56.5037 32.7379,-56.5037 32.7379,-56.5037 35.2379,-56.5036 32.7379,-54.2537 37.7379,-56.5036 37.7379,-56.5036\" stroke=\"black\"/>\n",
       "</g>\n",
       "<!-- 0 -->\n",
       "<g class=\"node\" id=\"node2\"><title>0</title>\n",
       "<path d=\"M189.333,-83.0036C189.333,-83.0036 179.667,-83.0036 179.667,-83.0036 176.833,-83.0036 174,-80.1702 174,-77.3369 174,-77.3369 174,-71.6702 174,-71.6702 174,-68.8369 176.833,-66.0036 179.667,-66.0036 179.667,-66.0036 189.333,-66.0036 189.333,-66.0036 192.167,-66.0036 195,-68.8369 195,-71.6702 195,-71.6702 195,-77.3369 195,-77.3369 195,-80.1702 192.167,-83.0036 189.333,-83.0036\" fill=\"none\" stroke=\"black\"/>\n",
       "<text font-family=\"Courier,monospace\" font-size=\"10.00\" text-anchor=\"start\" x=\"178\" y=\"-72.0036\">q1</text>\n",
       "</g>\n",
       "<!-- 1 -->\n",
       "<g class=\"node\" id=\"node3\"><title>1</title>\n",
       "<path d=\"M262.333,-79.0036C262.333,-79.0036 252.667,-79.0036 252.667,-79.0036 249.833,-79.0036 247,-76.1702 247,-73.3369 247,-73.3369 247,-67.6702 247,-67.6702 247,-64.8369 249.833,-62.0036 252.667,-62.0036 252.667,-62.0036 262.333,-62.0036 262.333,-62.0036 265.167,-62.0036 268,-64.8369 268,-67.6702 268,-67.6702 268,-73.3369 268,-73.3369 268,-76.1702 265.167,-79.0036 262.333,-79.0036\" fill=\"none\" stroke=\"black\"/>\n",
       "<text font-family=\"Courier,monospace\" font-size=\"10.00\" text-anchor=\"start\" x=\"251\" y=\"-68.0036\">q2</text>\n",
       "</g>\n",
       "<!-- 0&#45;&gt;1 -->\n",
       "<g class=\"edge\" id=\"edge2\"><title>0-&gt;1</title>\n",
       "<path d=\"M195.075,-73.9641C206.971,-73.2939 227.407,-72.1426 241.417,-71.3533\" fill=\"none\" stroke=\"black\"/>\n",
       "<polygon fill=\"black\" points=\"246.621,-71.0601 241.755,-73.5879 244.125,-71.2008 241.629,-71.3415 241.629,-71.3415 241.629,-71.3415 244.125,-71.2008 241.502,-69.095 246.621,-71.0601 246.621,-71.0601\" stroke=\"black\"/>\n",
       "<text font-family=\"Courier,monospace\" font-size=\"9.00\" text-anchor=\"start\" x=\"216\" y=\"-79.3036\">a</text>\n",
       "</g>\n",
       "<!-- 2 -->\n",
       "<g class=\"node\" id=\"node4\"><title>2</title>\n",
       "<path d=\"M334.333,-85.0036C334.333,-85.0036 324.667,-85.0036 324.667,-85.0036 321.833,-85.0036 319,-82.1702 319,-79.3369 319,-79.3369 319,-73.6702 319,-73.6702 319,-70.8369 321.833,-68.0036 324.667,-68.0036 324.667,-68.0036 334.333,-68.0036 334.333,-68.0036 337.167,-68.0036 340,-70.8369 340,-73.6702 340,-73.6702 340,-79.3369 340,-79.3369 340,-82.1702 337.167,-85.0036 334.333,-85.0036\" fill=\"none\" stroke=\"black\"/>\n",
       "<text font-family=\"Courier,monospace\" font-size=\"10.00\" text-anchor=\"start\" x=\"323\" y=\"-74.0036\">q3</text>\n",
       "</g>\n",
       "<!-- 1&#45;&gt;2 -->\n",
       "<g class=\"edge\" id=\"edge4\"><title>1-&gt;2</title>\n",
       "<path d=\"M268.233,-71.3378C280.04,-72.3498 300.06,-74.0658 313.761,-75.2402\" fill=\"none\" stroke=\"black\"/>\n",
       "<polygon fill=\"black\" points=\"318.849,-75.6764 313.676,-77.4911 316.359,-75.4628 313.868,-75.2493 313.868,-75.2493 313.868,-75.2493 316.359,-75.4628 314.06,-73.0075 318.849,-75.6764 318.849,-75.6764\" stroke=\"black\"/>\n",
       "<text font-family=\"Courier,monospace\" font-size=\"9.00\" text-anchor=\"start\" x=\"293.5\" y=\"-80.3036\">ε</text>\n",
       "</g>\n",
       "<!-- 3 -->\n",
       "<g class=\"node\" id=\"node5\"><title>3</title>\n",
       "<path d=\"M407.333,-106.004C407.333,-106.004 397.667,-106.004 397.667,-106.004 394.833,-106.004 392,-103.17 392,-100.337 392,-100.337 392,-94.6702 392,-94.6702 392,-91.8369 394.833,-89.0036 397.667,-89.0036 397.667,-89.0036 407.333,-89.0036 407.333,-89.0036 410.167,-89.0036 413,-91.8369 413,-94.6702 413,-94.6702 413,-100.337 413,-100.337 413,-103.17 410.167,-106.004 407.333,-106.004\" fill=\"none\" stroke=\"black\"/>\n",
       "<path d=\"M408.667,-110.004C408.667,-110.004 396.333,-110.004 396.333,-110.004 392.167,-110.004 388,-105.837 388,-101.67 388,-101.67 388,-93.3369 388,-93.3369 388,-89.1702 392.167,-85.0036 396.333,-85.0036 396.333,-85.0036 408.667,-85.0036 408.667,-85.0036 412.833,-85.0036 417,-89.1702 417,-93.3369 417,-93.3369 417,-101.67 417,-101.67 417,-105.837 412.833,-110.004 408.667,-110.004\" fill=\"none\" stroke=\"black\"/>\n",
       "<text font-family=\"Courier,monospace\" font-size=\"10.00\" text-anchor=\"start\" x=\"396\" y=\"-95.0036\">q4</text>\n",
       "</g>\n",
       "<!-- 2&#45;&gt;3 -->\n",
       "<g class=\"edge\" id=\"edge3\"><title>2-&gt;3</title>\n",
       "<path d=\"M340.015,-78.2824C348.077,-79.8819 359.903,-82.4463 370,-85.5036 374.267,-86.7956 378.785,-88.3814 383.025,-89.9718\" fill=\"none\" stroke=\"black\"/>\n",
       "<polygon fill=\"black\" points=\"387.844,-91.8234 382.37,-92.1304 385.511,-90.9267 383.177,-90.0301 383.177,-90.0301 383.177,-90.0301 385.511,-90.9267 383.984,-87.9298 387.844,-91.8234 387.844,-91.8234\" stroke=\"black\"/>\n",
       "<text font-family=\"Courier,monospace\" font-size=\"9.00\" text-anchor=\"start\" x=\"361\" y=\"-91.3036\">b</text>\n",
       "</g>\n",
       "<!-- 6 -->\n",
       "<g class=\"node\" id=\"node8\"><title>6</title>\n",
       "<path d=\"M121.333,-65.0036C121.333,-65.0036 111.667,-65.0036 111.667,-65.0036 108.833,-65.0036 106,-62.1702 106,-59.3369 106,-59.3369 106,-53.6702 106,-53.6702 106,-50.8369 108.833,-48.0036 111.667,-48.0036 111.667,-48.0036 121.333,-48.0036 121.333,-48.0036 124.167,-48.0036 127,-50.8369 127,-53.6702 127,-53.6702 127,-59.3369 127,-59.3369 127,-62.1702 124.167,-65.0036 121.333,-65.0036\" fill=\"none\" stroke=\"black\"/>\n",
       "<text font-family=\"Courier,monospace\" font-size=\"10.00\" text-anchor=\"start\" x=\"110\" y=\"-54.0036\">q7</text>\n",
       "</g>\n",
       "<!-- 3&#45;&gt;6 -->\n",
       "<g class=\"edge\" id=\"edge6\"><title>3-&gt;6</title>\n",
       "<path d=\"M387.883,-103.1C373.777,-108.384 350.973,-115.504 330.5,-115.504 183.5,-115.504 183.5,-115.504 183.5,-115.504 156.246,-115.504 135.081,-87.1944 124.647,-69.7949\" fill=\"none\" stroke=\"black\"/>\n",
       "<polygon fill=\"black\" points=\"121.992,-65.2092 126.444,-68.4091 123.244,-67.3728 124.497,-69.5364 124.497,-69.5364 124.497,-69.5364 123.244,-67.3728 122.55,-70.6637 121.992,-65.2092 121.992,-65.2092\" stroke=\"black\"/>\n",
       "<text font-family=\"Courier,monospace\" font-size=\"9.00\" text-anchor=\"start\" x=\"255.5\" y=\"-121.304\">ε</text>\n",
       "</g>\n",
       "<!-- 4 -->\n",
       "<g class=\"node\" id=\"node6\"><title>4</title>\n",
       "<path d=\"M189.333,-47.0036C189.333,-47.0036 179.667,-47.0036 179.667,-47.0036 176.833,-47.0036 174,-44.1702 174,-41.3369 174,-41.3369 174,-35.6702 174,-35.6702 174,-32.8369 176.833,-30.0036 179.667,-30.0036 179.667,-30.0036 189.333,-30.0036 189.333,-30.0036 192.167,-30.0036 195,-32.8369 195,-35.6702 195,-35.6702 195,-41.3369 195,-41.3369 195,-44.1702 192.167,-47.0036 189.333,-47.0036\" fill=\"none\" stroke=\"black\"/>\n",
       "<text font-family=\"Courier,monospace\" font-size=\"10.00\" text-anchor=\"start\" x=\"178\" y=\"-36.0036\">q5</text>\n",
       "</g>\n",
       "<!-- 5 -->\n",
       "<g class=\"node\" id=\"node7\"><title>5</title>\n",
       "<path d=\"M262.333,-22.0036C262.333,-22.0036 252.667,-22.0036 252.667,-22.0036 249.833,-22.0036 247,-19.1702 247,-16.3369 247,-16.3369 247,-10.6702 247,-10.6702 247,-7.8369 249.833,-5.00356 252.667,-5.00356 252.667,-5.00356 262.333,-5.00356 262.333,-5.00356 265.167,-5.00356 268,-7.8369 268,-10.6702 268,-10.6702 268,-16.3369 268,-16.3369 268,-19.1702 265.167,-22.0036 262.333,-22.0036\" fill=\"none\" stroke=\"black\"/>\n",
       "<path d=\"M263.667,-26.0036C263.667,-26.0036 251.333,-26.0036 251.333,-26.0036 247.167,-26.0036 243,-21.8369 243,-17.6702 243,-17.6702 243,-9.3369 243,-9.3369 243,-5.17023 247.167,-1.00356 251.333,-1.00356 251.333,-1.00356 263.667,-1.00356 263.667,-1.00356 267.833,-1.00356 272,-5.17023 272,-9.3369 272,-9.3369 272,-17.6702 272,-17.6702 272,-21.8369 267.833,-26.0036 263.667,-26.0036\" fill=\"none\" stroke=\"black\"/>\n",
       "<text font-family=\"Courier,monospace\" font-size=\"10.00\" text-anchor=\"start\" x=\"251\" y=\"-11.0036\">q6</text>\n",
       "</g>\n",
       "<!-- 4&#45;&gt;5 -->\n",
       "<g class=\"edge\" id=\"edge5\"><title>4-&gt;5</title>\n",
       "<path d=\"M195.075,-35.132C206.065,-31.2623 224.344,-24.8262 238.11,-19.9788\" fill=\"none\" stroke=\"black\"/>\n",
       "<polygon fill=\"black\" points=\"242.956,-18.2726 238.987,-22.0555 240.598,-19.1029 238.24,-19.9332 238.24,-19.9332 238.24,-19.9332 240.598,-19.1029 237.493,-17.811 242.956,-18.2726 242.956,-18.2726\" stroke=\"black\"/>\n",
       "<text font-family=\"Courier,monospace\" font-size=\"9.00\" text-anchor=\"start\" x=\"216\" y=\"-34.3036\">a</text>\n",
       "</g>\n",
       "<!-- 5&#45;&gt;6 -->\n",
       "<g class=\"edge\" id=\"edge9\"><title>5-&gt;6</title>\n",
       "<path d=\"M242.845,-8.22424C226.052,-2.57278 196.953,4.45105 174,-4.50356 153.916,-12.3392 136.659,-31.0263 126.673,-43.728\" fill=\"none\" stroke=\"black\"/>\n",
       "<polygon fill=\"black\" points=\"123.571,-47.7817 124.823,-42.4434 125.091,-45.7962 126.61,-43.8107 126.61,-43.8107 126.61,-43.8107 125.091,-45.7962 128.397,-45.1779 123.571,-47.7817 123.571,-47.7817\" stroke=\"black\"/>\n",
       "<text font-family=\"Courier,monospace\" font-size=\"9.00\" text-anchor=\"start\" x=\"182.5\" y=\"-10.3036\">ε</text>\n",
       "</g>\n",
       "<!-- 6&#45;&gt;0 -->\n",
       "<g class=\"edge\" id=\"edge7\"><title>6-&gt;0</title>\n",
       "<path d=\"M127.239,-59.1595C138.157,-62.1373 155.988,-67.0004 168.648,-70.453\" fill=\"none\" stroke=\"black\"/>\n",
       "<polygon fill=\"black\" points=\"173.722,-71.8367 168.306,-72.6918 171.31,-71.1789 168.898,-70.521 168.898,-70.521 168.898,-70.521 171.31,-71.1789 169.49,-68.3503 173.722,-71.8367 173.722,-71.8367\" stroke=\"black\"/>\n",
       "<text font-family=\"Courier,monospace\" font-size=\"9.00\" text-anchor=\"start\" x=\"148.5\" y=\"-73.3036\">ε</text>\n",
       "</g>\n",
       "<!-- 6&#45;&gt;4 -->\n",
       "<g class=\"edge\" id=\"edge8\"><title>6-&gt;4</title>\n",
       "<path d=\"M127.2,-51.5408C132.366,-49.0868 138.898,-46.2783 145,-44.5036 152.661,-42.2756 161.434,-40.827 168.669,-39.9125\" fill=\"none\" stroke=\"black\"/>\n",
       "<polygon fill=\"black\" points=\"173.858,-39.3133 169.149,-42.1221 171.374,-39.6002 168.891,-39.887 168.891,-39.887 168.891,-39.887 171.374,-39.6002 168.633,-37.6519 173.858,-39.3133 173.858,-39.3133\" stroke=\"black\"/>\n",
       "<text font-family=\"Courier,monospace\" font-size=\"9.00\" text-anchor=\"start\" x=\"148.5\" y=\"-50.3036\">ε</text>\n",
       "</g>\n",
       "<!-- 7&#45;&gt;6 -->\n",
       "<g class=\"edge\" id=\"edge10\"><title>7-&gt;6</title>\n",
       "<path d=\"M59.2385,-56.5036C70.1571,-56.5036 87.9882,-56.5036 100.648,-56.5036\" fill=\"none\" stroke=\"black\"/>\n",
       "<polygon fill=\"black\" points=\"105.722,-56.5036 100.722,-58.7537 103.222,-56.5036 100.722,-56.5037 100.722,-56.5037 100.722,-56.5037 103.222,-56.5036 100.721,-54.2537 105.722,-56.5036 105.722,-56.5036\" stroke=\"black\"/>\n",
       "<text font-family=\"Courier,monospace\" font-size=\"9.00\" text-anchor=\"start\" x=\"80.5\" y=\"-62.3036\">ε</text>\n",
       "</g>\n",
       "</g>\n",
       "</svg>"
      ],
      "text/plain": [
       "<IPython.core.display.SVG object>"
      ]
     },
     "metadata": {},
     "output_type": "display_data"
    }
   ],
   "source": [
    "m = from_regexp('(a b|a)*', display_steps=True)"
   ]
  },
  {
   "cell_type": "code",
   "execution_count": 5,
   "metadata": {
    "collapsed": false
   },
   "outputs": [
    {
     "data": {
      "text/html": [
       "subexpression: a"
      ],
      "text/plain": [
       "<IPython.core.display.HTML object>"
      ]
     },
     "metadata": {},
     "output_type": "display_data"
    },
    {
     "data": {
      "image/svg+xml": [
       "<svg height=\"37pt\" viewBox=\"0.00 0.00 156.00 36.50\" width=\"156pt\" xmlns=\"http://www.w3.org/2000/svg\" xmlns:xlink=\"http://www.w3.org/1999/xlink\">\n",
       "<g class=\"graph\" id=\"graph0\" transform=\"scale(1 1) rotate(0) translate(4 32.5)\">\n",
       "<title>%3</title>\n",
       "<polygon fill=\"white\" points=\"-4,4 -4,-32.5 152,-32.5 152,4 -4,4\" stroke=\"none\"/>\n",
       "<!-- _START -->\n",
       "<g class=\"node\" id=\"node1\"><title>_START</title>\n",
       "</g>\n",
       "<!-- 0 -->\n",
       "<g class=\"node\" id=\"node2\"><title>0</title>\n",
       "<path d=\"M59.3333,-21C59.3333,-21 43.6667,-21 43.6667,-21 40.8333,-21 38,-18.1667 38,-15.3333 38,-15.3333 38,-9.66667 38,-9.66667 38,-6.83333 40.8333,-4 43.6667,-4 43.6667,-4 59.3333,-4 59.3333,-4 62.1667,-4 65,-6.83333 65,-9.66667 65,-9.66667 65,-15.3333 65,-15.3333 65,-18.1667 62.1667,-21 59.3333,-21\" fill=\"none\" stroke=\"black\"/>\n",
       "<text font-family=\"Courier,monospace\" font-size=\"10.00\" text-anchor=\"start\" x=\"42\" y=\"-10\">q01</text>\n",
       "</g>\n",
       "<!-- _START&#45;&gt;0 -->\n",
       "<g class=\"edge\" id=\"edge1\"><title>_START-&gt;0</title>\n",
       "<path d=\"M1.142,-12.5C2.82408,-12.5 19.1237,-12.5 32.5391,-12.5\" fill=\"none\" stroke=\"black\"/>\n",
       "<polygon fill=\"black\" points=\"37.6881,-12.5 32.6882,-14.7501 35.1881,-12.5 32.6881,-12.5001 32.6881,-12.5001 32.6881,-12.5001 35.1881,-12.5 32.6881,-10.2501 37.6881,-12.5 37.6881,-12.5\" stroke=\"black\"/>\n",
       "</g>\n",
       "<!-- 1 -->\n",
       "<g class=\"node\" id=\"node3\"><title>1</title>\n",
       "<path d=\"M138.333,-21C138.333,-21 122.667,-21 122.667,-21 119.833,-21 117,-18.1667 117,-15.3333 117,-15.3333 117,-9.66667 117,-9.66667 117,-6.83333 119.833,-4 122.667,-4 122.667,-4 138.333,-4 138.333,-4 141.167,-4 144,-6.83333 144,-9.66667 144,-9.66667 144,-15.3333 144,-15.3333 144,-18.1667 141.167,-21 138.333,-21\" fill=\"none\" stroke=\"black\"/>\n",
       "<path d=\"M139.667,-25C139.667,-25 121.333,-25 121.333,-25 117.167,-25 113,-20.8333 113,-16.6667 113,-16.6667 113,-8.33333 113,-8.33333 113,-4.16667 117.167,-0 121.333,-0 121.333,-0 139.667,-0 139.667,-0 143.833,-0 148,-4.16667 148,-8.33333 148,-8.33333 148,-16.6667 148,-16.6667 148,-20.8333 143.833,-25 139.667,-25\" fill=\"none\" stroke=\"black\"/>\n",
       "<text font-family=\"Courier,monospace\" font-size=\"10.00\" text-anchor=\"start\" x=\"121\" y=\"-10\">q02</text>\n",
       "</g>\n",
       "<!-- 0&#45;&gt;1 -->\n",
       "<g class=\"edge\" id=\"edge2\"><title>0-&gt;1</title>\n",
       "<path d=\"M65.215,-12.5C76.6787,-12.5 93.7871,-12.5 107.473,-12.5\" fill=\"none\" stroke=\"black\"/>\n",
       "<polygon fill=\"black\" points=\"112.721,-12.5 107.721,-14.7501 110.221,-12.5 107.721,-12.5001 107.721,-12.5001 107.721,-12.5001 110.221,-12.5 107.721,-10.2501 112.721,-12.5 112.721,-12.5\" stroke=\"black\"/>\n",
       "<text font-family=\"Courier,monospace\" font-size=\"9.00\" text-anchor=\"start\" x=\"86\" y=\"-18.3\">a</text>\n",
       "</g>\n",
       "</g>\n",
       "</svg>"
      ],
      "text/plain": [
       "<IPython.core.display.SVG object>"
      ]
     },
     "metadata": {},
     "output_type": "display_data"
    },
    {
     "data": {
      "text/html": [
       "subexpression: b"
      ],
      "text/plain": [
       "<IPython.core.display.HTML object>"
      ]
     },
     "metadata": {},
     "output_type": "display_data"
    },
    {
     "data": {
      "image/svg+xml": [
       "<svg height=\"37pt\" viewBox=\"0.00 0.00 156.00 36.50\" width=\"156pt\" xmlns=\"http://www.w3.org/2000/svg\" xmlns:xlink=\"http://www.w3.org/1999/xlink\">\n",
       "<g class=\"graph\" id=\"graph0\" transform=\"scale(1 1) rotate(0) translate(4 32.5)\">\n",
       "<title>%3</title>\n",
       "<polygon fill=\"white\" points=\"-4,4 -4,-32.5 152,-32.5 152,4 -4,4\" stroke=\"none\"/>\n",
       "<!-- _START -->\n",
       "<g class=\"node\" id=\"node1\"><title>_START</title>\n",
       "</g>\n",
       "<!-- 0 -->\n",
       "<g class=\"node\" id=\"node2\"><title>0</title>\n",
       "<path d=\"M59.3333,-21C59.3333,-21 43.6667,-21 43.6667,-21 40.8333,-21 38,-18.1667 38,-15.3333 38,-15.3333 38,-9.66667 38,-9.66667 38,-6.83333 40.8333,-4 43.6667,-4 43.6667,-4 59.3333,-4 59.3333,-4 62.1667,-4 65,-6.83333 65,-9.66667 65,-9.66667 65,-15.3333 65,-15.3333 65,-18.1667 62.1667,-21 59.3333,-21\" fill=\"none\" stroke=\"black\"/>\n",
       "<text font-family=\"Courier,monospace\" font-size=\"10.00\" text-anchor=\"start\" x=\"42\" y=\"-10\">q03</text>\n",
       "</g>\n",
       "<!-- _START&#45;&gt;0 -->\n",
       "<g class=\"edge\" id=\"edge1\"><title>_START-&gt;0</title>\n",
       "<path d=\"M1.142,-12.5C2.82408,-12.5 19.1237,-12.5 32.5391,-12.5\" fill=\"none\" stroke=\"black\"/>\n",
       "<polygon fill=\"black\" points=\"37.6881,-12.5 32.6882,-14.7501 35.1881,-12.5 32.6881,-12.5001 32.6881,-12.5001 32.6881,-12.5001 35.1881,-12.5 32.6881,-10.2501 37.6881,-12.5 37.6881,-12.5\" stroke=\"black\"/>\n",
       "</g>\n",
       "<!-- 1 -->\n",
       "<g class=\"node\" id=\"node3\"><title>1</title>\n",
       "<path d=\"M138.333,-21C138.333,-21 122.667,-21 122.667,-21 119.833,-21 117,-18.1667 117,-15.3333 117,-15.3333 117,-9.66667 117,-9.66667 117,-6.83333 119.833,-4 122.667,-4 122.667,-4 138.333,-4 138.333,-4 141.167,-4 144,-6.83333 144,-9.66667 144,-9.66667 144,-15.3333 144,-15.3333 144,-18.1667 141.167,-21 138.333,-21\" fill=\"none\" stroke=\"black\"/>\n",
       "<path d=\"M139.667,-25C139.667,-25 121.333,-25 121.333,-25 117.167,-25 113,-20.8333 113,-16.6667 113,-16.6667 113,-8.33333 113,-8.33333 113,-4.16667 117.167,-0 121.333,-0 121.333,-0 139.667,-0 139.667,-0 143.833,-0 148,-4.16667 148,-8.33333 148,-8.33333 148,-16.6667 148,-16.6667 148,-20.8333 143.833,-25 139.667,-25\" fill=\"none\" stroke=\"black\"/>\n",
       "<text font-family=\"Courier,monospace\" font-size=\"10.00\" text-anchor=\"start\" x=\"121\" y=\"-10\">q04</text>\n",
       "</g>\n",
       "<!-- 0&#45;&gt;1 -->\n",
       "<g class=\"edge\" id=\"edge2\"><title>0-&gt;1</title>\n",
       "<path d=\"M65.215,-12.5C76.6787,-12.5 93.7871,-12.5 107.473,-12.5\" fill=\"none\" stroke=\"black\"/>\n",
       "<polygon fill=\"black\" points=\"112.721,-12.5 107.721,-14.7501 110.221,-12.5 107.721,-12.5001 107.721,-12.5001 107.721,-12.5001 110.221,-12.5 107.721,-10.2501 112.721,-12.5 112.721,-12.5\" stroke=\"black\"/>\n",
       "<text font-family=\"Courier,monospace\" font-size=\"9.00\" text-anchor=\"start\" x=\"86\" y=\"-18.3\">b</text>\n",
       "</g>\n",
       "</g>\n",
       "</svg>"
      ],
      "text/plain": [
       "<IPython.core.display.SVG object>"
      ]
     },
     "metadata": {},
     "output_type": "display_data"
    },
    {
     "data": {
      "text/html": [
       "subexpression: a|b"
      ],
      "text/plain": [
       "<IPython.core.display.HTML object>"
      ]
     },
     "metadata": {},
     "output_type": "display_data"
    },
    {
     "data": {
      "image/svg+xml": [
       "<svg height=\"79pt\" viewBox=\"0.00 0.00 230.00 78.50\" width=\"230pt\" xmlns=\"http://www.w3.org/2000/svg\" xmlns:xlink=\"http://www.w3.org/1999/xlink\">\n",
       "<g class=\"graph\" id=\"graph0\" transform=\"scale(1 1) rotate(0) translate(4 74.5)\">\n",
       "<title>%3</title>\n",
       "<polygon fill=\"white\" points=\"-4,4 -4,-74.5 226,-74.5 226,4 -4,4\" stroke=\"none\"/>\n",
       "<!-- _START -->\n",
       "<g class=\"node\" id=\"node1\"><title>_START</title>\n",
       "</g>\n",
       "<!-- 4 -->\n",
       "<g class=\"node\" id=\"node6\"><title>4</title>\n",
       "<path d=\"M59.3333,-42C59.3333,-42 43.6667,-42 43.6667,-42 40.8333,-42 38,-39.1667 38,-36.3333 38,-36.3333 38,-30.6667 38,-30.6667 38,-27.8333 40.8333,-25 43.6667,-25 43.6667,-25 59.3333,-25 59.3333,-25 62.1667,-25 65,-27.8333 65,-30.6667 65,-30.6667 65,-36.3333 65,-36.3333 65,-39.1667 62.1667,-42 59.3333,-42\" fill=\"none\" stroke=\"black\"/>\n",
       "<text font-family=\"Courier,monospace\" font-size=\"10.00\" text-anchor=\"start\" x=\"42\" y=\"-31\">q05</text>\n",
       "</g>\n",
       "<!-- _START&#45;&gt;4 -->\n",
       "<g class=\"edge\" id=\"edge1\"><title>_START-&gt;4</title>\n",
       "<path d=\"M1.142,-33.5C2.82408,-33.5 19.1237,-33.5 32.5391,-33.5\" fill=\"none\" stroke=\"black\"/>\n",
       "<polygon fill=\"black\" points=\"37.6881,-33.5 32.6882,-35.7501 35.1881,-33.5 32.6881,-33.5001 32.6881,-33.5001 32.6881,-33.5001 35.1881,-33.5 32.6881,-31.2501 37.6881,-33.5 37.6881,-33.5\" stroke=\"black\"/>\n",
       "</g>\n",
       "<!-- 0 -->\n",
       "<g class=\"node\" id=\"node2\"><title>0</title>\n",
       "<path d=\"M133.333,-63C133.333,-63 117.667,-63 117.667,-63 114.833,-63 112,-60.1667 112,-57.3333 112,-57.3333 112,-51.6667 112,-51.6667 112,-48.8333 114.833,-46 117.667,-46 117.667,-46 133.333,-46 133.333,-46 136.167,-46 139,-48.8333 139,-51.6667 139,-51.6667 139,-57.3333 139,-57.3333 139,-60.1667 136.167,-63 133.333,-63\" fill=\"none\" stroke=\"black\"/>\n",
       "<text font-family=\"Courier,monospace\" font-size=\"10.00\" text-anchor=\"start\" x=\"116\" y=\"-52\">q01</text>\n",
       "</g>\n",
       "<!-- 1 -->\n",
       "<g class=\"node\" id=\"node3\"><title>1</title>\n",
       "<path d=\"M212.333,-64C212.333,-64 196.667,-64 196.667,-64 193.833,-64 191,-61.1667 191,-58.3333 191,-58.3333 191,-52.6667 191,-52.6667 191,-49.8333 193.833,-47 196.667,-47 196.667,-47 212.333,-47 212.333,-47 215.167,-47 218,-49.8333 218,-52.6667 218,-52.6667 218,-58.3333 218,-58.3333 218,-61.1667 215.167,-64 212.333,-64\" fill=\"none\" stroke=\"black\"/>\n",
       "<path d=\"M213.667,-68C213.667,-68 195.333,-68 195.333,-68 191.167,-68 187,-63.8333 187,-59.6667 187,-59.6667 187,-51.3333 187,-51.3333 187,-47.1667 191.167,-43 195.333,-43 195.333,-43 213.667,-43 213.667,-43 217.833,-43 222,-47.1667 222,-51.3333 222,-51.3333 222,-59.6667 222,-59.6667 222,-63.8333 217.833,-68 213.667,-68\" fill=\"none\" stroke=\"black\"/>\n",
       "<text font-family=\"Courier,monospace\" font-size=\"10.00\" text-anchor=\"start\" x=\"195\" y=\"-53\">q02</text>\n",
       "</g>\n",
       "<!-- 0&#45;&gt;1 -->\n",
       "<g class=\"edge\" id=\"edge3\"><title>0-&gt;1</title>\n",
       "<path d=\"M139.215,-54.6651C150.679,-54.814 167.787,-55.0362 181.473,-55.2139\" fill=\"none\" stroke=\"black\"/>\n",
       "<polygon fill=\"black\" points=\"186.721,-55.2821 181.692,-57.4669 184.221,-55.2496 181.721,-55.2171 181.721,-55.2171 181.721,-55.2171 184.221,-55.2496 181.751,-52.9673 186.721,-55.2821 186.721,-55.2821\" stroke=\"black\"/>\n",
       "<text font-family=\"Courier,monospace\" font-size=\"9.00\" text-anchor=\"start\" x=\"160\" y=\"-60.3\">a</text>\n",
       "</g>\n",
       "<!-- 2 -->\n",
       "<g class=\"node\" id=\"node4\"><title>2</title>\n",
       "<path d=\"M133.333,-23C133.333,-23 117.667,-23 117.667,-23 114.833,-23 112,-20.1667 112,-17.3333 112,-17.3333 112,-11.6667 112,-11.6667 112,-8.83333 114.833,-6 117.667,-6 117.667,-6 133.333,-6 133.333,-6 136.167,-6 139,-8.83333 139,-11.6667 139,-11.6667 139,-17.3333 139,-17.3333 139,-20.1667 136.167,-23 133.333,-23\" fill=\"none\" stroke=\"black\"/>\n",
       "<text font-family=\"Courier,monospace\" font-size=\"10.00\" text-anchor=\"start\" x=\"116\" y=\"-12\">q03</text>\n",
       "</g>\n",
       "<!-- 3 -->\n",
       "<g class=\"node\" id=\"node5\"><title>3</title>\n",
       "<path d=\"M212.333,-21C212.333,-21 196.667,-21 196.667,-21 193.833,-21 191,-18.1667 191,-15.3333 191,-15.3333 191,-9.66667 191,-9.66667 191,-6.83333 193.833,-4 196.667,-4 196.667,-4 212.333,-4 212.333,-4 215.167,-4 218,-6.83333 218,-9.66667 218,-9.66667 218,-15.3333 218,-15.3333 218,-18.1667 215.167,-21 212.333,-21\" fill=\"none\" stroke=\"black\"/>\n",
       "<path d=\"M213.667,-25C213.667,-25 195.333,-25 195.333,-25 191.167,-25 187,-20.8333 187,-16.6667 187,-16.6667 187,-8.33333 187,-8.33333 187,-4.16667 191.167,-0 195.333,-0 195.333,-0 213.667,-0 213.667,-0 217.833,-0 222,-4.16667 222,-8.33333 222,-8.33333 222,-16.6667 222,-16.6667 222,-20.8333 217.833,-25 213.667,-25\" fill=\"none\" stroke=\"black\"/>\n",
       "<text font-family=\"Courier,monospace\" font-size=\"10.00\" text-anchor=\"start\" x=\"195\" y=\"-10\">q04</text>\n",
       "</g>\n",
       "<!-- 2&#45;&gt;3 -->\n",
       "<g class=\"edge\" id=\"edge2\"><title>2-&gt;3</title>\n",
       "<path d=\"M139.215,-14.1697C150.679,-13.872 167.787,-13.4276 181.473,-13.0721\" fill=\"none\" stroke=\"black\"/>\n",
       "<polygon fill=\"black\" points=\"186.721,-12.9358 181.781,-15.315 184.222,-13.0008 181.723,-13.0657 181.723,-13.0657 181.723,-13.0657 184.222,-13.0008 181.664,-10.8165 186.721,-12.9358 186.721,-12.9358\" stroke=\"black\"/>\n",
       "<text font-family=\"Courier,monospace\" font-size=\"9.00\" text-anchor=\"start\" x=\"160\" y=\"-19.3\">b</text>\n",
       "</g>\n",
       "<!-- 4&#45;&gt;0 -->\n",
       "<g class=\"edge\" id=\"edge5\"><title>4-&gt;0</title>\n",
       "<path d=\"M65.0414,-37.1579C76.5656,-40.5191 93.7705,-45.5372 106.712,-49.3119\" fill=\"none\" stroke=\"black\"/>\n",
       "<polygon fill=\"black\" points=\"111.617,-50.7426 106.187,-51.5025 109.217,-50.0426 106.817,-49.3425 106.817,-49.3425 106.817,-49.3425 109.217,-50.0426 107.447,-47.1825 111.617,-50.7426 111.617,-50.7426\" stroke=\"black\"/>\n",
       "<text font-family=\"Courier,monospace\" font-size=\"9.00\" text-anchor=\"start\" x=\"86.5\" y=\"-50.3\">ε</text>\n",
       "</g>\n",
       "<!-- 4&#45;&gt;2 -->\n",
       "<g class=\"edge\" id=\"edge4\"><title>4-&gt;2</title>\n",
       "<path d=\"M63.7358,-24.9981C69.2376,-21.3413 76.1428,-17.4616 83,-15.5 90.5093,-13.3518 99.0981,-12.8433 106.507,-12.9711\" fill=\"none\" stroke=\"black\"/>\n",
       "<polygon fill=\"black\" points=\"111.905,-13.1762 106.823,-15.2346 109.406,-13.0812 106.908,-12.9862 106.908,-12.9862 106.908,-12.9862 109.406,-13.0812 106.994,-10.7379 111.905,-13.1762 111.905,-13.1762\" stroke=\"black\"/>\n",
       "<text font-family=\"Courier,monospace\" font-size=\"9.00\" text-anchor=\"start\" x=\"86.5\" y=\"-21.3\">ε</text>\n",
       "</g>\n",
       "</g>\n",
       "</svg>"
      ],
      "text/plain": [
       "<IPython.core.display.SVG object>"
      ]
     },
     "metadata": {},
     "output_type": "display_data"
    },
    {
     "data": {
      "text/html": [
       "subexpression: (a|b)*"
      ],
      "text/plain": [
       "<IPython.core.display.HTML object>"
      ]
     },
     "metadata": {},
     "output_type": "display_data"
    },
    {
     "data": {
      "image/svg+xml": [
       "<svg height=\"129pt\" viewBox=\"0.00 0.00 304.00 128.73\" width=\"304pt\" xmlns=\"http://www.w3.org/2000/svg\" xmlns:xlink=\"http://www.w3.org/1999/xlink\">\n",
       "<g class=\"graph\" id=\"graph0\" transform=\"scale(1 1) rotate(0) translate(4 124.729)\">\n",
       "<title>%3</title>\n",
       "<polygon fill=\"white\" points=\"-4,4 -4,-124.729 300,-124.729 300,4 -4,4\" stroke=\"none\"/>\n",
       "<!-- _START -->\n",
       "<g class=\"node\" id=\"node1\"><title>_START</title>\n",
       "</g>\n",
       "<!-- 5 -->\n",
       "<g class=\"node\" id=\"node7\"><title>5</title>\n",
       "<path d=\"M59.3333,-64.2286C59.3333,-64.2286 43.6667,-64.2286 43.6667,-64.2286 40.8333,-64.2286 38,-61.3953 38,-58.562 38,-58.562 38,-52.8953 38,-52.8953 38,-50.062 40.8333,-47.2286 43.6667,-47.2286 43.6667,-47.2286 59.3333,-47.2286 59.3333,-47.2286 62.1667,-47.2286 65,-50.062 65,-52.8953 65,-52.8953 65,-58.562 65,-58.562 65,-61.3953 62.1667,-64.2286 59.3333,-64.2286\" fill=\"none\" stroke=\"black\"/>\n",
       "<text font-family=\"Courier,monospace\" font-size=\"10.00\" text-anchor=\"start\" x=\"42\" y=\"-53.2286\">q06</text>\n",
       "</g>\n",
       "<!-- _START&#45;&gt;5 -->\n",
       "<g class=\"edge\" id=\"edge1\"><title>_START-&gt;5</title>\n",
       "<path d=\"M1.142,-55.7286C2.82408,-55.7286 19.1237,-55.7286 32.5391,-55.7286\" fill=\"none\" stroke=\"black\"/>\n",
       "<polygon fill=\"black\" points=\"37.6881,-55.7286 32.6882,-57.9787 35.1881,-55.7287 32.6881,-55.7287 32.6881,-55.7287 32.6881,-55.7287 35.1881,-55.7287 32.6881,-53.4787 37.6881,-55.7286 37.6881,-55.7286\" stroke=\"black\"/>\n",
       "</g>\n",
       "<!-- 0 -->\n",
       "<g class=\"node\" id=\"node2\"><title>0</title>\n",
       "<path d=\"M207.333,-82.2286C207.333,-82.2286 191.667,-82.2286 191.667,-82.2286 188.833,-82.2286 186,-79.3953 186,-76.562 186,-76.562 186,-70.8953 186,-70.8953 186,-68.062 188.833,-65.2286 191.667,-65.2286 191.667,-65.2286 207.333,-65.2286 207.333,-65.2286 210.167,-65.2286 213,-68.062 213,-70.8953 213,-70.8953 213,-76.562 213,-76.562 213,-79.3953 210.167,-82.2286 207.333,-82.2286\" fill=\"none\" stroke=\"black\"/>\n",
       "<text font-family=\"Courier,monospace\" font-size=\"10.00\" text-anchor=\"start\" x=\"190\" y=\"-71.2286\">q01</text>\n",
       "</g>\n",
       "<!-- 1 -->\n",
       "<g class=\"node\" id=\"node3\"><title>1</title>\n",
       "<path d=\"M286.333,-94.2286C286.333,-94.2286 270.667,-94.2286 270.667,-94.2286 267.833,-94.2286 265,-91.3953 265,-88.562 265,-88.562 265,-82.8953 265,-82.8953 265,-80.062 267.833,-77.2286 270.667,-77.2286 270.667,-77.2286 286.333,-77.2286 286.333,-77.2286 289.167,-77.2286 292,-80.062 292,-82.8953 292,-82.8953 292,-88.562 292,-88.562 292,-91.3953 289.167,-94.2286 286.333,-94.2286\" fill=\"none\" stroke=\"black\"/>\n",
       "<path d=\"M287.667,-98.2286C287.667,-98.2286 269.333,-98.2286 269.333,-98.2286 265.167,-98.2286 261,-94.062 261,-89.8953 261,-89.8953 261,-81.562 261,-81.562 261,-77.3953 265.167,-73.2286 269.333,-73.2286 269.333,-73.2286 287.667,-73.2286 287.667,-73.2286 291.833,-73.2286 296,-77.3953 296,-81.562 296,-81.562 296,-89.8953 296,-89.8953 296,-94.062 291.833,-98.2286 287.667,-98.2286\" fill=\"none\" stroke=\"black\"/>\n",
       "<text font-family=\"Courier,monospace\" font-size=\"10.00\" text-anchor=\"start\" x=\"269\" y=\"-83.2286\">q02</text>\n",
       "</g>\n",
       "<!-- 0&#45;&gt;1 -->\n",
       "<g class=\"edge\" id=\"edge4\"><title>0-&gt;1</title>\n",
       "<path d=\"M213.215,-75.7102C224.679,-77.4967 241.787,-80.163 255.473,-82.2959\" fill=\"none\" stroke=\"black\"/>\n",
       "<polygon fill=\"black\" points=\"260.721,-83.1137 255.434,-84.5669 258.251,-82.7287 255.781,-82.3437 255.781,-82.3437 255.781,-82.3437 258.251,-82.7287 256.127,-80.1205 260.721,-83.1137 260.721,-83.1137\" stroke=\"black\"/>\n",
       "<text font-family=\"Courier,monospace\" font-size=\"9.00\" text-anchor=\"start\" x=\"234\" y=\"-86.5286\">a</text>\n",
       "</g>\n",
       "<!-- 4 -->\n",
       "<g class=\"node\" id=\"node6\"><title>4</title>\n",
       "<path d=\"M133.333,-64.2286C133.333,-64.2286 117.667,-64.2286 117.667,-64.2286 114.833,-64.2286 112,-61.3953 112,-58.562 112,-58.562 112,-52.8953 112,-52.8953 112,-50.062 114.833,-47.2286 117.667,-47.2286 117.667,-47.2286 133.333,-47.2286 133.333,-47.2286 136.167,-47.2286 139,-50.062 139,-52.8953 139,-52.8953 139,-58.562 139,-58.562 139,-61.3953 136.167,-64.2286 133.333,-64.2286\" fill=\"none\" stroke=\"black\"/>\n",
       "<text font-family=\"Courier,monospace\" font-size=\"10.00\" text-anchor=\"start\" x=\"116\" y=\"-53.2286\">q05</text>\n",
       "</g>\n",
       "<!-- 1&#45;&gt;4 -->\n",
       "<g class=\"edge\" id=\"edge2\"><title>1-&gt;4</title>\n",
       "<path d=\"M260.76,-94.6448C255.259,-97.124 249.011,-99.4785 243,-100.729 205.086,-108.614 191.164,-104.962 157,-86.7286 148.616,-82.2538 141.103,-74.6847 135.631,-68.1461\" fill=\"none\" stroke=\"black\"/>\n",
       "<polygon fill=\"black\" points=\"132.498,-64.245 137.383,-66.7349 134.064,-66.1943 135.629,-68.1437 135.629,-68.1437 135.629,-68.1437 134.064,-66.1943 133.875,-69.5524 132.498,-64.245 132.498,-64.245\" stroke=\"black\"/>\n",
       "<text font-family=\"Courier,monospace\" font-size=\"9.00\" text-anchor=\"start\" x=\"197.5\" y=\"-110.529\">ε</text>\n",
       "</g>\n",
       "<!-- 2 -->\n",
       "<g class=\"node\" id=\"node4\"><title>2</title>\n",
       "<path d=\"M207.333,-46.2286C207.333,-46.2286 191.667,-46.2286 191.667,-46.2286 188.833,-46.2286 186,-43.3953 186,-40.562 186,-40.562 186,-34.8953 186,-34.8953 186,-32.062 188.833,-29.2286 191.667,-29.2286 191.667,-29.2286 207.333,-29.2286 207.333,-29.2286 210.167,-29.2286 213,-32.062 213,-34.8953 213,-34.8953 213,-40.562 213,-40.562 213,-43.3953 210.167,-46.2286 207.333,-46.2286\" fill=\"none\" stroke=\"black\"/>\n",
       "<text font-family=\"Courier,monospace\" font-size=\"10.00\" text-anchor=\"start\" x=\"190\" y=\"-35.2286\">q03</text>\n",
       "</g>\n",
       "<!-- 3 -->\n",
       "<g class=\"node\" id=\"node5\"><title>3</title>\n",
       "<path d=\"M286.333,-32.2286C286.333,-32.2286 270.667,-32.2286 270.667,-32.2286 267.833,-32.2286 265,-29.3953 265,-26.562 265,-26.562 265,-20.8953 265,-20.8953 265,-18.062 267.833,-15.2286 270.667,-15.2286 270.667,-15.2286 286.333,-15.2286 286.333,-15.2286 289.167,-15.2286 292,-18.062 292,-20.8953 292,-20.8953 292,-26.562 292,-26.562 292,-29.3953 289.167,-32.2286 286.333,-32.2286\" fill=\"none\" stroke=\"black\"/>\n",
       "<path d=\"M287.667,-36.2286C287.667,-36.2286 269.333,-36.2286 269.333,-36.2286 265.167,-36.2286 261,-32.062 261,-27.8953 261,-27.8953 261,-19.562 261,-19.562 261,-15.3953 265.167,-11.2286 269.333,-11.2286 269.333,-11.2286 287.667,-11.2286 287.667,-11.2286 291.833,-11.2286 296,-15.3953 296,-19.562 296,-19.562 296,-27.8953 296,-27.8953 296,-32.062 291.833,-36.2286 287.667,-36.2286\" fill=\"none\" stroke=\"black\"/>\n",
       "<text font-family=\"Courier,monospace\" font-size=\"10.00\" text-anchor=\"start\" x=\"269\" y=\"-21.2286\">q04</text>\n",
       "</g>\n",
       "<!-- 2&#45;&gt;3 -->\n",
       "<g class=\"edge\" id=\"edge3\"><title>2-&gt;3</title>\n",
       "<path d=\"M213.215,-35.4168C224.679,-33.3325 241.787,-30.2219 255.473,-27.7336\" fill=\"none\" stroke=\"black\"/>\n",
       "<polygon fill=\"black\" points=\"260.721,-26.7794 256.204,-29.8876 258.261,-27.2266 255.802,-27.6739 255.802,-27.6739 255.802,-27.6739 258.261,-27.2266 255.399,-25.4602 260.721,-26.7794 260.721,-26.7794\" stroke=\"black\"/>\n",
       "<text font-family=\"Courier,monospace\" font-size=\"9.00\" text-anchor=\"start\" x=\"234\" y=\"-38.5286\">b</text>\n",
       "</g>\n",
       "<!-- 3&#45;&gt;4 -->\n",
       "<g class=\"edge\" id=\"edge6\"><title>3-&gt;4</title>\n",
       "<path d=\"M260.895,-14.5335C242.241,-5.46792 211.27,5.75778 186,-3.72864 165.229,-11.5258 146.957,-30.2231 136.315,-42.9374\" fill=\"none\" stroke=\"black\"/>\n",
       "<polygon fill=\"black\" points=\"133.006,-46.9954 134.422,-41.6985 134.586,-45.0579 136.166,-43.1204 136.166,-43.1204 136.166,-43.1204 134.586,-45.0579 137.909,-44.5423 133.006,-46.9954 133.006,-46.9954\" stroke=\"black\"/>\n",
       "<text font-family=\"Courier,monospace\" font-size=\"9.00\" text-anchor=\"start\" x=\"197.5\" y=\"-9.52864\">ε</text>\n",
       "</g>\n",
       "<!-- 4&#45;&gt;0 -->\n",
       "<g class=\"edge\" id=\"edge8\"><title>4-&gt;0</title>\n",
       "<path d=\"M139.041,-58.864C150.566,-61.745 167.77,-66.0463 180.712,-69.2817\" fill=\"none\" stroke=\"black\"/>\n",
       "<polygon fill=\"black\" points=\"185.617,-70.508 180.221,-71.4781 183.192,-69.9016 180.767,-69.2952 180.767,-69.2952 180.767,-69.2952 183.192,-69.9016 181.312,-67.1124 185.617,-70.508 185.617,-70.508\" stroke=\"black\"/>\n",
       "<text font-family=\"Courier,monospace\" font-size=\"9.00\" text-anchor=\"start\" x=\"160.5\" y=\"-72.5286\">ε</text>\n",
       "</g>\n",
       "<!-- 4&#45;&gt;2 -->\n",
       "<g class=\"edge\" id=\"edge7\"><title>4-&gt;2</title>\n",
       "<path d=\"M137.715,-47.1525C143.212,-43.4794 150.12,-39.6075 157,-37.7286 164.532,-35.6717 173.125,-35.3563 180.53,-35.6766\" fill=\"none\" stroke=\"black\"/>\n",
       "<polygon fill=\"black\" points=\"185.924,-36.0271 180.788,-37.9481 183.429,-35.865 180.934,-35.7028 180.934,-35.7028 180.934,-35.7028 183.429,-35.865 181.08,-33.4575 185.924,-36.0271 185.924,-36.0271\" stroke=\"black\"/>\n",
       "<text font-family=\"Courier,monospace\" font-size=\"9.00\" text-anchor=\"start\" x=\"160.5\" y=\"-43.5286\">ε</text>\n",
       "</g>\n",
       "<!-- 5&#45;&gt;4 -->\n",
       "<g class=\"edge\" id=\"edge5\"><title>5-&gt;4</title>\n",
       "<path d=\"M65.0414,-55.7286C76.4637,-55.7286 93.4664,-55.7286 106.368,-55.7286\" fill=\"none\" stroke=\"black\"/>\n",
       "<polygon fill=\"black\" points=\"111.617,-55.7286 106.618,-57.9787 109.117,-55.7287 106.617,-55.7287 106.617,-55.7287 106.617,-55.7287 109.117,-55.7287 106.617,-53.4787 111.617,-55.7286 111.617,-55.7286\" stroke=\"black\"/>\n",
       "<text font-family=\"Courier,monospace\" font-size=\"9.00\" text-anchor=\"start\" x=\"86.5\" y=\"-61.5286\">ε</text>\n",
       "</g>\n",
       "</g>\n",
       "</svg>"
      ],
      "text/plain": [
       "<IPython.core.display.SVG object>"
      ]
     },
     "metadata": {},
     "output_type": "display_data"
    },
    {
     "data": {
      "text/html": [
       "subexpression: a"
      ],
      "text/plain": [
       "<IPython.core.display.HTML object>"
      ]
     },
     "metadata": {},
     "output_type": "display_data"
    },
    {
     "data": {
      "image/svg+xml": [
       "<svg height=\"37pt\" viewBox=\"0.00 0.00 156.00 36.50\" width=\"156pt\" xmlns=\"http://www.w3.org/2000/svg\" xmlns:xlink=\"http://www.w3.org/1999/xlink\">\n",
       "<g class=\"graph\" id=\"graph0\" transform=\"scale(1 1) rotate(0) translate(4 32.5)\">\n",
       "<title>%3</title>\n",
       "<polygon fill=\"white\" points=\"-4,4 -4,-32.5 152,-32.5 152,4 -4,4\" stroke=\"none\"/>\n",
       "<!-- _START -->\n",
       "<g class=\"node\" id=\"node1\"><title>_START</title>\n",
       "</g>\n",
       "<!-- 0 -->\n",
       "<g class=\"node\" id=\"node2\"><title>0</title>\n",
       "<path d=\"M59.3333,-21C59.3333,-21 43.6667,-21 43.6667,-21 40.8333,-21 38,-18.1667 38,-15.3333 38,-15.3333 38,-9.66667 38,-9.66667 38,-6.83333 40.8333,-4 43.6667,-4 43.6667,-4 59.3333,-4 59.3333,-4 62.1667,-4 65,-6.83333 65,-9.66667 65,-9.66667 65,-15.3333 65,-15.3333 65,-18.1667 62.1667,-21 59.3333,-21\" fill=\"none\" stroke=\"black\"/>\n",
       "<text font-family=\"Courier,monospace\" font-size=\"10.00\" text-anchor=\"start\" x=\"42\" y=\"-10\">q07</text>\n",
       "</g>\n",
       "<!-- _START&#45;&gt;0 -->\n",
       "<g class=\"edge\" id=\"edge1\"><title>_START-&gt;0</title>\n",
       "<path d=\"M1.142,-12.5C2.82408,-12.5 19.1237,-12.5 32.5391,-12.5\" fill=\"none\" stroke=\"black\"/>\n",
       "<polygon fill=\"black\" points=\"37.6881,-12.5 32.6882,-14.7501 35.1881,-12.5 32.6881,-12.5001 32.6881,-12.5001 32.6881,-12.5001 35.1881,-12.5 32.6881,-10.2501 37.6881,-12.5 37.6881,-12.5\" stroke=\"black\"/>\n",
       "</g>\n",
       "<!-- 1 -->\n",
       "<g class=\"node\" id=\"node3\"><title>1</title>\n",
       "<path d=\"M138.333,-21C138.333,-21 122.667,-21 122.667,-21 119.833,-21 117,-18.1667 117,-15.3333 117,-15.3333 117,-9.66667 117,-9.66667 117,-6.83333 119.833,-4 122.667,-4 122.667,-4 138.333,-4 138.333,-4 141.167,-4 144,-6.83333 144,-9.66667 144,-9.66667 144,-15.3333 144,-15.3333 144,-18.1667 141.167,-21 138.333,-21\" fill=\"none\" stroke=\"black\"/>\n",
       "<path d=\"M139.667,-25C139.667,-25 121.333,-25 121.333,-25 117.167,-25 113,-20.8333 113,-16.6667 113,-16.6667 113,-8.33333 113,-8.33333 113,-4.16667 117.167,-0 121.333,-0 121.333,-0 139.667,-0 139.667,-0 143.833,-0 148,-4.16667 148,-8.33333 148,-8.33333 148,-16.6667 148,-16.6667 148,-20.8333 143.833,-25 139.667,-25\" fill=\"none\" stroke=\"black\"/>\n",
       "<text font-family=\"Courier,monospace\" font-size=\"10.00\" text-anchor=\"start\" x=\"121\" y=\"-10\">q08</text>\n",
       "</g>\n",
       "<!-- 0&#45;&gt;1 -->\n",
       "<g class=\"edge\" id=\"edge2\"><title>0-&gt;1</title>\n",
       "<path d=\"M65.215,-12.5C76.6787,-12.5 93.7871,-12.5 107.473,-12.5\" fill=\"none\" stroke=\"black\"/>\n",
       "<polygon fill=\"black\" points=\"112.721,-12.5 107.721,-14.7501 110.221,-12.5 107.721,-12.5001 107.721,-12.5001 107.721,-12.5001 110.221,-12.5 107.721,-10.2501 112.721,-12.5 112.721,-12.5\" stroke=\"black\"/>\n",
       "<text font-family=\"Courier,monospace\" font-size=\"9.00\" text-anchor=\"start\" x=\"86\" y=\"-18.3\">a</text>\n",
       "</g>\n",
       "</g>\n",
       "</svg>"
      ],
      "text/plain": [
       "<IPython.core.display.SVG object>"
      ]
     },
     "metadata": {},
     "output_type": "display_data"
    },
    {
     "data": {
      "text/html": [
       "subexpression: b"
      ],
      "text/plain": [
       "<IPython.core.display.HTML object>"
      ]
     },
     "metadata": {},
     "output_type": "display_data"
    },
    {
     "data": {
      "image/svg+xml": [
       "<svg height=\"37pt\" viewBox=\"0.00 0.00 156.00 36.50\" width=\"156pt\" xmlns=\"http://www.w3.org/2000/svg\" xmlns:xlink=\"http://www.w3.org/1999/xlink\">\n",
       "<g class=\"graph\" id=\"graph0\" transform=\"scale(1 1) rotate(0) translate(4 32.5)\">\n",
       "<title>%3</title>\n",
       "<polygon fill=\"white\" points=\"-4,4 -4,-32.5 152,-32.5 152,4 -4,4\" stroke=\"none\"/>\n",
       "<!-- _START -->\n",
       "<g class=\"node\" id=\"node1\"><title>_START</title>\n",
       "</g>\n",
       "<!-- 0 -->\n",
       "<g class=\"node\" id=\"node2\"><title>0</title>\n",
       "<path d=\"M59.3333,-21C59.3333,-21 43.6667,-21 43.6667,-21 40.8333,-21 38,-18.1667 38,-15.3333 38,-15.3333 38,-9.66667 38,-9.66667 38,-6.83333 40.8333,-4 43.6667,-4 43.6667,-4 59.3333,-4 59.3333,-4 62.1667,-4 65,-6.83333 65,-9.66667 65,-9.66667 65,-15.3333 65,-15.3333 65,-18.1667 62.1667,-21 59.3333,-21\" fill=\"none\" stroke=\"black\"/>\n",
       "<text font-family=\"Courier,monospace\" font-size=\"10.00\" text-anchor=\"start\" x=\"42\" y=\"-10\">q09</text>\n",
       "</g>\n",
       "<!-- _START&#45;&gt;0 -->\n",
       "<g class=\"edge\" id=\"edge1\"><title>_START-&gt;0</title>\n",
       "<path d=\"M1.142,-12.5C2.82408,-12.5 19.1237,-12.5 32.5391,-12.5\" fill=\"none\" stroke=\"black\"/>\n",
       "<polygon fill=\"black\" points=\"37.6881,-12.5 32.6882,-14.7501 35.1881,-12.5 32.6881,-12.5001 32.6881,-12.5001 32.6881,-12.5001 35.1881,-12.5 32.6881,-10.2501 37.6881,-12.5 37.6881,-12.5\" stroke=\"black\"/>\n",
       "</g>\n",
       "<!-- 1 -->\n",
       "<g class=\"node\" id=\"node3\"><title>1</title>\n",
       "<path d=\"M138.333,-21C138.333,-21 122.667,-21 122.667,-21 119.833,-21 117,-18.1667 117,-15.3333 117,-15.3333 117,-9.66667 117,-9.66667 117,-6.83333 119.833,-4 122.667,-4 122.667,-4 138.333,-4 138.333,-4 141.167,-4 144,-6.83333 144,-9.66667 144,-9.66667 144,-15.3333 144,-15.3333 144,-18.1667 141.167,-21 138.333,-21\" fill=\"none\" stroke=\"black\"/>\n",
       "<path d=\"M139.667,-25C139.667,-25 121.333,-25 121.333,-25 117.167,-25 113,-20.8333 113,-16.6667 113,-16.6667 113,-8.33333 113,-8.33333 113,-4.16667 117.167,-0 121.333,-0 121.333,-0 139.667,-0 139.667,-0 143.833,-0 148,-4.16667 148,-8.33333 148,-8.33333 148,-16.6667 148,-16.6667 148,-20.8333 143.833,-25 139.667,-25\" fill=\"none\" stroke=\"black\"/>\n",
       "<text font-family=\"Courier,monospace\" font-size=\"10.00\" text-anchor=\"start\" x=\"121\" y=\"-10\">q10</text>\n",
       "</g>\n",
       "<!-- 0&#45;&gt;1 -->\n",
       "<g class=\"edge\" id=\"edge2\"><title>0-&gt;1</title>\n",
       "<path d=\"M65.215,-12.5C76.6787,-12.5 93.7871,-12.5 107.473,-12.5\" fill=\"none\" stroke=\"black\"/>\n",
       "<polygon fill=\"black\" points=\"112.721,-12.5 107.721,-14.7501 110.221,-12.5 107.721,-12.5001 107.721,-12.5001 107.721,-12.5001 110.221,-12.5 107.721,-10.2501 112.721,-12.5 112.721,-12.5\" stroke=\"black\"/>\n",
       "<text font-family=\"Courier,monospace\" font-size=\"9.00\" text-anchor=\"start\" x=\"86\" y=\"-18.3\">b</text>\n",
       "</g>\n",
       "</g>\n",
       "</svg>"
      ],
      "text/plain": [
       "<IPython.core.display.SVG object>"
      ]
     },
     "metadata": {},
     "output_type": "display_data"
    },
    {
     "data": {
      "text/html": [
       "subexpression: a"
      ],
      "text/plain": [
       "<IPython.core.display.HTML object>"
      ]
     },
     "metadata": {},
     "output_type": "display_data"
    },
    {
     "data": {
      "image/svg+xml": [
       "<svg height=\"37pt\" viewBox=\"0.00 0.00 156.00 36.50\" width=\"156pt\" xmlns=\"http://www.w3.org/2000/svg\" xmlns:xlink=\"http://www.w3.org/1999/xlink\">\n",
       "<g class=\"graph\" id=\"graph0\" transform=\"scale(1 1) rotate(0) translate(4 32.5)\">\n",
       "<title>%3</title>\n",
       "<polygon fill=\"white\" points=\"-4,4 -4,-32.5 152,-32.5 152,4 -4,4\" stroke=\"none\"/>\n",
       "<!-- _START -->\n",
       "<g class=\"node\" id=\"node1\"><title>_START</title>\n",
       "</g>\n",
       "<!-- 0 -->\n",
       "<g class=\"node\" id=\"node2\"><title>0</title>\n",
       "<path d=\"M59.3333,-21C59.3333,-21 43.6667,-21 43.6667,-21 40.8333,-21 38,-18.1667 38,-15.3333 38,-15.3333 38,-9.66667 38,-9.66667 38,-6.83333 40.8333,-4 43.6667,-4 43.6667,-4 59.3333,-4 59.3333,-4 62.1667,-4 65,-6.83333 65,-9.66667 65,-9.66667 65,-15.3333 65,-15.3333 65,-18.1667 62.1667,-21 59.3333,-21\" fill=\"none\" stroke=\"black\"/>\n",
       "<text font-family=\"Courier,monospace\" font-size=\"10.00\" text-anchor=\"start\" x=\"42\" y=\"-10\">q11</text>\n",
       "</g>\n",
       "<!-- _START&#45;&gt;0 -->\n",
       "<g class=\"edge\" id=\"edge1\"><title>_START-&gt;0</title>\n",
       "<path d=\"M1.142,-12.5C2.82408,-12.5 19.1237,-12.5 32.5391,-12.5\" fill=\"none\" stroke=\"black\"/>\n",
       "<polygon fill=\"black\" points=\"37.6881,-12.5 32.6882,-14.7501 35.1881,-12.5 32.6881,-12.5001 32.6881,-12.5001 32.6881,-12.5001 35.1881,-12.5 32.6881,-10.2501 37.6881,-12.5 37.6881,-12.5\" stroke=\"black\"/>\n",
       "</g>\n",
       "<!-- 1 -->\n",
       "<g class=\"node\" id=\"node3\"><title>1</title>\n",
       "<path d=\"M138.333,-21C138.333,-21 122.667,-21 122.667,-21 119.833,-21 117,-18.1667 117,-15.3333 117,-15.3333 117,-9.66667 117,-9.66667 117,-6.83333 119.833,-4 122.667,-4 122.667,-4 138.333,-4 138.333,-4 141.167,-4 144,-6.83333 144,-9.66667 144,-9.66667 144,-15.3333 144,-15.3333 144,-18.1667 141.167,-21 138.333,-21\" fill=\"none\" stroke=\"black\"/>\n",
       "<path d=\"M139.667,-25C139.667,-25 121.333,-25 121.333,-25 117.167,-25 113,-20.8333 113,-16.6667 113,-16.6667 113,-8.33333 113,-8.33333 113,-4.16667 117.167,-0 121.333,-0 121.333,-0 139.667,-0 139.667,-0 143.833,-0 148,-4.16667 148,-8.33333 148,-8.33333 148,-16.6667 148,-16.6667 148,-20.8333 143.833,-25 139.667,-25\" fill=\"none\" stroke=\"black\"/>\n",
       "<text font-family=\"Courier,monospace\" font-size=\"10.00\" text-anchor=\"start\" x=\"121\" y=\"-10\">q12</text>\n",
       "</g>\n",
       "<!-- 0&#45;&gt;1 -->\n",
       "<g class=\"edge\" id=\"edge2\"><title>0-&gt;1</title>\n",
       "<path d=\"M65.215,-12.5C76.6787,-12.5 93.7871,-12.5 107.473,-12.5\" fill=\"none\" stroke=\"black\"/>\n",
       "<polygon fill=\"black\" points=\"112.721,-12.5 107.721,-14.7501 110.221,-12.5 107.721,-12.5001 107.721,-12.5001 107.721,-12.5001 110.221,-12.5 107.721,-10.2501 112.721,-12.5 112.721,-12.5\" stroke=\"black\"/>\n",
       "<text font-family=\"Courier,monospace\" font-size=\"9.00\" text-anchor=\"start\" x=\"86\" y=\"-18.3\">a</text>\n",
       "</g>\n",
       "</g>\n",
       "</svg>"
      ],
      "text/plain": [
       "<IPython.core.display.SVG object>"
      ]
     },
     "metadata": {},
     "output_type": "display_data"
    },
    {
     "data": {
      "text/html": [
       "subexpression: (a|b)* a b a"
      ],
      "text/plain": [
       "<IPython.core.display.HTML object>"
      ]
     },
     "metadata": {},
     "output_type": "display_data"
    },
    {
     "data": {
      "image/svg+xml": [
       "<svg height=\"125pt\" viewBox=\"0.00 0.00 751.00 125.26\" width=\"751pt\" xmlns=\"http://www.w3.org/2000/svg\" xmlns:xlink=\"http://www.w3.org/1999/xlink\">\n",
       "<g class=\"graph\" id=\"graph0\" transform=\"scale(1 1) rotate(0) translate(4 121.257)\">\n",
       "<title>%3</title>\n",
       "<polygon fill=\"white\" points=\"-4,4 -4,-121.257 747,-121.257 747,4 -4,4\" stroke=\"none\"/>\n",
       "<!-- _START -->\n",
       "<g class=\"node\" id=\"node1\"><title>_START</title>\n",
       "</g>\n",
       "<!-- 5 -->\n",
       "<g class=\"node\" id=\"node7\"><title>5</title>\n",
       "<path d=\"M59.3333,-63.7569C59.3333,-63.7569 43.6667,-63.7569 43.6667,-63.7569 40.8333,-63.7569 38,-60.9236 38,-58.0903 38,-58.0903 38,-52.4236 38,-52.4236 38,-49.5903 40.8333,-46.7569 43.6667,-46.7569 43.6667,-46.7569 59.3333,-46.7569 59.3333,-46.7569 62.1667,-46.7569 65,-49.5903 65,-52.4236 65,-52.4236 65,-58.0903 65,-58.0903 65,-60.9236 62.1667,-63.7569 59.3333,-63.7569\" fill=\"none\" stroke=\"black\"/>\n",
       "<text font-family=\"Courier,monospace\" font-size=\"10.00\" text-anchor=\"start\" x=\"42\" y=\"-52.7569\">q06</text>\n",
       "</g>\n",
       "<!-- _START&#45;&gt;5 -->\n",
       "<g class=\"edge\" id=\"edge1\"><title>_START-&gt;5</title>\n",
       "<path d=\"M1.142,-55.2569C2.82408,-55.2569 19.1237,-55.2569 32.5391,-55.2569\" fill=\"none\" stroke=\"black\"/>\n",
       "<polygon fill=\"black\" points=\"37.6881,-55.2569 32.6882,-57.507 35.1881,-55.257 32.6881,-55.257 32.6881,-55.257 32.6881,-55.257 35.1881,-55.257 32.6881,-53.007 37.6881,-55.2569 37.6881,-55.2569\" stroke=\"black\"/>\n",
       "</g>\n",
       "<!-- 0 -->\n",
       "<g class=\"node\" id=\"node2\"><title>0</title>\n",
       "<path d=\"M207.333,-81.7569C207.333,-81.7569 191.667,-81.7569 191.667,-81.7569 188.833,-81.7569 186,-78.9236 186,-76.0903 186,-76.0903 186,-70.4236 186,-70.4236 186,-67.5903 188.833,-64.7569 191.667,-64.7569 191.667,-64.7569 207.333,-64.7569 207.333,-64.7569 210.167,-64.7569 213,-67.5903 213,-70.4236 213,-70.4236 213,-76.0903 213,-76.0903 213,-78.9236 210.167,-81.7569 207.333,-81.7569\" fill=\"none\" stroke=\"black\"/>\n",
       "<text font-family=\"Courier,monospace\" font-size=\"10.00\" text-anchor=\"start\" x=\"190\" y=\"-70.7569\">q01</text>\n",
       "</g>\n",
       "<!-- 1 -->\n",
       "<g class=\"node\" id=\"node3\"><title>1</title>\n",
       "<path d=\"M282.333,-82.7569C282.333,-82.7569 266.667,-82.7569 266.667,-82.7569 263.833,-82.7569 261,-79.9236 261,-77.0903 261,-77.0903 261,-71.4236 261,-71.4236 261,-68.5903 263.833,-65.7569 266.667,-65.7569 266.667,-65.7569 282.333,-65.7569 282.333,-65.7569 285.167,-65.7569 288,-68.5903 288,-71.4236 288,-71.4236 288,-77.0903 288,-77.0903 288,-79.9236 285.167,-82.7569 282.333,-82.7569\" fill=\"none\" stroke=\"black\"/>\n",
       "<text font-family=\"Courier,monospace\" font-size=\"10.00\" text-anchor=\"start\" x=\"265\" y=\"-71.7569\">q02</text>\n",
       "</g>\n",
       "<!-- 0&#45;&gt;1 -->\n",
       "<g class=\"edge\" id=\"edge9\"><title>0-&gt;1</title>\n",
       "<path d=\"M213.216,-73.4311C224.939,-73.5917 242.462,-73.8318 255.598,-74.0117\" fill=\"none\" stroke=\"black\"/>\n",
       "<polygon fill=\"black\" points=\"260.93,-74.0848 255.9,-76.266 258.43,-74.0505 255.931,-74.0162 255.931,-74.0162 255.931,-74.0162 258.43,-74.0505 255.961,-71.7664 260.93,-74.0848 260.93,-74.0848\" stroke=\"black\"/>\n",
       "<text font-family=\"Courier,monospace\" font-size=\"9.00\" text-anchor=\"start\" x=\"234\" y=\"-80.0569\">a</text>\n",
       "</g>\n",
       "<!-- 4 -->\n",
       "<g class=\"node\" id=\"node6\"><title>4</title>\n",
       "<path d=\"M133.333,-63.7569C133.333,-63.7569 117.667,-63.7569 117.667,-63.7569 114.833,-63.7569 112,-60.9236 112,-58.0903 112,-58.0903 112,-52.4236 112,-52.4236 112,-49.5903 114.833,-46.7569 117.667,-46.7569 117.667,-46.7569 133.333,-46.7569 133.333,-46.7569 136.167,-46.7569 139,-49.5903 139,-52.4236 139,-52.4236 139,-58.0903 139,-58.0903 139,-60.9236 136.167,-63.7569 133.333,-63.7569\" fill=\"none\" stroke=\"black\"/>\n",
       "<text font-family=\"Courier,monospace\" font-size=\"10.00\" text-anchor=\"start\" x=\"116\" y=\"-52.7569\">q05</text>\n",
       "</g>\n",
       "<!-- 1&#45;&gt;4 -->\n",
       "<g class=\"edge\" id=\"edge7\"><title>1-&gt;4</title>\n",
       "<path d=\"M263.536,-82.9335C257.914,-87.2476 250.523,-92.0102 243,-94.2569 206.218,-105.241 191.306,-103.481 157,-86.2569 148.507,-81.9928 140.992,-74.4272 135.546,-67.8377\" fill=\"none\" stroke=\"black\"/>\n",
       "<polygon fill=\"black\" points=\"132.433,-63.8992 137.299,-66.4264 133.984,-65.8605 135.534,-67.8217 135.534,-67.8217 135.534,-67.8217 133.984,-65.8605 133.769,-69.217 132.433,-63.8992 132.433,-63.8992\" stroke=\"black\"/>\n",
       "<text font-family=\"Courier,monospace\" font-size=\"9.00\" text-anchor=\"start\" x=\"197.5\" y=\"-107.057\">ε</text>\n",
       "</g>\n",
       "<!-- 6 -->\n",
       "<g class=\"node\" id=\"node8\"><title>6</title>\n",
       "<path d=\"M356.333,-62.7569C356.333,-62.7569 340.667,-62.7569 340.667,-62.7569 337.833,-62.7569 335,-59.9236 335,-57.0903 335,-57.0903 335,-51.4236 335,-51.4236 335,-48.5903 337.833,-45.7569 340.667,-45.7569 340.667,-45.7569 356.333,-45.7569 356.333,-45.7569 359.167,-45.7569 362,-48.5903 362,-51.4236 362,-51.4236 362,-57.0903 362,-57.0903 362,-59.9236 359.167,-62.7569 356.333,-62.7569\" fill=\"none\" stroke=\"black\"/>\n",
       "<text font-family=\"Courier,monospace\" font-size=\"10.00\" text-anchor=\"start\" x=\"339\" y=\"-51.7569\">q07</text>\n",
       "</g>\n",
       "<!-- 1&#45;&gt;6 -->\n",
       "<g class=\"edge\" id=\"edge6\"><title>1-&gt;6</title>\n",
       "<path d=\"M288.041,-70.7732C299.566,-67.572 316.77,-62.7929 329.712,-59.198\" fill=\"none\" stroke=\"black\"/>\n",
       "<polygon fill=\"black\" points=\"334.617,-57.8354 330.402,-61.3416 332.209,-58.5046 329.8,-59.1737 329.8,-59.1737 329.8,-59.1737 332.209,-58.5046 329.198,-57.0058 334.617,-57.8354 334.617,-57.8354\" stroke=\"black\"/>\n",
       "<text font-family=\"Courier,monospace\" font-size=\"9.00\" text-anchor=\"start\" x=\"309.5\" y=\"-72.0569\">ε</text>\n",
       "</g>\n",
       "<!-- 2 -->\n",
       "<g class=\"node\" id=\"node4\"><title>2</title>\n",
       "<path d=\"M207.333,-45.7569C207.333,-45.7569 191.667,-45.7569 191.667,-45.7569 188.833,-45.7569 186,-42.9236 186,-40.0903 186,-40.0903 186,-34.4236 186,-34.4236 186,-31.5903 188.833,-28.7569 191.667,-28.7569 191.667,-28.7569 207.333,-28.7569 207.333,-28.7569 210.167,-28.7569 213,-31.5903 213,-34.4236 213,-34.4236 213,-40.0903 213,-40.0903 213,-42.9236 210.167,-45.7569 207.333,-45.7569\" fill=\"none\" stroke=\"black\"/>\n",
       "<text font-family=\"Courier,monospace\" font-size=\"10.00\" text-anchor=\"start\" x=\"190\" y=\"-34.7569\">q03</text>\n",
       "</g>\n",
       "<!-- 3 -->\n",
       "<g class=\"node\" id=\"node5\"><title>3</title>\n",
       "<path d=\"M282.333,-43.7569C282.333,-43.7569 266.667,-43.7569 266.667,-43.7569 263.833,-43.7569 261,-40.9236 261,-38.0903 261,-38.0903 261,-32.4236 261,-32.4236 261,-29.5903 263.833,-26.7569 266.667,-26.7569 266.667,-26.7569 282.333,-26.7569 282.333,-26.7569 285.167,-26.7569 288,-29.5903 288,-32.4236 288,-32.4236 288,-38.0903 288,-38.0903 288,-40.9236 285.167,-43.7569 282.333,-43.7569\" fill=\"none\" stroke=\"black\"/>\n",
       "<text font-family=\"Courier,monospace\" font-size=\"10.00\" text-anchor=\"start\" x=\"265\" y=\"-32.7569\">q04</text>\n",
       "</g>\n",
       "<!-- 2&#45;&gt;3 -->\n",
       "<g class=\"edge\" id=\"edge8\"><title>2-&gt;3</title>\n",
       "<path d=\"M213.216,-36.9086C224.939,-36.5874 242.462,-36.1073 255.598,-35.7474\" fill=\"none\" stroke=\"black\"/>\n",
       "<polygon fill=\"black\" points=\"260.93,-35.6013 255.994,-37.9875 258.431,-35.6698 255.932,-35.7383 255.932,-35.7383 255.932,-35.7383 258.431,-35.6698 255.87,-33.4892 260.93,-35.6013 260.93,-35.6013\" stroke=\"black\"/>\n",
       "<text font-family=\"Courier,monospace\" font-size=\"9.00\" text-anchor=\"start\" x=\"234\" y=\"-43.0569\">b</text>\n",
       "</g>\n",
       "<!-- 3&#45;&gt;4 -->\n",
       "<g class=\"edge\" id=\"edge13\"><title>3-&gt;4</title>\n",
       "<path d=\"M263.241,-26.6049C246.876,-13.9046 213.863,7.20284 186,-3.25694 165.229,-11.0542 146.957,-29.7514 136.315,-42.4657\" fill=\"none\" stroke=\"black\"/>\n",
       "<polygon fill=\"black\" points=\"133.006,-46.5237 134.422,-41.2268 134.586,-44.5862 136.166,-42.6487 136.166,-42.6487 136.166,-42.6487 134.586,-44.5862 137.909,-44.0706 133.006,-46.5237 133.006,-46.5237\" stroke=\"black\"/>\n",
       "<text font-family=\"Courier,monospace\" font-size=\"9.00\" text-anchor=\"start\" x=\"197.5\" y=\"-9.05694\">ε</text>\n",
       "</g>\n",
       "<!-- 3&#45;&gt;6 -->\n",
       "<g class=\"edge\" id=\"edge12\"><title>3-&gt;6</title>\n",
       "<path d=\"M288.095,-33.9332C296.453,-33.4475 307.577,-33.5612 317,-36.2569 322.143,-37.7281 327.313,-40.2783 331.897,-43.0041\" fill=\"none\" stroke=\"black\"/>\n",
       "<polygon fill=\"black\" points=\"336.264,-45.755 330.834,-44.9936 334.149,-44.4224 332.034,-43.0899 332.034,-43.0899 332.034,-43.0899 334.149,-44.4224 333.233,-41.1861 336.264,-45.755 336.264,-45.755\" stroke=\"black\"/>\n",
       "<text font-family=\"Courier,monospace\" font-size=\"9.00\" text-anchor=\"start\" x=\"309.5\" y=\"-42.0569\">ε</text>\n",
       "</g>\n",
       "<!-- 4&#45;&gt;0 -->\n",
       "<g class=\"edge\" id=\"edge15\"><title>4-&gt;0</title>\n",
       "<path d=\"M139.041,-58.3923C150.566,-61.2734 167.77,-65.5746 180.712,-68.81\" fill=\"none\" stroke=\"black\"/>\n",
       "<polygon fill=\"black\" points=\"185.617,-70.0363 180.221,-71.0064 183.192,-69.4299 180.767,-68.8236 180.767,-68.8236 180.767,-68.8236 183.192,-69.4299 181.312,-66.6407 185.617,-70.0363 185.617,-70.0363\" stroke=\"black\"/>\n",
       "<text font-family=\"Courier,monospace\" font-size=\"9.00\" text-anchor=\"start\" x=\"160.5\" y=\"-72.0569\">ε</text>\n",
       "</g>\n",
       "<!-- 4&#45;&gt;2 -->\n",
       "<g class=\"edge\" id=\"edge14\"><title>4-&gt;2</title>\n",
       "<path d=\"M137.715,-46.6808C143.212,-43.0078 150.12,-39.1358 157,-37.2569 164.532,-35.2 173.125,-34.8846 180.53,-35.2049\" fill=\"none\" stroke=\"black\"/>\n",
       "<polygon fill=\"black\" points=\"185.924,-35.5554 180.788,-37.4764 183.429,-35.3933 180.934,-35.2311 180.934,-35.2311 180.934,-35.2311 183.429,-35.3933 181.08,-32.9858 185.924,-35.5554 185.924,-35.5554\" stroke=\"black\"/>\n",
       "<text font-family=\"Courier,monospace\" font-size=\"9.00\" text-anchor=\"start\" x=\"160.5\" y=\"-43.0569\">ε</text>\n",
       "</g>\n",
       "<!-- 5&#45;&gt;4 -->\n",
       "<g class=\"edge\" id=\"edge10\"><title>5-&gt;4</title>\n",
       "<path d=\"M65.0414,-55.2569C76.4637,-55.2569 93.4664,-55.2569 106.368,-55.2569\" fill=\"none\" stroke=\"black\"/>\n",
       "<polygon fill=\"black\" points=\"111.617,-55.2569 106.618,-57.507 109.117,-55.257 106.617,-55.257 106.617,-55.257 106.617,-55.257 109.117,-55.257 106.617,-53.007 111.617,-55.2569 111.617,-55.2569\" stroke=\"black\"/>\n",
       "<text font-family=\"Courier,monospace\" font-size=\"9.00\" text-anchor=\"start\" x=\"86.5\" y=\"-61.0569\">ε</text>\n",
       "</g>\n",
       "<!-- 7 -->\n",
       "<g class=\"node\" id=\"node9\"><title>7</title>\n",
       "<path d=\"M431.333,-62.7569C431.333,-62.7569 415.667,-62.7569 415.667,-62.7569 412.833,-62.7569 410,-59.9236 410,-57.0903 410,-57.0903 410,-51.4236 410,-51.4236 410,-48.5903 412.833,-45.7569 415.667,-45.7569 415.667,-45.7569 431.333,-45.7569 431.333,-45.7569 434.167,-45.7569 437,-48.5903 437,-51.4236 437,-51.4236 437,-57.0903 437,-57.0903 437,-59.9236 434.167,-62.7569 431.333,-62.7569\" fill=\"none\" stroke=\"black\"/>\n",
       "<text font-family=\"Courier,monospace\" font-size=\"10.00\" text-anchor=\"start\" x=\"414\" y=\"-51.7569\">q08</text>\n",
       "</g>\n",
       "<!-- 6&#45;&gt;7 -->\n",
       "<g class=\"edge\" id=\"edge11\"><title>6-&gt;7</title>\n",
       "<path d=\"M362.216,-54.2569C373.939,-54.2569 391.462,-54.2569 404.598,-54.2569\" fill=\"none\" stroke=\"black\"/>\n",
       "<polygon fill=\"black\" points=\"409.93,-54.2569 404.93,-56.507 407.43,-54.257 404.93,-54.257 404.93,-54.257 404.93,-54.257 407.43,-54.257 404.93,-52.007 409.93,-54.2569 409.93,-54.2569\" stroke=\"black\"/>\n",
       "<text font-family=\"Courier,monospace\" font-size=\"9.00\" text-anchor=\"start\" x=\"383\" y=\"-60.0569\">a</text>\n",
       "</g>\n",
       "<!-- 8 -->\n",
       "<g class=\"node\" id=\"node10\"><title>8</title>\n",
       "<path d=\"M505.333,-62.7569C505.333,-62.7569 489.667,-62.7569 489.667,-62.7569 486.833,-62.7569 484,-59.9236 484,-57.0903 484,-57.0903 484,-51.4236 484,-51.4236 484,-48.5903 486.833,-45.7569 489.667,-45.7569 489.667,-45.7569 505.333,-45.7569 505.333,-45.7569 508.167,-45.7569 511,-48.5903 511,-51.4236 511,-51.4236 511,-57.0903 511,-57.0903 511,-59.9236 508.167,-62.7569 505.333,-62.7569\" fill=\"none\" stroke=\"black\"/>\n",
       "<text font-family=\"Courier,monospace\" font-size=\"10.00\" text-anchor=\"start\" x=\"488\" y=\"-51.7569\">q09</text>\n",
       "</g>\n",
       "<!-- 7&#45;&gt;8 -->\n",
       "<g class=\"edge\" id=\"edge2\"><title>7-&gt;8</title>\n",
       "<path d=\"M437.041,-54.2569C448.464,-54.2569 465.466,-54.2569 478.368,-54.2569\" fill=\"none\" stroke=\"black\"/>\n",
       "<polygon fill=\"black\" points=\"483.617,-54.2569 478.618,-56.507 481.117,-54.257 478.617,-54.257 478.617,-54.257 478.617,-54.257 481.117,-54.257 478.617,-52.007 483.617,-54.2569 483.617,-54.2569\" stroke=\"black\"/>\n",
       "<text font-family=\"Courier,monospace\" font-size=\"9.00\" text-anchor=\"start\" x=\"458.5\" y=\"-60.0569\">ε</text>\n",
       "</g>\n",
       "<!-- 9 -->\n",
       "<g class=\"node\" id=\"node11\"><title>9</title>\n",
       "<path d=\"M580.333,-62.7569C580.333,-62.7569 564.667,-62.7569 564.667,-62.7569 561.833,-62.7569 559,-59.9236 559,-57.0903 559,-57.0903 559,-51.4236 559,-51.4236 559,-48.5903 561.833,-45.7569 564.667,-45.7569 564.667,-45.7569 580.333,-45.7569 580.333,-45.7569 583.167,-45.7569 586,-48.5903 586,-51.4236 586,-51.4236 586,-57.0903 586,-57.0903 586,-59.9236 583.167,-62.7569 580.333,-62.7569\" fill=\"none\" stroke=\"black\"/>\n",
       "<text font-family=\"Courier,monospace\" font-size=\"10.00\" text-anchor=\"start\" x=\"563\" y=\"-51.7569\">q10</text>\n",
       "</g>\n",
       "<!-- 8&#45;&gt;9 -->\n",
       "<g class=\"edge\" id=\"edge3\"><title>8-&gt;9</title>\n",
       "<path d=\"M511.216,-54.2569C522.939,-54.2569 540.462,-54.2569 553.598,-54.2569\" fill=\"none\" stroke=\"black\"/>\n",
       "<polygon fill=\"black\" points=\"558.93,-54.2569 553.93,-56.507 556.43,-54.257 553.93,-54.257 553.93,-54.257 553.93,-54.257 556.43,-54.257 553.93,-52.007 558.93,-54.2569 558.93,-54.2569\" stroke=\"black\"/>\n",
       "<text font-family=\"Courier,monospace\" font-size=\"9.00\" text-anchor=\"start\" x=\"532\" y=\"-60.0569\">b</text>\n",
       "</g>\n",
       "<!-- 10 -->\n",
       "<g class=\"node\" id=\"node12\"><title>10</title>\n",
       "<path d=\"M654.333,-62.7569C654.333,-62.7569 638.667,-62.7569 638.667,-62.7569 635.833,-62.7569 633,-59.9236 633,-57.0903 633,-57.0903 633,-51.4236 633,-51.4236 633,-48.5903 635.833,-45.7569 638.667,-45.7569 638.667,-45.7569 654.333,-45.7569 654.333,-45.7569 657.167,-45.7569 660,-48.5903 660,-51.4236 660,-51.4236 660,-57.0903 660,-57.0903 660,-59.9236 657.167,-62.7569 654.333,-62.7569\" fill=\"none\" stroke=\"black\"/>\n",
       "<text font-family=\"Courier,monospace\" font-size=\"10.00\" text-anchor=\"start\" x=\"637\" y=\"-51.7569\">q11</text>\n",
       "</g>\n",
       "<!-- 9&#45;&gt;10 -->\n",
       "<g class=\"edge\" id=\"edge5\"><title>9-&gt;10</title>\n",
       "<path d=\"M586.041,-54.2569C597.464,-54.2569 614.466,-54.2569 627.368,-54.2569\" fill=\"none\" stroke=\"black\"/>\n",
       "<polygon fill=\"black\" points=\"632.617,-54.2569 627.618,-56.507 630.117,-54.257 627.617,-54.257 627.617,-54.257 627.617,-54.257 630.117,-54.257 627.617,-52.007 632.617,-54.2569 632.617,-54.2569\" stroke=\"black\"/>\n",
       "<text font-family=\"Courier,monospace\" font-size=\"9.00\" text-anchor=\"start\" x=\"607.5\" y=\"-60.0569\">ε</text>\n",
       "</g>\n",
       "<!-- 11 -->\n",
       "<g class=\"node\" id=\"node13\"><title>11</title>\n",
       "<path d=\"M733.333,-62.7569C733.333,-62.7569 717.667,-62.7569 717.667,-62.7569 714.833,-62.7569 712,-59.9236 712,-57.0903 712,-57.0903 712,-51.4236 712,-51.4236 712,-48.5903 714.833,-45.7569 717.667,-45.7569 717.667,-45.7569 733.333,-45.7569 733.333,-45.7569 736.167,-45.7569 739,-48.5903 739,-51.4236 739,-51.4236 739,-57.0903 739,-57.0903 739,-59.9236 736.167,-62.7569 733.333,-62.7569\" fill=\"none\" stroke=\"black\"/>\n",
       "<path d=\"M734.667,-66.7569C734.667,-66.7569 716.333,-66.7569 716.333,-66.7569 712.167,-66.7569 708,-62.5903 708,-58.4236 708,-58.4236 708,-50.0903 708,-50.0903 708,-45.9236 712.167,-41.7569 716.333,-41.7569 716.333,-41.7569 734.667,-41.7569 734.667,-41.7569 738.833,-41.7569 743,-45.9236 743,-50.0903 743,-50.0903 743,-58.4236 743,-58.4236 743,-62.5903 738.833,-66.7569 734.667,-66.7569\" fill=\"none\" stroke=\"black\"/>\n",
       "<text font-family=\"Courier,monospace\" font-size=\"10.00\" text-anchor=\"start\" x=\"716\" y=\"-51.7569\">q12</text>\n",
       "</g>\n",
       "<!-- 10&#45;&gt;11 -->\n",
       "<g class=\"edge\" id=\"edge4\"><title>10-&gt;11</title>\n",
       "<path d=\"M660.215,-54.2569C671.679,-54.2569 688.787,-54.2569 702.473,-54.2569\" fill=\"none\" stroke=\"black\"/>\n",
       "<polygon fill=\"black\" points=\"707.721,-54.2569 702.721,-56.507 705.221,-54.257 702.721,-54.257 702.721,-54.257 702.721,-54.257 705.221,-54.257 702.721,-52.007 707.721,-54.2569 707.721,-54.2569\" stroke=\"black\"/>\n",
       "<text font-family=\"Courier,monospace\" font-size=\"9.00\" text-anchor=\"start\" x=\"681\" y=\"-60.0569\">a</text>\n",
       "</g>\n",
       "</g>\n",
       "</svg>"
      ],
      "text/plain": [
       "<IPython.core.display.SVG object>"
      ]
     },
     "metadata": {},
     "output_type": "display_data"
    }
   ],
   "source": [
    "m = from_regexp('(a|b)* a b a', display_steps=True)"
   ]
  },
  {
   "cell_type": "markdown",
   "metadata": {},
   "source": [
    "**Question.** If a regular expression has $n$ symbols, how big will the resulting NFA be?"
   ]
  },
  {
   "cell_type": "markdown",
   "metadata": {},
   "source": [
    "# Wednesday reading\n",
    "\n",
    "Read or reread Lemma 1.60 and its proof, which (I think) is the most complicated one so far."
   ]
  },
  {
   "cell_type": "markdown",
   "metadata": {},
   "source": [
    "# Thursday class\n",
    "\n",
    "## NFAs to regular expressions"
   ]
  },
  {
   "cell_type": "markdown",
   "metadata": {},
   "source": [
    "Today we're completing the proof from last time by converting NFAs to regular expressions. The algorithm for this is known as the _state elimination_ algorithm, because it eliminates the states of the NFA one by one. \n",
    "\n",
    "To make this construction simpler, the new concept of a generalized NFA (GNFA) is introduced. In this course, GNFAs are a \"throwaway\" formalism; they exist just to make this proof possible. But elsewhere they might be useful in their own right.\n",
    "\n",
    "A GNFA is a NFA whose transitions can be labeled with regular expressions instead of symbols. The algorithm first changes the NFA into a GNFA, and then eliminates the states one by one. When there is just one transition left, its label is the final answer.\n",
    "\n",
    "The order of elimination is arbitrary, although some orders may lead to more compact regular expressions than others. Tock eliminates states in reverse alphabetical order, for no particularly good reason."
   ]
  },
  {
   "cell_type": "code",
   "execution_count": 6,
   "metadata": {
    "collapsed": false
   },
   "outputs": [
    {
     "data": {
      "image/svg+xml": [
       "<svg height=\"81pt\" viewBox=\"0.00 0.00 140.00 81.00\" width=\"140pt\" xmlns=\"http://www.w3.org/2000/svg\" xmlns:xlink=\"http://www.w3.org/1999/xlink\">\n",
       "<g class=\"graph\" id=\"graph0\" transform=\"scale(1 1) rotate(0) translate(4 77)\">\n",
       "<title>%3</title>\n",
       "<polygon fill=\"white\" points=\"-4,4 -4,-77 136,-77 136,4 -4,4\" stroke=\"none\"/>\n",
       "<!-- _START -->\n",
       "<g class=\"node\" id=\"node1\"><title>_START</title>\n",
       "</g>\n",
       "<!-- 0 -->\n",
       "<g class=\"node\" id=\"node2\"><title>0</title>\n",
       "<path d=\"M48.5,-21C48.5,-21 43.5,-21 43.5,-21 41,-21 38.5,-18.5 38.5,-16 38.5,-16 38.5,-9 38.5,-9 38.5,-6.5 41,-4 43.5,-4 43.5,-4 48.5,-4 48.5,-4 51,-4 53.5,-6.5 53.5,-9 53.5,-9 53.5,-16 53.5,-16 53.5,-18.5 51,-21 48.5,-21\" fill=\"none\" stroke=\"black\"/>\n",
       "<text font-family=\"Courier,monospace\" font-size=\"10.00\" text-anchor=\"start\" x=\"42.5\" y=\"-10\">1</text>\n",
       "</g>\n",
       "<!-- _START&#45;&gt;0 -->\n",
       "<g class=\"edge\" id=\"edge1\"><title>_START-&gt;0</title>\n",
       "<path d=\"M1.12622,-12.5C2.78727,-12.5 20.4845,-12.5 32.8875,-12.5\" fill=\"none\" stroke=\"black\"/>\n",
       "<polygon fill=\"black\" points=\"38.1371,-12.5 33.1371,-14.7501 35.6371,-12.5 33.1371,-12.5001 33.1371,-12.5001 33.1371,-12.5001 35.6371,-12.5 33.137,-10.2501 38.1371,-12.5 38.1371,-12.5\" stroke=\"black\"/>\n",
       "</g>\n",
       "<!-- 0&#45;&gt;0 -->\n",
       "<g class=\"edge\" id=\"edge2\"><title>0-&gt;0</title>\n",
       "<path d=\"M42.1259,-21.1857C39.986,-29.6739 41.2773,-39 46,-39 49.7634,-39 51.3478,-33.0778 50.7534,-26.3767\" fill=\"none\" stroke=\"black\"/>\n",
       "<polygon fill=\"black\" points=\"49.8741,-21.1857 52.9276,-25.7396 50.2916,-23.6506 50.7092,-26.1154 50.7092,-26.1154 50.7092,-26.1154 50.2916,-23.6506 48.4908,-26.4913 49.8741,-21.1857 49.8741,-21.1857\" stroke=\"black\"/>\n",
       "<text font-family=\"Courier,monospace\" font-size=\"9.00\" text-anchor=\"start\" x=\"43\" y=\"-44.8\">a</text>\n",
       "</g>\n",
       "<!-- 1 -->\n",
       "<g class=\"node\" id=\"node3\"><title>1</title>\n",
       "<path d=\"M119.5,-21C119.5,-21 114.5,-21 114.5,-21 112,-21 109.5,-18.5 109.5,-16 109.5,-16 109.5,-9 109.5,-9 109.5,-6.5 112,-4 114.5,-4 114.5,-4 119.5,-4 119.5,-4 122,-4 124.5,-6.5 124.5,-9 124.5,-9 124.5,-16 124.5,-16 124.5,-18.5 122,-21 119.5,-21\" fill=\"none\" stroke=\"black\"/>\n",
       "<path d=\"M120.833,-25C120.833,-25 113.167,-25 113.167,-25 109.333,-25 105.5,-21.1667 105.5,-17.3333 105.5,-17.3333 105.5,-7.66667 105.5,-7.66667 105.5,-3.83333 109.333,-0 113.167,-0 113.167,-0 120.833,-0 120.833,-0 124.667,-0 128.5,-3.83333 128.5,-7.66667 128.5,-7.66667 128.5,-17.3333 128.5,-17.3333 128.5,-21.1667 124.667,-25 120.833,-25\" fill=\"none\" stroke=\"black\"/>\n",
       "<text font-family=\"Courier,monospace\" font-size=\"10.00\" text-anchor=\"middle\" x=\"117\" y=\"-10\">2</text>\n",
       "</g>\n",
       "<!-- 0&#45;&gt;1 -->\n",
       "<g class=\"edge\" id=\"edge3\"><title>0-&gt;1</title>\n",
       "<path d=\"M53.616,-12.5C64.3108,-12.5 85.6832,-12.5 100.407,-12.5\" fill=\"none\" stroke=\"black\"/>\n",
       "<polygon fill=\"black\" points=\"105.499,-12.5 100.499,-14.7501 102.999,-12.5 100.499,-12.5001 100.499,-12.5001 100.499,-12.5001 102.999,-12.5 100.499,-10.2501 105.499,-12.5 105.499,-12.5\" stroke=\"black\"/>\n",
       "<text font-family=\"Courier,monospace\" font-size=\"9.00\" text-anchor=\"start\" x=\"75\" y=\"-18.3\">b</text>\n",
       "</g>\n",
       "<!-- 1&#45;&gt;1 -->\n",
       "<g class=\"edge\" id=\"edge4\"><title>1-&gt;1</title>\n",
       "<path d=\"M110.642,-25.0318C108.572,-34.0334 110.691,-43 117,-43 122.126,-43 124.486,-37.0807 124.08,-30.0327\" fill=\"none\" stroke=\"black\"/>\n",
       "<polygon fill=\"black\" points=\"123.358,-25.0318 126.3,-29.6587 123.715,-27.5061 124.073,-29.9804 124.073,-29.9804 124.073,-29.9804 123.715,-27.5061 121.846,-30.3022 123.358,-25.0318 123.358,-25.0318\" stroke=\"black\"/>\n",
       "<text font-family=\"Courier,monospace\" font-size=\"9.00\" text-anchor=\"start\" x=\"114\" y=\"-62.8\">a</text>\n",
       "<text font-family=\"Courier,monospace\" font-size=\"9.00\" text-anchor=\"start\" x=\"114\" y=\"-48.8\">b</text>\n",
       "</g>\n",
       "</g>\n",
       "</svg>"
      ],
      "text/plain": [
       "<IPython.core.display.SVG object>"
      ]
     },
     "metadata": {},
     "output_type": "display_data"
    }
   ],
   "source": [
    "m66 = read_csv('sipser-1-66.csv')\n",
    "m66"
   ]
  },
  {
   "cell_type": "code",
   "execution_count": 7,
   "metadata": {
    "collapsed": false
   },
   "outputs": [
    {
     "data": {
      "image/svg+xml": [
       "<svg height=\"63pt\" viewBox=\"0.00 0.00 312.00 63.00\" width=\"312pt\" xmlns=\"http://www.w3.org/2000/svg\" xmlns:xlink=\"http://www.w3.org/1999/xlink\">\n",
       "<g class=\"graph\" id=\"graph0\" transform=\"scale(1 1) rotate(0) translate(4 59)\">\n",
       "<title>%3</title>\n",
       "<polygon fill=\"white\" points=\"-4,4 -4,-59 308,-59 308,4 -4,4\" stroke=\"none\"/>\n",
       "<!-- _START -->\n",
       "<g class=\"node\" id=\"node1\"><title>_START</title>\n",
       "</g>\n",
       "<!-- 3 -->\n",
       "<g class=\"node\" id=\"node5\"><title>3</title>\n",
       "<path d=\"M71.3333,-21C71.3333,-21 43.6667,-21 43.6667,-21 40.8333,-21 38,-18.1667 38,-15.3333 38,-15.3333 38,-9.66667 38,-9.66667 38,-6.83333 40.8333,-4 43.6667,-4 43.6667,-4 71.3333,-4 71.3333,-4 74.1667,-4 77,-6.83333 77,-9.66667 77,-9.66667 77,-15.3333 77,-15.3333 77,-18.1667 74.1667,-21 71.3333,-21\" fill=\"none\" stroke=\"black\"/>\n",
       "<text font-family=\"Courier,monospace\" font-size=\"10.00\" text-anchor=\"start\" x=\"42\" y=\"-10\">START</text>\n",
       "</g>\n",
       "<!-- _START&#45;&gt;3 -->\n",
       "<g class=\"edge\" id=\"edge1\"><title>_START-&gt;3</title>\n",
       "<path d=\"M1.15921,-12.5C2.89199,-12.5 18.4598,-12.5 32.6433,-12.5\" fill=\"none\" stroke=\"black\"/>\n",
       "<polygon fill=\"black\" points=\"37.7779,-12.5 32.778,-14.7501 35.2779,-12.5 32.7779,-12.5001 32.7779,-12.5001 32.7779,-12.5001 35.2779,-12.5 32.7779,-10.2501 37.7779,-12.5 37.7779,-12.5\" stroke=\"black\"/>\n",
       "</g>\n",
       "<!-- 0 -->\n",
       "<g class=\"node\" id=\"node2\"><title>0</title>\n",
       "<path d=\"M134.5,-21C134.5,-21 129.5,-21 129.5,-21 127,-21 124.5,-18.5 124.5,-16 124.5,-16 124.5,-9 124.5,-9 124.5,-6.5 127,-4 129.5,-4 129.5,-4 134.5,-4 134.5,-4 137,-4 139.5,-6.5 139.5,-9 139.5,-9 139.5,-16 139.5,-16 139.5,-18.5 137,-21 134.5,-21\" fill=\"none\" stroke=\"black\"/>\n",
       "<text font-family=\"Courier,monospace\" font-size=\"10.00\" text-anchor=\"start\" x=\"128.5\" y=\"-10\">1</text>\n",
       "</g>\n",
       "<!-- 0&#45;&gt;0 -->\n",
       "<g class=\"edge\" id=\"edge2\"><title>0-&gt;0</title>\n",
       "<path d=\"M127.53,-21.1857C125.061,-29.6739 126.551,-39 132,-39 136.342,-39 138.171,-33.0778 137.485,-26.3767\" fill=\"none\" stroke=\"black\"/>\n",
       "<polygon fill=\"black\" points=\"136.47,-21.1857 139.637,-25.6612 136.95,-23.6392 137.429,-26.0928 137.429,-26.0928 137.429,-26.0928 136.95,-23.6392 135.221,-26.5245 136.47,-21.1857 136.47,-21.1857\" stroke=\"black\"/>\n",
       "<text font-family=\"Courier,monospace\" font-size=\"9.00\" text-anchor=\"start\" x=\"129\" y=\"-44.8\">a</text>\n",
       "</g>\n",
       "<!-- 1 -->\n",
       "<g class=\"node\" id=\"node3\"><title>1</title>\n",
       "<path d=\"M198.5,-21C198.5,-21 193.5,-21 193.5,-21 191,-21 188.5,-18.5 188.5,-16 188.5,-16 188.5,-9 188.5,-9 188.5,-6.5 191,-4 193.5,-4 193.5,-4 198.5,-4 198.5,-4 201,-4 203.5,-6.5 203.5,-9 203.5,-9 203.5,-16 203.5,-16 203.5,-18.5 201,-21 198.5,-21\" fill=\"none\" stroke=\"black\"/>\n",
       "<text font-family=\"Courier,monospace\" font-size=\"10.00\" text-anchor=\"start\" x=\"192.5\" y=\"-10\">2</text>\n",
       "</g>\n",
       "<!-- 0&#45;&gt;1 -->\n",
       "<g class=\"edge\" id=\"edge3\"><title>0-&gt;1</title>\n",
       "<path d=\"M139.635,-12.5C150.022,-12.5 170.268,-12.5 183.187,-12.5\" fill=\"none\" stroke=\"black\"/>\n",
       "<polygon fill=\"black\" points=\"188.225,-12.5 183.225,-14.7501 185.725,-12.5 183.225,-12.5001 183.225,-12.5001 183.225,-12.5001 185.725,-12.5 183.225,-10.2501 188.225,-12.5 188.225,-12.5\" stroke=\"black\"/>\n",
       "<text font-family=\"Courier,monospace\" font-size=\"9.00\" text-anchor=\"start\" x=\"161\" y=\"-18.3\">b</text>\n",
       "</g>\n",
       "<!-- 1&#45;&gt;1 -->\n",
       "<g class=\"edge\" id=\"edge5\"><title>1-&gt;1</title>\n",
       "<path d=\"M191.53,-21.1857C189.061,-29.6739 190.551,-39 196,-39 200.342,-39 202.171,-33.0778 201.485,-26.3767\" fill=\"none\" stroke=\"black\"/>\n",
       "<polygon fill=\"black\" points=\"200.47,-21.1857 203.637,-25.6612 200.95,-23.6392 201.429,-26.0928 201.429,-26.0928 201.429,-26.0928 200.95,-23.6392 199.221,-26.5245 200.47,-21.1857 200.47,-21.1857\" stroke=\"black\"/>\n",
       "<text font-family=\"Courier,monospace\" font-size=\"9.00\" text-anchor=\"start\" x=\"188\" y=\"-44.8\">a|b</text>\n",
       "</g>\n",
       "<!-- 2 -->\n",
       "<g class=\"node\" id=\"node4\"><title>2</title>\n",
       "<path d=\"M294.333,-21C294.333,-21 260.667,-21 260.667,-21 257.833,-21 255,-18.1667 255,-15.3333 255,-15.3333 255,-9.66667 255,-9.66667 255,-6.83333 257.833,-4 260.667,-4 260.667,-4 294.333,-4 294.333,-4 297.167,-4 300,-6.83333 300,-9.66667 300,-9.66667 300,-15.3333 300,-15.3333 300,-18.1667 297.167,-21 294.333,-21\" fill=\"none\" stroke=\"black\"/>\n",
       "<path d=\"M295.667,-25C295.667,-25 259.333,-25 259.333,-25 255.167,-25 251,-20.8333 251,-16.6667 251,-16.6667 251,-8.33333 251,-8.33333 251,-4.16667 255.167,-0 259.333,-0 259.333,-0 295.667,-0 295.667,-0 299.833,-0 304,-4.16667 304,-8.33333 304,-8.33333 304,-16.6667 304,-16.6667 304,-20.8333 299.833,-25 295.667,-25\" fill=\"none\" stroke=\"black\"/>\n",
       "<text font-family=\"Courier,monospace\" font-size=\"10.00\" text-anchor=\"start\" x=\"259\" y=\"-10\">ACCEPT</text>\n",
       "</g>\n",
       "<!-- 1&#45;&gt;2 -->\n",
       "<g class=\"edge\" id=\"edge6\"><title>1-&gt;2</title>\n",
       "<path d=\"M203.506,-12.5C212.701,-12.5 230.111,-12.5 245.622,-12.5\" fill=\"none\" stroke=\"black\"/>\n",
       "<polygon fill=\"black\" points=\"250.795,-12.5 245.795,-14.7501 248.295,-12.5 245.795,-12.5001 245.795,-12.5001 245.795,-12.5001 248.295,-12.5 245.795,-10.2501 250.795,-12.5 250.795,-12.5\" stroke=\"black\"/>\n",
       "<text font-family=\"Courier,monospace\" font-size=\"9.00\" text-anchor=\"start\" x=\"225.5\" y=\"-18.3\">ε</text>\n",
       "</g>\n",
       "<!-- 3&#45;&gt;0 -->\n",
       "<g class=\"edge\" id=\"edge4\"><title>3-&gt;0</title>\n",
       "<path d=\"M77.1706,-12.5C90.439,-12.5 107.853,-12.5 119.23,-12.5\" fill=\"none\" stroke=\"black\"/>\n",
       "<polygon fill=\"black\" points=\"124.285,-12.5 119.285,-14.7501 121.785,-12.5 119.285,-12.5001 119.285,-12.5001 119.285,-12.5001 121.785,-12.5 119.285,-10.2501 124.285,-12.5 124.285,-12.5\" stroke=\"black\"/>\n",
       "<text font-family=\"Courier,monospace\" font-size=\"9.00\" text-anchor=\"start\" x=\"98.5\" y=\"-18.3\">ε</text>\n",
       "</g>\n",
       "</g>\n",
       "</svg>"
      ],
      "text/plain": [
       "<IPython.core.display.SVG object>"
      ]
     },
     "metadata": {},
     "output_type": "display_data"
    },
    {
     "data": {
      "text/html": [
       "eliminate 2"
      ],
      "text/plain": [
       "<IPython.core.display.HTML object>"
      ]
     },
     "metadata": {},
     "output_type": "display_data"
    },
    {
     "data": {
      "image/svg+xml": [
       "<svg height=\"63pt\" viewBox=\"0.00 0.00 287.00 63.00\" width=\"287pt\" xmlns=\"http://www.w3.org/2000/svg\" xmlns:xlink=\"http://www.w3.org/1999/xlink\">\n",
       "<g class=\"graph\" id=\"graph0\" transform=\"scale(1 1) rotate(0) translate(4 59)\">\n",
       "<title>%3</title>\n",
       "<polygon fill=\"white\" points=\"-4,4 -4,-59 283,-59 283,4 -4,4\" stroke=\"none\"/>\n",
       "<!-- _START -->\n",
       "<g class=\"node\" id=\"node1\"><title>_START</title>\n",
       "</g>\n",
       "<!-- 2 -->\n",
       "<g class=\"node\" id=\"node4\"><title>2</title>\n",
       "<path d=\"M71.3333,-21C71.3333,-21 43.6667,-21 43.6667,-21 40.8333,-21 38,-18.1667 38,-15.3333 38,-15.3333 38,-9.66667 38,-9.66667 38,-6.83333 40.8333,-4 43.6667,-4 43.6667,-4 71.3333,-4 71.3333,-4 74.1667,-4 77,-6.83333 77,-9.66667 77,-9.66667 77,-15.3333 77,-15.3333 77,-18.1667 74.1667,-21 71.3333,-21\" fill=\"none\" stroke=\"black\"/>\n",
       "<text font-family=\"Courier,monospace\" font-size=\"10.00\" text-anchor=\"start\" x=\"42\" y=\"-10\">START</text>\n",
       "</g>\n",
       "<!-- _START&#45;&gt;2 -->\n",
       "<g class=\"edge\" id=\"edge1\"><title>_START-&gt;2</title>\n",
       "<path d=\"M1.15921,-12.5C2.89199,-12.5 18.4598,-12.5 32.6433,-12.5\" fill=\"none\" stroke=\"black\"/>\n",
       "<polygon fill=\"black\" points=\"37.7779,-12.5 32.778,-14.7501 35.2779,-12.5 32.7779,-12.5001 32.7779,-12.5001 32.7779,-12.5001 35.2779,-12.5 32.7779,-10.2501 37.7779,-12.5 37.7779,-12.5\" stroke=\"black\"/>\n",
       "</g>\n",
       "<!-- 0 -->\n",
       "<g class=\"node\" id=\"node2\"><title>0</title>\n",
       "<path d=\"M134.5,-21C134.5,-21 129.5,-21 129.5,-21 127,-21 124.5,-18.5 124.5,-16 124.5,-16 124.5,-9 124.5,-9 124.5,-6.5 127,-4 129.5,-4 129.5,-4 134.5,-4 134.5,-4 137,-4 139.5,-6.5 139.5,-9 139.5,-9 139.5,-16 139.5,-16 139.5,-18.5 137,-21 134.5,-21\" fill=\"none\" stroke=\"black\"/>\n",
       "<text font-family=\"Courier,monospace\" font-size=\"10.00\" text-anchor=\"start\" x=\"128.5\" y=\"-10\">1</text>\n",
       "</g>\n",
       "<!-- 0&#45;&gt;0 -->\n",
       "<g class=\"edge\" id=\"edge2\"><title>0-&gt;0</title>\n",
       "<path d=\"M127.53,-21.1857C125.061,-29.6739 126.551,-39 132,-39 136.342,-39 138.171,-33.0778 137.485,-26.3767\" fill=\"none\" stroke=\"black\"/>\n",
       "<polygon fill=\"black\" points=\"136.47,-21.1857 139.637,-25.6612 136.95,-23.6392 137.429,-26.0928 137.429,-26.0928 137.429,-26.0928 136.95,-23.6392 135.221,-26.5245 136.47,-21.1857 136.47,-21.1857\" stroke=\"black\"/>\n",
       "<text font-family=\"Courier,monospace\" font-size=\"9.00\" text-anchor=\"start\" x=\"129\" y=\"-44.8\">a</text>\n",
       "</g>\n",
       "<!-- 1 -->\n",
       "<g class=\"node\" id=\"node3\"><title>1</title>\n",
       "<path d=\"M269.333,-21C269.333,-21 235.667,-21 235.667,-21 232.833,-21 230,-18.1667 230,-15.3333 230,-15.3333 230,-9.66667 230,-9.66667 230,-6.83333 232.833,-4 235.667,-4 235.667,-4 269.333,-4 269.333,-4 272.167,-4 275,-6.83333 275,-9.66667 275,-9.66667 275,-15.3333 275,-15.3333 275,-18.1667 272.167,-21 269.333,-21\" fill=\"none\" stroke=\"black\"/>\n",
       "<path d=\"M270.667,-25C270.667,-25 234.333,-25 234.333,-25 230.167,-25 226,-20.8333 226,-16.6667 226,-16.6667 226,-8.33333 226,-8.33333 226,-4.16667 230.167,-0 234.333,-0 234.333,-0 270.667,-0 270.667,-0 274.833,-0 279,-4.16667 279,-8.33333 279,-8.33333 279,-16.6667 279,-16.6667 279,-20.8333 274.833,-25 270.667,-25\" fill=\"none\" stroke=\"black\"/>\n",
       "<text font-family=\"Courier,monospace\" font-size=\"10.00\" text-anchor=\"start\" x=\"234\" y=\"-10\">ACCEPT</text>\n",
       "</g>\n",
       "<!-- 0&#45;&gt;1 -->\n",
       "<g class=\"edge\" id=\"edge3\"><title>0-&gt;1</title>\n",
       "<path d=\"M139.711,-12.5C155.013,-12.5 193.29,-12.5 220.79,-12.5\" fill=\"none\" stroke=\"black\"/>\n",
       "<polygon fill=\"black\" points=\"225.792,-12.5 220.792,-14.7501 223.292,-12.5 220.792,-12.5001 220.792,-12.5001 220.792,-12.5001 223.292,-12.5 220.792,-10.2501 225.792,-12.5 225.792,-12.5\" stroke=\"black\"/>\n",
       "<text font-family=\"Courier,monospace\" font-size=\"9.00\" text-anchor=\"start\" x=\"161\" y=\"-18.3\">b (a|b)*</text>\n",
       "</g>\n",
       "<!-- 2&#45;&gt;0 -->\n",
       "<g class=\"edge\" id=\"edge4\"><title>2-&gt;0</title>\n",
       "<path d=\"M77.1706,-12.5C90.439,-12.5 107.853,-12.5 119.23,-12.5\" fill=\"none\" stroke=\"black\"/>\n",
       "<polygon fill=\"black\" points=\"124.285,-12.5 119.285,-14.7501 121.785,-12.5 119.285,-12.5001 119.285,-12.5001 119.285,-12.5001 121.785,-12.5 119.285,-10.2501 124.285,-12.5 124.285,-12.5\" stroke=\"black\"/>\n",
       "<text font-family=\"Courier,monospace\" font-size=\"9.00\" text-anchor=\"start\" x=\"98.5\" y=\"-18.3\">ε</text>\n",
       "</g>\n",
       "</g>\n",
       "</svg>"
      ],
      "text/plain": [
       "<IPython.core.display.SVG object>"
      ]
     },
     "metadata": {},
     "output_type": "display_data"
    },
    {
     "data": {
      "text/html": [
       "eliminate 1"
      ],
      "text/plain": [
       "<IPython.core.display.HTML object>"
      ]
     },
     "metadata": {},
     "output_type": "display_data"
    },
    {
     "data": {
      "image/svg+xml": [
       "<svg height=\"37pt\" viewBox=\"0.00 0.00 240.00 36.50\" width=\"240pt\" xmlns=\"http://www.w3.org/2000/svg\" xmlns:xlink=\"http://www.w3.org/1999/xlink\">\n",
       "<g class=\"graph\" id=\"graph0\" transform=\"scale(1 1) rotate(0) translate(4 32.5)\">\n",
       "<title>%3</title>\n",
       "<polygon fill=\"white\" points=\"-4,4 -4,-32.5 236,-32.5 236,4 -4,4\" stroke=\"none\"/>\n",
       "<!-- _START -->\n",
       "<g class=\"node\" id=\"node1\"><title>_START</title>\n",
       "</g>\n",
       "<!-- 1 -->\n",
       "<g class=\"node\" id=\"node3\"><title>1</title>\n",
       "<path d=\"M71.3333,-21C71.3333,-21 43.6667,-21 43.6667,-21 40.8333,-21 38,-18.1667 38,-15.3333 38,-15.3333 38,-9.66667 38,-9.66667 38,-6.83333 40.8333,-4 43.6667,-4 43.6667,-4 71.3333,-4 71.3333,-4 74.1667,-4 77,-6.83333 77,-9.66667 77,-9.66667 77,-15.3333 77,-15.3333 77,-18.1667 74.1667,-21 71.3333,-21\" fill=\"none\" stroke=\"black\"/>\n",
       "<text font-family=\"Courier,monospace\" font-size=\"10.00\" text-anchor=\"start\" x=\"42\" y=\"-10\">START</text>\n",
       "</g>\n",
       "<!-- _START&#45;&gt;1 -->\n",
       "<g class=\"edge\" id=\"edge1\"><title>_START-&gt;1</title>\n",
       "<path d=\"M1.15921,-12.5C2.89199,-12.5 18.4598,-12.5 32.6433,-12.5\" fill=\"none\" stroke=\"black\"/>\n",
       "<polygon fill=\"black\" points=\"37.7779,-12.5 32.778,-14.7501 35.2779,-12.5 32.7779,-12.5001 32.7779,-12.5001 32.7779,-12.5001 35.2779,-12.5 32.7779,-10.2501 37.7779,-12.5 37.7779,-12.5\" stroke=\"black\"/>\n",
       "</g>\n",
       "<!-- 0 -->\n",
       "<g class=\"node\" id=\"node2\"><title>0</title>\n",
       "<path d=\"M222.333,-21C222.333,-21 188.667,-21 188.667,-21 185.833,-21 183,-18.1667 183,-15.3333 183,-15.3333 183,-9.66667 183,-9.66667 183,-6.83333 185.833,-4 188.667,-4 188.667,-4 222.333,-4 222.333,-4 225.167,-4 228,-6.83333 228,-9.66667 228,-9.66667 228,-15.3333 228,-15.3333 228,-18.1667 225.167,-21 222.333,-21\" fill=\"none\" stroke=\"black\"/>\n",
       "<path d=\"M223.667,-25C223.667,-25 187.333,-25 187.333,-25 183.167,-25 179,-20.8333 179,-16.6667 179,-16.6667 179,-8.33333 179,-8.33333 179,-4.16667 183.167,-0 187.333,-0 187.333,-0 223.667,-0 223.667,-0 227.833,-0 232,-4.16667 232,-8.33333 232,-8.33333 232,-16.6667 232,-16.6667 232,-20.8333 227.833,-25 223.667,-25\" fill=\"none\" stroke=\"black\"/>\n",
       "<text font-family=\"Courier,monospace\" font-size=\"10.00\" text-anchor=\"start\" x=\"187\" y=\"-10\">ACCEPT</text>\n",
       "</g>\n",
       "<!-- 1&#45;&gt;0 -->\n",
       "<g class=\"edge\" id=\"edge2\"><title>1-&gt;0</title>\n",
       "<path d=\"M77.2881,-12.5C101.649,-12.5 144.463,-12.5 173.632,-12.5\" fill=\"none\" stroke=\"black\"/>\n",
       "<polygon fill=\"black\" points=\"178.912,-12.5 173.912,-14.7501 176.412,-12.5 173.912,-12.5001 173.912,-12.5001 173.912,-12.5001 176.412,-12.5 173.912,-10.2501 178.912,-12.5 178.912,-12.5\" stroke=\"black\"/>\n",
       "<text font-family=\"Courier,monospace\" font-size=\"9.00\" text-anchor=\"start\" x=\"98\" y=\"-18.3\">a* b (a|b)*</text>\n",
       "</g>\n",
       "</g>\n",
       "</svg>"
      ],
      "text/plain": [
       "<IPython.core.display.SVG object>"
      ]
     },
     "metadata": {},
     "output_type": "display_data"
    },
    {
     "data": {
      "text/html": [
       "a* b (a|b)*"
      ],
      "text/plain": [
       "<tock.regexps.RegularExpression at 0x1094ddd90>"
      ]
     },
     "execution_count": 7,
     "metadata": {},
     "output_type": "execute_result"
    }
   ],
   "source": [
    "to_regexp(m66, display_steps=True)"
   ]
  },
  {
   "cell_type": "code",
   "execution_count": 8,
   "metadata": {
    "collapsed": false
   },
   "outputs": [
    {
     "data": {
      "image/svg+xml": [
       "<svg height=\"95pt\" viewBox=\"0.00 0.00 203.00 94.51\" width=\"203pt\" xmlns=\"http://www.w3.org/2000/svg\" xmlns:xlink=\"http://www.w3.org/1999/xlink\">\n",
       "<g class=\"graph\" id=\"graph0\" transform=\"scale(1 1) rotate(0) translate(4 90.5054)\">\n",
       "<title>%3</title>\n",
       "<polygon fill=\"white\" points=\"-4,4 -4,-90.5054 199,-90.5054 199,4 -4,4\" stroke=\"none\"/>\n",
       "<!-- _START -->\n",
       "<g class=\"node\" id=\"node1\"><title>_START</title>\n",
       "</g>\n",
       "<!-- 0 -->\n",
       "<g class=\"node\" id=\"node2\"><title>0</title>\n",
       "<path d=\"M48,-50.5054C48,-50.5054 43,-50.5054 43,-50.5054 40.5,-50.5054 38,-48.0054 38,-45.5054 38,-45.5054 38,-38.5054 38,-38.5054 38,-36.0054 40.5,-33.5054 43,-33.5054 43,-33.5054 48,-33.5054 48,-33.5054 50.5,-33.5054 53,-36.0054 53,-38.5054 53,-38.5054 53,-45.5054 53,-45.5054 53,-48.0054 50.5,-50.5054 48,-50.5054\" fill=\"none\" stroke=\"black\"/>\n",
       "<text font-family=\"Courier,monospace\" font-size=\"10.00\" text-anchor=\"start\" x=\"42\" y=\"-39.5054\">1</text>\n",
       "</g>\n",
       "<!-- _START&#45;&gt;0 -->\n",
       "<g class=\"edge\" id=\"edge1\"><title>_START-&gt;0</title>\n",
       "<path d=\"M1.12479,-42.0054C2.76696,-42.0054 20.2631,-42.0054 32.5252,-42.0054\" fill=\"none\" stroke=\"black\"/>\n",
       "<polygon fill=\"black\" points=\"37.7151,-42.0054 32.7151,-44.2555 35.2151,-42.0055 32.7151,-42.0055 32.7151,-42.0055 32.7151,-42.0055 35.2151,-42.0055 32.715,-39.7555 37.7151,-42.0054 37.7151,-42.0054\" stroke=\"black\"/>\n",
       "</g>\n",
       "<!-- 1 -->\n",
       "<g class=\"node\" id=\"node3\"><title>1</title>\n",
       "<path d=\"M186,-48.5054C186,-48.5054 181,-48.5054 181,-48.5054 178.5,-48.5054 176,-46.0054 176,-43.5054 176,-43.5054 176,-36.5054 176,-36.5054 176,-34.0054 178.5,-31.5054 181,-31.5054 181,-31.5054 186,-31.5054 186,-31.5054 188.5,-31.5054 191,-34.0054 191,-36.5054 191,-36.5054 191,-43.5054 191,-43.5054 191,-46.0054 188.5,-48.5054 186,-48.5054\" fill=\"none\" stroke=\"black\"/>\n",
       "<path d=\"M187.333,-52.5054C187.333,-52.5054 179.667,-52.5054 179.667,-52.5054 175.833,-52.5054 172,-48.6721 172,-44.8387 172,-44.8387 172,-35.1721 172,-35.1721 172,-31.3387 175.833,-27.5054 179.667,-27.5054 179.667,-27.5054 187.333,-27.5054 187.333,-27.5054 191.167,-27.5054 195,-31.3387 195,-35.1721 195,-35.1721 195,-44.8387 195,-44.8387 195,-48.6721 191.167,-52.5054 187.333,-52.5054\" fill=\"none\" stroke=\"black\"/>\n",
       "<text font-family=\"Courier,monospace\" font-size=\"10.00\" text-anchor=\"middle\" x=\"183.5\" y=\"-37.5054\">2</text>\n",
       "</g>\n",
       "<!-- 0&#45;&gt;1 -->\n",
       "<g class=\"edge\" id=\"edge3\"><title>0-&gt;1</title>\n",
       "<path d=\"M53.3705,-49.8245C57.8723,-54.3312 64.1727,-59.5726 71,-62.0054 76.0239,-63.7956 77.6671,-62.0704 83,-62.0054 114.566,-61.6205 124.061,-70.0139 154,-60.0054 158.902,-58.3669 163.708,-55.5919 167.936,-52.6224\" fill=\"none\" stroke=\"black\"/>\n",
       "<polygon fill=\"black\" points=\"171.954,-49.6229 169.293,-54.4172 169.951,-51.1186 167.947,-52.6142 167.947,-52.6142 167.947,-52.6142 169.951,-51.1186 166.601,-50.8113 171.954,-49.6229 171.954,-49.6229\" stroke=\"black\"/>\n",
       "<text font-family=\"Courier,monospace\" font-size=\"9.00\" text-anchor=\"start\" x=\"109.5\" y=\"-70.8054\">a</text>\n",
       "</g>\n",
       "<!-- 2 -->\n",
       "<g class=\"node\" id=\"node4\"><title>2</title>\n",
       "<path d=\"M115,-48.5054C115,-48.5054 110,-48.5054 110,-48.5054 107.5,-48.5054 105,-46.0054 105,-43.5054 105,-43.5054 105,-36.5054 105,-36.5054 105,-34.0054 107.5,-31.5054 110,-31.5054 110,-31.5054 115,-31.5054 115,-31.5054 117.5,-31.5054 120,-34.0054 120,-36.5054 120,-36.5054 120,-43.5054 120,-43.5054 120,-46.0054 117.5,-48.5054 115,-48.5054\" fill=\"none\" stroke=\"black\"/>\n",
       "<path d=\"M116.333,-52.5054C116.333,-52.5054 108.667,-52.5054 108.667,-52.5054 104.833,-52.5054 101,-48.6721 101,-44.8387 101,-44.8387 101,-35.1721 101,-35.1721 101,-31.3387 104.833,-27.5054 108.667,-27.5054 108.667,-27.5054 116.333,-27.5054 116.333,-27.5054 120.167,-27.5054 124,-31.3387 124,-35.1721 124,-35.1721 124,-44.8387 124,-44.8387 124,-48.6721 120.167,-52.5054 116.333,-52.5054\" fill=\"none\" stroke=\"black\"/>\n",
       "<text font-family=\"Courier,monospace\" font-size=\"10.00\" text-anchor=\"start\" x=\"109\" y=\"-37.5054\">3</text>\n",
       "</g>\n",
       "<!-- 0&#45;&gt;2 -->\n",
       "<g class=\"edge\" id=\"edge2\"><title>0-&gt;2</title>\n",
       "<path d=\"M53.4561,-41.7914C63.5177,-41.4818 82.403,-40.9007 95.9003,-40.4854\" fill=\"none\" stroke=\"black\"/>\n",
       "<polygon fill=\"black\" points=\"100.957,-40.3298 96.0289,-42.7326 98.4584,-40.4067 95.9596,-40.4837 95.9596,-40.4837 95.9596,-40.4837 98.4584,-40.4067 95.8904,-38.2347 100.957,-40.3298 100.957,-40.3298\" stroke=\"black\"/>\n",
       "<text font-family=\"Courier,monospace\" font-size=\"9.00\" text-anchor=\"start\" x=\"74\" y=\"-47.8054\">b</text>\n",
       "</g>\n",
       "<!-- 1&#45;&gt;0 -->\n",
       "<g class=\"edge\" id=\"edge6\"><title>1-&gt;0</title>\n",
       "<path d=\"M171.828,-30.3042C160.786,-20.9776 142.579,-7.50996 124,-2.00541 114.199,0.898427 110.98,0.208555 101,-2.00541 86.6355,-5.19216 82.9249,-7.38619 71,-16.0054 65.6592,-19.8657 60.5314,-25.0003 56.3597,-29.6866\" fill=\"none\" stroke=\"black\"/>\n",
       "<polygon fill=\"black\" points=\"53.0968,-33.4797 54.6518,-28.2218 54.7271,-31.5844 56.3575,-29.6892 56.3575,-29.6892 56.3575,-29.6892 54.7271,-31.5844 58.0632,-31.1565 53.0968,-33.4797 53.0968,-33.4797\" stroke=\"black\"/>\n",
       "<text font-family=\"Courier,monospace\" font-size=\"9.00\" text-anchor=\"start\" x=\"109.5\" y=\"-7.80541\">a</text>\n",
       "</g>\n",
       "<!-- 1&#45;&gt;1 -->\n",
       "<g class=\"edge\" id=\"edge7\"><title>1-&gt;1</title>\n",
       "<path d=\"M177.811,-52.5372C175.959,-61.5388 177.855,-70.5054 183.5,-70.5054 188.086,-70.5054 190.198,-64.5861 189.835,-57.5381\" fill=\"none\" stroke=\"black\"/>\n",
       "<polygon fill=\"black\" points=\"189.189,-52.5372 192.061,-57.2075 189.509,-55.0166 189.83,-57.496 189.83,-57.496 189.83,-57.496 189.509,-55.0166 187.598,-57.7845 189.189,-52.5372 189.189,-52.5372\" stroke=\"black\"/>\n",
       "<text font-family=\"Courier,monospace\" font-size=\"9.00\" text-anchor=\"start\" x=\"180.5\" y=\"-76.3054\">b</text>\n",
       "</g>\n",
       "<!-- 2&#45;&gt;0 -->\n",
       "<g class=\"edge\" id=\"edge4\"><title>2-&gt;0</title>\n",
       "<path d=\"M100.712,-29.7815C92.6731,-23.4435 81.3435,-17.1791 71,-21.0054 65.7984,-22.9296 60.9559,-26.5062 56.9726,-30.1693\" fill=\"none\" stroke=\"black\"/>\n",
       "<polygon fill=\"black\" points=\"53.2944,-33.8033 55.2699,-28.6886 55.0728,-32.0462 56.8513,-30.2892 56.8513,-30.2892 56.8513,-30.2892 55.0728,-32.0462 58.4326,-31.8898 53.2944,-33.8033 53.2944,-33.8033\" stroke=\"black\"/>\n",
       "<text font-family=\"Courier,monospace\" font-size=\"9.00\" text-anchor=\"start\" x=\"74\" y=\"-26.8054\">b</text>\n",
       "</g>\n",
       "<!-- 2&#45;&gt;1 -->\n",
       "<g class=\"edge\" id=\"edge5\"><title>2-&gt;1</title>\n",
       "<path d=\"M124.281,-40.0054C135.557,-40.0054 153.385,-40.0054 166.344,-40.0054\" fill=\"none\" stroke=\"black\"/>\n",
       "<polygon fill=\"black\" points=\"171.567,-40.0054 166.567,-42.2555 169.067,-40.0055 166.567,-40.0055 166.567,-40.0055 166.567,-40.0055 169.067,-40.0055 166.567,-37.7555 171.567,-40.0054 171.567,-40.0054\" stroke=\"black\"/>\n",
       "<text font-family=\"Courier,monospace\" font-size=\"9.00\" text-anchor=\"start\" x=\"145\" y=\"-45.8054\">a</text>\n",
       "</g>\n",
       "</g>\n",
       "</svg>"
      ],
      "text/plain": [
       "<IPython.core.display.SVG object>"
      ]
     },
     "metadata": {},
     "output_type": "display_data"
    }
   ],
   "source": [
    "m68 = read_csv('sipser-1-68.csv')\n",
    "m68"
   ]
  },
  {
   "cell_type": "code",
   "execution_count": 9,
   "metadata": {
    "collapsed": false
   },
   "outputs": [
    {
     "data": {
      "image/svg+xml": [
       "<svg height=\"111pt\" viewBox=\"0.00 0.00 374.00 110.85\" width=\"374pt\" xmlns=\"http://www.w3.org/2000/svg\" xmlns:xlink=\"http://www.w3.org/1999/xlink\">\n",
       "<g class=\"graph\" id=\"graph0\" transform=\"scale(1 1) rotate(0) translate(4 106.848)\">\n",
       "<title>%3</title>\n",
       "<polygon fill=\"white\" points=\"-4,4 -4,-106.848 370,-106.848 370,4 -4,4\" stroke=\"none\"/>\n",
       "<!-- _START -->\n",
       "<g class=\"node\" id=\"node1\"><title>_START</title>\n",
       "</g>\n",
       "<!-- 4 -->\n",
       "<g class=\"node\" id=\"node6\"><title>4</title>\n",
       "<path d=\"M71.3333,-63.848C71.3333,-63.848 43.6667,-63.848 43.6667,-63.848 40.8333,-63.848 38,-61.0147 38,-58.1814 38,-58.1814 38,-52.5147 38,-52.5147 38,-49.6814 40.8333,-46.848 43.6667,-46.848 43.6667,-46.848 71.3333,-46.848 71.3333,-46.848 74.1667,-46.848 77,-49.6814 77,-52.5147 77,-52.5147 77,-58.1814 77,-58.1814 77,-61.0147 74.1667,-63.848 71.3333,-63.848\" fill=\"none\" stroke=\"black\"/>\n",
       "<text font-family=\"Courier,monospace\" font-size=\"10.00\" text-anchor=\"start\" x=\"42\" y=\"-52.848\">START</text>\n",
       "</g>\n",
       "<!-- _START&#45;&gt;4 -->\n",
       "<g class=\"edge\" id=\"edge1\"><title>_START-&gt;4</title>\n",
       "<path d=\"M1.15921,-55.348C2.89199,-55.348 18.4598,-55.348 32.6433,-55.348\" fill=\"none\" stroke=\"black\"/>\n",
       "<polygon fill=\"black\" points=\"37.7779,-55.348 32.778,-57.5981 35.2779,-55.3481 32.7779,-55.3481 32.7779,-55.3481 32.7779,-55.3481 35.2779,-55.3481 32.7779,-53.0981 37.7779,-55.348 37.7779,-55.348\" stroke=\"black\"/>\n",
       "</g>\n",
       "<!-- 0 -->\n",
       "<g class=\"node\" id=\"node2\"><title>0</title>\n",
       "<path d=\"M134,-63.848C134,-63.848 129,-63.848 129,-63.848 126.5,-63.848 124,-61.348 124,-58.848 124,-58.848 124,-51.848 124,-51.848 124,-49.348 126.5,-46.848 129,-46.848 129,-46.848 134,-46.848 134,-46.848 136.5,-46.848 139,-49.348 139,-51.848 139,-51.848 139,-58.848 139,-58.848 139,-61.348 136.5,-63.848 134,-63.848\" fill=\"none\" stroke=\"black\"/>\n",
       "<text font-family=\"Courier,monospace\" font-size=\"10.00\" text-anchor=\"start\" x=\"128\" y=\"-52.848\">1</text>\n",
       "</g>\n",
       "<!-- 1 -->\n",
       "<g class=\"node\" id=\"node3\"><title>1</title>\n",
       "<path d=\"M260.5,-68.848C260.5,-68.848 255.5,-68.848 255.5,-68.848 253,-68.848 250.5,-66.348 250.5,-63.848 250.5,-63.848 250.5,-56.848 250.5,-56.848 250.5,-54.348 253,-51.848 255.5,-51.848 255.5,-51.848 260.5,-51.848 260.5,-51.848 263,-51.848 265.5,-54.348 265.5,-56.848 265.5,-56.848 265.5,-63.848 265.5,-63.848 265.5,-66.348 263,-68.848 260.5,-68.848\" fill=\"none\" stroke=\"black\"/>\n",
       "<text font-family=\"Courier,monospace\" font-size=\"10.00\" text-anchor=\"start\" x=\"254.5\" y=\"-57.848\">2</text>\n",
       "</g>\n",
       "<!-- 0&#45;&gt;1 -->\n",
       "<g class=\"edge\" id=\"edge3\"><title>0-&gt;1</title>\n",
       "<path d=\"M139.358,-56.0029C144.267,-56.4483 151.035,-57.0153 157,-57.348 188.747,-59.1188 226.225,-59.8911 245.004,-60.1875\" fill=\"none\" stroke=\"black\"/>\n",
       "<polygon fill=\"black\" points=\"250.205,-60.2647 245.172,-62.4401 247.705,-60.2275 245.205,-60.1904 245.205,-60.1904 245.205,-60.1904 247.705,-60.2275 245.239,-57.9406 250.205,-60.2647 250.205,-60.2647\" stroke=\"black\"/>\n",
       "<text font-family=\"Courier,monospace\" font-size=\"9.00\" text-anchor=\"start\" x=\"191.5\" y=\"-65.148\">a</text>\n",
       "</g>\n",
       "<!-- 2 -->\n",
       "<g class=\"node\" id=\"node4\"><title>2</title>\n",
       "<path d=\"M197,-24.848C197,-24.848 192,-24.848 192,-24.848 189.5,-24.848 187,-22.348 187,-19.848 187,-19.848 187,-12.848 187,-12.848 187,-10.348 189.5,-7.84804 192,-7.84804 192,-7.84804 197,-7.84804 197,-7.84804 199.5,-7.84804 202,-10.348 202,-12.848 202,-12.848 202,-19.848 202,-19.848 202,-22.348 199.5,-24.848 197,-24.848\" fill=\"none\" stroke=\"black\"/>\n",
       "<text font-family=\"Courier,monospace\" font-size=\"10.00\" text-anchor=\"start\" x=\"191\" y=\"-13.848\">3</text>\n",
       "</g>\n",
       "<!-- 0&#45;&gt;2 -->\n",
       "<g class=\"edge\" id=\"edge2\"><title>0-&gt;2</title>\n",
       "<path d=\"M133.631,-46.707C135.76,-34.3866 141.627,-12.1775 157,-2.34804 164.955,2.73857 175.044,-1.83836 182.598,-7.07771\" fill=\"none\" stroke=\"black\"/>\n",
       "<polygon fill=\"black\" points=\"186.932,-10.3451 181.585,-9.13172 184.935,-8.84008 182.939,-7.33508 182.939,-7.33508 182.939,-7.33508 184.935,-8.84008 184.294,-5.53844 186.932,-10.3451 186.932,-10.3451\" stroke=\"black\"/>\n",
       "<text font-family=\"Courier,monospace\" font-size=\"9.00\" text-anchor=\"start\" x=\"160\" y=\"-8.14804\">b</text>\n",
       "</g>\n",
       "<!-- 1&#45;&gt;0 -->\n",
       "<g class=\"edge\" id=\"edge8\"><title>1-&gt;0</title>\n",
       "<path d=\"M250.3,-64.9448C245.431,-68.0692 238.571,-72.0399 232,-74.348 213.014,-81.0174 206.991,-81.6494 187,-79.348 173.398,-77.7822 169.513,-77.9048 157,-72.348 152.274,-70.2495 147.507,-67.2009 143.45,-64.2629\" fill=\"none\" stroke=\"black\"/>\n",
       "<polygon fill=\"black\" points=\"139.361,-61.1685 144.706,-62.392 141.355,-62.6773 143.348,-64.1861 143.348,-64.1861 143.348,-64.1861 141.355,-62.6773 141.99,-65.9801 139.361,-61.1685 139.361,-61.1685\" stroke=\"black\"/>\n",
       "<text font-family=\"Courier,monospace\" font-size=\"9.00\" text-anchor=\"start\" x=\"191.5\" y=\"-87.148\">a</text>\n",
       "</g>\n",
       "<!-- 1&#45;&gt;1 -->\n",
       "<g class=\"edge\" id=\"edge9\"><title>1-&gt;1</title>\n",
       "<path d=\"M253.53,-69.0337C251.061,-77.5219 252.551,-86.848 258,-86.848 262.342,-86.848 264.171,-80.9259 263.485,-74.2247\" fill=\"none\" stroke=\"black\"/>\n",
       "<polygon fill=\"black\" points=\"262.47,-69.0337 265.637,-73.5092 262.95,-71.4873 263.429,-73.9409 263.429,-73.9409 263.429,-73.9409 262.95,-71.4873 261.221,-74.3725 262.47,-69.0337 262.47,-69.0337\" stroke=\"black\"/>\n",
       "<text font-family=\"Courier,monospace\" font-size=\"9.00\" text-anchor=\"start\" x=\"255\" y=\"-92.648\">b</text>\n",
       "</g>\n",
       "<!-- 3 -->\n",
       "<g class=\"node\" id=\"node5\"><title>3</title>\n",
       "<path d=\"M356.333,-36.848C356.333,-36.848 322.667,-36.848 322.667,-36.848 319.833,-36.848 317,-34.0147 317,-31.1814 317,-31.1814 317,-25.5147 317,-25.5147 317,-22.6814 319.833,-19.848 322.667,-19.848 322.667,-19.848 356.333,-19.848 356.333,-19.848 359.167,-19.848 362,-22.6814 362,-25.5147 362,-25.5147 362,-31.1814 362,-31.1814 362,-34.0147 359.167,-36.848 356.333,-36.848\" fill=\"none\" stroke=\"black\"/>\n",
       "<path d=\"M357.667,-40.848C357.667,-40.848 321.333,-40.848 321.333,-40.848 317.167,-40.848 313,-36.6814 313,-32.5147 313,-32.5147 313,-24.1814 313,-24.1814 313,-20.0147 317.167,-15.848 321.333,-15.848 321.333,-15.848 357.667,-15.848 357.667,-15.848 361.833,-15.848 366,-20.0147 366,-24.1814 366,-24.1814 366,-32.5147 366,-32.5147 366,-36.6814 361.833,-40.848 357.667,-40.848\" fill=\"none\" stroke=\"black\"/>\n",
       "<text font-family=\"Courier,monospace\" font-size=\"10.00\" text-anchor=\"start\" x=\"321\" y=\"-25.848\">ACCEPT</text>\n",
       "</g>\n",
       "<!-- 1&#45;&gt;3 -->\n",
       "<g class=\"edge\" id=\"edge10\"><title>1-&gt;3</title>\n",
       "<path d=\"M265.506,-57.7293C274.781,-53.9958 292.415,-46.898 308.026,-40.6141\" fill=\"none\" stroke=\"black\"/>\n",
       "<polygon fill=\"black\" points=\"312.795,-38.6947 308.997,-42.649 310.476,-39.6282 308.157,-40.5618 308.157,-40.5618 308.157,-40.5618 310.476,-39.6282 307.316,-38.4745 312.795,-38.6947 312.795,-38.6947\" stroke=\"black\"/>\n",
       "<text font-family=\"Courier,monospace\" font-size=\"9.00\" text-anchor=\"start\" x=\"287.5\" y=\"-56.148\">ε</text>\n",
       "</g>\n",
       "<!-- 2&#45;&gt;0 -->\n",
       "<g class=\"edge\" id=\"edge5\"><title>2-&gt;0</title>\n",
       "<path d=\"M186.834,-20.6099C176.344,-27.3167 155.883,-40.3981 143.282,-48.4546\" fill=\"none\" stroke=\"black\"/>\n",
       "<polygon fill=\"black\" points=\"139.028,-51.1744 142.029,-46.5853 141.134,-49.8277 143.241,-48.481 143.241,-48.481 143.241,-48.481 141.134,-49.8277 144.453,-50.3767 139.028,-51.1744 139.028,-51.1744\" stroke=\"black\"/>\n",
       "<text font-family=\"Courier,monospace\" font-size=\"9.00\" text-anchor=\"start\" x=\"160\" y=\"-45.148\">b</text>\n",
       "</g>\n",
       "<!-- 2&#45;&gt;1 -->\n",
       "<g class=\"edge\" id=\"edge6\"><title>2-&gt;1</title>\n",
       "<path d=\"M202.029,-20.6783C209.384,-25.5895 221.662,-33.8859 232,-41.348 236.774,-44.7938 241.969,-48.7138 246.381,-52.0947\" fill=\"none\" stroke=\"black\"/>\n",
       "<polygon fill=\"black\" points=\"250.487,-55.2582 245.153,-53.9887 248.506,-53.7323 246.526,-52.2064 246.526,-52.2064 246.526,-52.2064 248.506,-53.7323 247.899,-50.4241 250.487,-55.2582 250.487,-55.2582\" stroke=\"black\"/>\n",
       "<text font-family=\"Courier,monospace\" font-size=\"9.00\" text-anchor=\"start\" x=\"223\" y=\"-47.148\">a</text>\n",
       "</g>\n",
       "<!-- 2&#45;&gt;3 -->\n",
       "<g class=\"edge\" id=\"edge7\"><title>2-&gt;3</title>\n",
       "<path d=\"M202.016,-16.8948C220.324,-18.4312 273.124,-22.862 307.429,-25.7407\" fill=\"none\" stroke=\"black\"/>\n",
       "<polygon fill=\"black\" points=\"312.768,-26.1887 307.597,-28.0126 310.277,-25.9796 307.786,-25.7705 307.786,-25.7705 307.786,-25.7705 310.277,-25.9796 307.974,-23.5284 312.768,-26.1887 312.768,-26.1887\" stroke=\"black\"/>\n",
       "<text font-family=\"Courier,monospace\" font-size=\"9.00\" text-anchor=\"start\" x=\"256\" y=\"-28.148\">ε</text>\n",
       "</g>\n",
       "<!-- 4&#45;&gt;0 -->\n",
       "<g class=\"edge\" id=\"edge4\"><title>4-&gt;0</title>\n",
       "<path d=\"M77.0418,-55.348C90.2187,-55.348 107.513,-55.348 118.811,-55.348\" fill=\"none\" stroke=\"black\"/>\n",
       "<polygon fill=\"black\" points=\"123.831,-55.348 118.831,-57.5981 121.331,-55.3481 118.831,-55.3481 118.831,-55.3481 118.831,-55.3481 121.331,-55.3481 118.831,-53.0981 123.831,-55.348 123.831,-55.348\" stroke=\"black\"/>\n",
       "<text font-family=\"Courier,monospace\" font-size=\"9.00\" text-anchor=\"start\" x=\"98.5\" y=\"-61.148\">ε</text>\n",
       "</g>\n",
       "</g>\n",
       "</svg>"
      ],
      "text/plain": [
       "<IPython.core.display.SVG object>"
      ]
     },
     "metadata": {},
     "output_type": "display_data"
    },
    {
     "data": {
      "text/html": [
       "eliminate 3"
      ],
      "text/plain": [
       "<IPython.core.display.HTML object>"
      ]
     },
     "metadata": {},
     "output_type": "display_data"
    },
    {
     "data": {
      "image/svg+xml": [
       "<svg height=\"87pt\" viewBox=\"0.00 0.00 334.00 87.00\" width=\"334pt\" xmlns=\"http://www.w3.org/2000/svg\" xmlns:xlink=\"http://www.w3.org/1999/xlink\">\n",
       "<g class=\"graph\" id=\"graph0\" transform=\"scale(1 1) rotate(0) translate(4 83)\">\n",
       "<title>%3</title>\n",
       "<polygon fill=\"white\" points=\"-4,4 -4,-83 330,-83 330,4 -4,4\" stroke=\"none\"/>\n",
       "<!-- _START -->\n",
       "<g class=\"node\" id=\"node1\"><title>_START</title>\n",
       "</g>\n",
       "<!-- 3 -->\n",
       "<g class=\"node\" id=\"node5\"><title>3</title>\n",
       "<path d=\"M71.3333,-35C71.3333,-35 43.6667,-35 43.6667,-35 40.8333,-35 38,-32.1667 38,-29.3333 38,-29.3333 38,-23.6667 38,-23.6667 38,-20.8333 40.8333,-18 43.6667,-18 43.6667,-18 71.3333,-18 71.3333,-18 74.1667,-18 77,-20.8333 77,-23.6667 77,-23.6667 77,-29.3333 77,-29.3333 77,-32.1667 74.1667,-35 71.3333,-35\" fill=\"none\" stroke=\"black\"/>\n",
       "<text font-family=\"Courier,monospace\" font-size=\"10.00\" text-anchor=\"start\" x=\"42\" y=\"-24\">START</text>\n",
       "</g>\n",
       "<!-- _START&#45;&gt;3 -->\n",
       "<g class=\"edge\" id=\"edge1\"><title>_START-&gt;3</title>\n",
       "<path d=\"M1.15921,-26.5C2.89199,-26.5 18.4598,-26.5 32.6433,-26.5\" fill=\"none\" stroke=\"black\"/>\n",
       "<polygon fill=\"black\" points=\"37.7779,-26.5 32.778,-28.7501 35.2779,-26.5 32.7779,-26.5001 32.7779,-26.5001 32.7779,-26.5001 35.2779,-26.5 32.7779,-24.2501 37.7779,-26.5 37.7779,-26.5\" stroke=\"black\"/>\n",
       "</g>\n",
       "<!-- 0 -->\n",
       "<g class=\"node\" id=\"node2\"><title>0</title>\n",
       "<path d=\"M134.5,-35C134.5,-35 129.5,-35 129.5,-35 127,-35 124.5,-32.5 124.5,-30 124.5,-30 124.5,-23 124.5,-23 124.5,-20.5 127,-18 129.5,-18 129.5,-18 134.5,-18 134.5,-18 137,-18 139.5,-20.5 139.5,-23 139.5,-23 139.5,-30 139.5,-30 139.5,-32.5 137,-35 134.5,-35\" fill=\"none\" stroke=\"black\"/>\n",
       "<text font-family=\"Courier,monospace\" font-size=\"10.00\" text-anchor=\"start\" x=\"128.5\" y=\"-24\">1</text>\n",
       "</g>\n",
       "<!-- 0&#45;&gt;0 -->\n",
       "<g class=\"edge\" id=\"edge2\"><title>0-&gt;0</title>\n",
       "<path d=\"M127.53,-35.1857C125.061,-43.6739 126.551,-53 132,-53 136.342,-53 138.171,-47.0778 137.485,-40.3767\" fill=\"none\" stroke=\"black\"/>\n",
       "<polygon fill=\"black\" points=\"136.47,-35.1857 139.637,-39.6612 136.95,-37.6392 137.429,-40.0928 137.429,-40.0928 137.429,-40.0928 136.95,-37.6392 135.221,-40.5245 136.47,-35.1857 136.47,-35.1857\" stroke=\"black\"/>\n",
       "<text font-family=\"Courier,monospace\" font-size=\"9.00\" text-anchor=\"start\" x=\"124\" y=\"-58.8\">b b</text>\n",
       "</g>\n",
       "<!-- 1 -->\n",
       "<g class=\"node\" id=\"node3\"><title>1</title>\n",
       "<path d=\"M220.5,-45C220.5,-45 215.5,-45 215.5,-45 213,-45 210.5,-42.5 210.5,-40 210.5,-40 210.5,-33 210.5,-33 210.5,-30.5 213,-28 215.5,-28 215.5,-28 220.5,-28 220.5,-28 223,-28 225.5,-30.5 225.5,-33 225.5,-33 225.5,-40 225.5,-40 225.5,-42.5 223,-45 220.5,-45\" fill=\"none\" stroke=\"black\"/>\n",
       "<text font-family=\"Courier,monospace\" font-size=\"10.00\" text-anchor=\"start\" x=\"214.5\" y=\"-34\">2</text>\n",
       "</g>\n",
       "<!-- 0&#45;&gt;1 -->\n",
       "<g class=\"edge\" id=\"edge3\"><title>0-&gt;1</title>\n",
       "<path d=\"M139.832,-32.82C144.548,-36.7335 151.178,-41.4001 158,-43.5 173.901,-48.3943 193.187,-44.3423 205.28,-40.6745\" fill=\"none\" stroke=\"black\"/>\n",
       "<polygon fill=\"black\" points=\"210.292,-39.0499 206.229,-42.7321 207.913,-39.8208 205.535,-40.5917 205.535,-40.5917 205.535,-40.5917 207.913,-39.8208 204.841,-38.4513 210.292,-39.0499 210.292,-39.0499\" stroke=\"black\"/>\n",
       "<text font-family=\"Courier,monospace\" font-size=\"9.00\" text-anchor=\"start\" x=\"161\" y=\"-51.3\">a|b a</text>\n",
       "</g>\n",
       "<!-- 2 -->\n",
       "<g class=\"node\" id=\"node4\"><title>2</title>\n",
       "<path d=\"M316.333,-21C316.333,-21 282.667,-21 282.667,-21 279.833,-21 277,-18.1667 277,-15.3333 277,-15.3333 277,-9.66667 277,-9.66667 277,-6.83333 279.833,-4 282.667,-4 282.667,-4 316.333,-4 316.333,-4 319.167,-4 322,-6.83333 322,-9.66667 322,-9.66667 322,-15.3333 322,-15.3333 322,-18.1667 319.167,-21 316.333,-21\" fill=\"none\" stroke=\"black\"/>\n",
       "<path d=\"M317.667,-25C317.667,-25 281.333,-25 281.333,-25 277.167,-25 273,-20.8333 273,-16.6667 273,-16.6667 273,-8.33333 273,-8.33333 273,-4.16667 277.167,-0 281.333,-0 281.333,-0 317.667,-0 317.667,-0 321.833,-0 326,-4.16667 326,-8.33333 326,-8.33333 326,-16.6667 326,-16.6667 326,-20.8333 321.833,-25 317.667,-25\" fill=\"none\" stroke=\"black\"/>\n",
       "<text font-family=\"Courier,monospace\" font-size=\"10.00\" text-anchor=\"start\" x=\"281\" y=\"-10\">ACCEPT</text>\n",
       "</g>\n",
       "<!-- 0&#45;&gt;2 -->\n",
       "<g class=\"edge\" id=\"edge4\"><title>0-&gt;2</title>\n",
       "<path d=\"M139.629,-23.6277C152.752,-18.1243 183.103,-6.3019 210,-2.5 229.147,0.206451 250.708,-2.11801 267.754,-5.20384\" fill=\"none\" stroke=\"black\"/>\n",
       "<polygon fill=\"black\" points=\"272.892,-6.18123 267.559,-7.45706 270.436,-5.71396 267.98,-5.2467 267.98,-5.2467 267.98,-5.2467 270.436,-5.71396 268.4,-3.03635 272.892,-6.18123 272.892,-6.18123\" stroke=\"black\"/>\n",
       "<text font-family=\"Courier,monospace\" font-size=\"9.00\" text-anchor=\"start\" x=\"215\" y=\"-8.3\">b</text>\n",
       "</g>\n",
       "<!-- 1&#45;&gt;0 -->\n",
       "<g class=\"edge\" id=\"edge6\"><title>1-&gt;0</title>\n",
       "<path d=\"M210.351,-31.9132C205.506,-28.8618 198.653,-25.1264 192,-23.5 175.93,-19.5715 156.688,-21.7844 144.651,-23.9592\" fill=\"none\" stroke=\"black\"/>\n",
       "<polygon fill=\"black\" points=\"139.665,-24.9336 144.141,-21.7664 142.119,-24.4541 144.572,-23.9746 144.572,-23.9746 144.572,-23.9746 142.119,-24.4541 145.004,-26.1829 139.665,-24.9336 139.665,-24.9336\" stroke=\"black\"/>\n",
       "<text font-family=\"Courier,monospace\" font-size=\"9.00\" text-anchor=\"start\" x=\"172\" y=\"-29.3\">a</text>\n",
       "</g>\n",
       "<!-- 1&#45;&gt;1 -->\n",
       "<g class=\"edge\" id=\"edge7\"><title>1-&gt;1</title>\n",
       "<path d=\"M213.53,-45.1857C211.061,-53.6739 212.551,-63 218,-63 222.342,-63 224.171,-57.0778 223.485,-50.3767\" fill=\"none\" stroke=\"black\"/>\n",
       "<polygon fill=\"black\" points=\"222.47,-45.1857 225.637,-49.6612 222.95,-47.6392 223.429,-50.0928 223.429,-50.0928 223.429,-50.0928 222.95,-47.6392 221.221,-50.5245 222.47,-45.1857 222.47,-45.1857\" stroke=\"black\"/>\n",
       "<text font-family=\"Courier,monospace\" font-size=\"9.00\" text-anchor=\"start\" x=\"215\" y=\"-68.8\">b</text>\n",
       "</g>\n",
       "<!-- 1&#45;&gt;2 -->\n",
       "<g class=\"edge\" id=\"edge8\"><title>1-&gt;2</title>\n",
       "<path d=\"M225.506,-34.536C234.701,-31.7599 252.111,-26.5041 267.622,-21.8216\" fill=\"none\" stroke=\"black\"/>\n",
       "<polygon fill=\"black\" points=\"272.795,-20.26 268.659,-23.8591 270.402,-20.9825 268.008,-21.7051 268.008,-21.7051 268.008,-21.7051 270.402,-20.9825 267.358,-19.5511 272.795,-20.26 272.795,-20.26\" stroke=\"black\"/>\n",
       "<text font-family=\"Courier,monospace\" font-size=\"9.00\" text-anchor=\"start\" x=\"247.5\" y=\"-35.3\">ε</text>\n",
       "</g>\n",
       "<!-- 3&#45;&gt;0 -->\n",
       "<g class=\"edge\" id=\"edge5\"><title>3-&gt;0</title>\n",
       "<path d=\"M77.1706,-26.5C90.439,-26.5 107.853,-26.5 119.23,-26.5\" fill=\"none\" stroke=\"black\"/>\n",
       "<polygon fill=\"black\" points=\"124.285,-26.5 119.285,-28.7501 121.785,-26.5 119.285,-26.5001 119.285,-26.5001 119.285,-26.5001 121.785,-26.5 119.285,-24.2501 124.285,-26.5 124.285,-26.5\" stroke=\"black\"/>\n",
       "<text font-family=\"Courier,monospace\" font-size=\"9.00\" text-anchor=\"start\" x=\"98.5\" y=\"-32.3\">ε</text>\n",
       "</g>\n",
       "</g>\n",
       "</svg>"
      ],
      "text/plain": [
       "<IPython.core.display.SVG object>"
      ]
     },
     "metadata": {},
     "output_type": "display_data"
    },
    {
     "data": {
      "text/html": [
       "eliminate 2"
      ],
      "text/plain": [
       "<IPython.core.display.HTML object>"
      ]
     },
     "metadata": {},
     "output_type": "display_data"
    },
    {
     "data": {
      "image/svg+xml": [
       "<svg height=\"63pt\" viewBox=\"0.00 0.00 308.00 63.00\" width=\"308pt\" xmlns=\"http://www.w3.org/2000/svg\" xmlns:xlink=\"http://www.w3.org/1999/xlink\">\n",
       "<g class=\"graph\" id=\"graph0\" transform=\"scale(1 1) rotate(0) translate(4 59)\">\n",
       "<title>%3</title>\n",
       "<polygon fill=\"white\" points=\"-4,4 -4,-59 304,-59 304,4 -4,4\" stroke=\"none\"/>\n",
       "<!-- _START -->\n",
       "<g class=\"node\" id=\"node1\"><title>_START</title>\n",
       "</g>\n",
       "<!-- 2 -->\n",
       "<g class=\"node\" id=\"node4\"><title>2</title>\n",
       "<path d=\"M71.3333,-21C71.3333,-21 43.6667,-21 43.6667,-21 40.8333,-21 38,-18.1667 38,-15.3333 38,-15.3333 38,-9.66667 38,-9.66667 38,-6.83333 40.8333,-4 43.6667,-4 43.6667,-4 71.3333,-4 71.3333,-4 74.1667,-4 77,-6.83333 77,-9.66667 77,-9.66667 77,-15.3333 77,-15.3333 77,-18.1667 74.1667,-21 71.3333,-21\" fill=\"none\" stroke=\"black\"/>\n",
       "<text font-family=\"Courier,monospace\" font-size=\"10.00\" text-anchor=\"start\" x=\"42\" y=\"-10\">START</text>\n",
       "</g>\n",
       "<!-- _START&#45;&gt;2 -->\n",
       "<g class=\"edge\" id=\"edge1\"><title>_START-&gt;2</title>\n",
       "<path d=\"M1.15921,-12.5C2.89199,-12.5 18.4598,-12.5 32.6433,-12.5\" fill=\"none\" stroke=\"black\"/>\n",
       "<polygon fill=\"black\" points=\"37.7779,-12.5 32.778,-14.7501 35.2779,-12.5 32.7779,-12.5001 32.7779,-12.5001 32.7779,-12.5001 35.2779,-12.5 32.7779,-10.2501 37.7779,-12.5 37.7779,-12.5\" stroke=\"black\"/>\n",
       "</g>\n",
       "<!-- 0 -->\n",
       "<g class=\"node\" id=\"node2\"><title>0</title>\n",
       "<path d=\"M134.5,-21C134.5,-21 129.5,-21 129.5,-21 127,-21 124.5,-18.5 124.5,-16 124.5,-16 124.5,-9 124.5,-9 124.5,-6.5 127,-4 129.5,-4 129.5,-4 134.5,-4 134.5,-4 137,-4 139.5,-6.5 139.5,-9 139.5,-9 139.5,-16 139.5,-16 139.5,-18.5 137,-21 134.5,-21\" fill=\"none\" stroke=\"black\"/>\n",
       "<text font-family=\"Courier,monospace\" font-size=\"10.00\" text-anchor=\"start\" x=\"128.5\" y=\"-10\">1</text>\n",
       "</g>\n",
       "<!-- 0&#45;&gt;0 -->\n",
       "<g class=\"edge\" id=\"edge2\"><title>0-&gt;0</title>\n",
       "<path d=\"M127.53,-21.1857C125.061,-29.6739 126.551,-39 132,-39 136.342,-39 138.171,-33.0778 137.485,-26.3767\" fill=\"none\" stroke=\"black\"/>\n",
       "<polygon fill=\"black\" points=\"136.47,-21.1857 139.637,-25.6612 136.95,-23.6392 137.429,-26.0928 137.429,-26.0928 137.429,-26.0928 136.95,-23.6392 135.221,-26.5245 136.47,-21.1857 136.47,-21.1857\" stroke=\"black\"/>\n",
       "<text font-family=\"Courier,monospace\" font-size=\"9.00\" text-anchor=\"start\" x=\"89\" y=\"-44.8\">b b|(a|b a) b* a</text>\n",
       "</g>\n",
       "<!-- 1 -->\n",
       "<g class=\"node\" id=\"node3\"><title>1</title>\n",
       "<path d=\"M290.333,-21C290.333,-21 256.667,-21 256.667,-21 253.833,-21 251,-18.1667 251,-15.3333 251,-15.3333 251,-9.66667 251,-9.66667 251,-6.83333 253.833,-4 256.667,-4 256.667,-4 290.333,-4 290.333,-4 293.167,-4 296,-6.83333 296,-9.66667 296,-9.66667 296,-15.3333 296,-15.3333 296,-18.1667 293.167,-21 290.333,-21\" fill=\"none\" stroke=\"black\"/>\n",
       "<path d=\"M291.667,-25C291.667,-25 255.333,-25 255.333,-25 251.167,-25 247,-20.8333 247,-16.6667 247,-16.6667 247,-8.33333 247,-8.33333 247,-4.16667 251.167,-0 255.333,-0 255.333,-0 291.667,-0 291.667,-0 295.833,-0 300,-4.16667 300,-8.33333 300,-8.33333 300,-16.6667 300,-16.6667 300,-20.8333 295.833,-25 291.667,-25\" fill=\"none\" stroke=\"black\"/>\n",
       "<text font-family=\"Courier,monospace\" font-size=\"10.00\" text-anchor=\"start\" x=\"255\" y=\"-10\">ACCEPT</text>\n",
       "</g>\n",
       "<!-- 0&#45;&gt;1 -->\n",
       "<g class=\"edge\" id=\"edge3\"><title>0-&gt;1</title>\n",
       "<path d=\"M139.728,-12.5C157.81,-12.5 208.329,-12.5 241.576,-12.5\" fill=\"none\" stroke=\"black\"/>\n",
       "<polygon fill=\"black\" points=\"246.756,-12.5 241.756,-14.7501 244.256,-12.5 241.756,-12.5001 241.756,-12.5001 241.756,-12.5001 244.256,-12.5 241.756,-10.2501 246.756,-12.5 246.756,-12.5\" stroke=\"black\"/>\n",
       "<text font-family=\"Courier,monospace\" font-size=\"9.00\" text-anchor=\"start\" x=\"161.5\" y=\"-18.3\">b|(a|b a) b*</text>\n",
       "</g>\n",
       "<!-- 2&#45;&gt;0 -->\n",
       "<g class=\"edge\" id=\"edge4\"><title>2-&gt;0</title>\n",
       "<path d=\"M77.1706,-12.5C90.439,-12.5 107.853,-12.5 119.23,-12.5\" fill=\"none\" stroke=\"black\"/>\n",
       "<polygon fill=\"black\" points=\"124.285,-12.5 119.285,-14.7501 121.785,-12.5 119.285,-12.5001 119.285,-12.5001 119.285,-12.5001 121.785,-12.5 119.285,-10.2501 124.285,-12.5 124.285,-12.5\" stroke=\"black\"/>\n",
       "<text font-family=\"Courier,monospace\" font-size=\"9.00\" text-anchor=\"start\" x=\"98.5\" y=\"-18.3\">ε</text>\n",
       "</g>\n",
       "</g>\n",
       "</svg>"
      ],
      "text/plain": [
       "<IPython.core.display.SVG object>"
      ]
     },
     "metadata": {},
     "output_type": "display_data"
    },
    {
     "data": {
      "text/html": [
       "eliminate 1"
      ],
      "text/plain": [
       "<IPython.core.display.HTML object>"
      ]
     },
     "metadata": {},
     "output_type": "display_data"
    },
    {
     "data": {
      "image/svg+xml": [
       "<svg height=\"37pt\" viewBox=\"0.00 0.00 364.00 36.50\" width=\"364pt\" xmlns=\"http://www.w3.org/2000/svg\" xmlns:xlink=\"http://www.w3.org/1999/xlink\">\n",
       "<g class=\"graph\" id=\"graph0\" transform=\"scale(1 1) rotate(0) translate(4 32.5)\">\n",
       "<title>%3</title>\n",
       "<polygon fill=\"white\" points=\"-4,4 -4,-32.5 360,-32.5 360,4 -4,4\" stroke=\"none\"/>\n",
       "<!-- _START -->\n",
       "<g class=\"node\" id=\"node1\"><title>_START</title>\n",
       "</g>\n",
       "<!-- 1 -->\n",
       "<g class=\"node\" id=\"node3\"><title>1</title>\n",
       "<path d=\"M71.3333,-21C71.3333,-21 43.6667,-21 43.6667,-21 40.8333,-21 38,-18.1667 38,-15.3333 38,-15.3333 38,-9.66667 38,-9.66667 38,-6.83333 40.8333,-4 43.6667,-4 43.6667,-4 71.3333,-4 71.3333,-4 74.1667,-4 77,-6.83333 77,-9.66667 77,-9.66667 77,-15.3333 77,-15.3333 77,-18.1667 74.1667,-21 71.3333,-21\" fill=\"none\" stroke=\"black\"/>\n",
       "<text font-family=\"Courier,monospace\" font-size=\"10.00\" text-anchor=\"start\" x=\"42\" y=\"-10\">START</text>\n",
       "</g>\n",
       "<!-- _START&#45;&gt;1 -->\n",
       "<g class=\"edge\" id=\"edge1\"><title>_START-&gt;1</title>\n",
       "<path d=\"M1.15921,-12.5C2.89199,-12.5 18.4598,-12.5 32.6433,-12.5\" fill=\"none\" stroke=\"black\"/>\n",
       "<polygon fill=\"black\" points=\"37.7779,-12.5 32.778,-14.7501 35.2779,-12.5 32.7779,-12.5001 32.7779,-12.5001 32.7779,-12.5001 35.2779,-12.5 32.7779,-10.2501 37.7779,-12.5 37.7779,-12.5\" stroke=\"black\"/>\n",
       "</g>\n",
       "<!-- 0 -->\n",
       "<g class=\"node\" id=\"node2\"><title>0</title>\n",
       "<path d=\"M346.333,-21C346.333,-21 312.667,-21 312.667,-21 309.833,-21 307,-18.1667 307,-15.3333 307,-15.3333 307,-9.66667 307,-9.66667 307,-6.83333 309.833,-4 312.667,-4 312.667,-4 346.333,-4 346.333,-4 349.167,-4 352,-6.83333 352,-9.66667 352,-9.66667 352,-15.3333 352,-15.3333 352,-18.1667 349.167,-21 346.333,-21\" fill=\"none\" stroke=\"black\"/>\n",
       "<path d=\"M347.667,-25C347.667,-25 311.333,-25 311.333,-25 307.167,-25 303,-20.8333 303,-16.6667 303,-16.6667 303,-8.33333 303,-8.33333 303,-4.16667 307.167,-0 311.333,-0 311.333,-0 347.667,-0 347.667,-0 351.833,-0 356,-4.16667 356,-8.33333 356,-8.33333 356,-16.6667 356,-16.6667 356,-20.8333 351.833,-25 347.667,-25\" fill=\"none\" stroke=\"black\"/>\n",
       "<text font-family=\"Courier,monospace\" font-size=\"10.00\" text-anchor=\"start\" x=\"311\" y=\"-10\">ACCEPT</text>\n",
       "</g>\n",
       "<!-- 1&#45;&gt;0 -->\n",
       "<g class=\"edge\" id=\"edge2\"><title>1-&gt;0</title>\n",
       "<path d=\"M77.0582,-12.5C122.764,-12.5 241.138,-12.5 297.625,-12.5\" fill=\"none\" stroke=\"black\"/>\n",
       "<polygon fill=\"black\" points=\"302.894,-12.5 297.894,-14.7501 300.394,-12.5 297.894,-12.5001 297.894,-12.5001 297.894,-12.5001 300.394,-12.5 297.894,-10.2501 302.894,-12.5 302.894,-12.5\" stroke=\"black\"/>\n",
       "<text font-family=\"Courier,monospace\" font-size=\"9.00\" text-anchor=\"start\" x=\"98\" y=\"-18.3\">(b b|(a|b a) b* a)* (b|(a|b a) b*)</text>\n",
       "</g>\n",
       "</g>\n",
       "</svg>"
      ],
      "text/plain": [
       "<IPython.core.display.SVG object>"
      ]
     },
     "metadata": {},
     "output_type": "display_data"
    },
    {
     "data": {
      "text/html": [
       "(b b|(a|b a) b* a)* (b|(a|b a) b*)"
      ],
      "text/plain": [
       "<tock.regexps.RegularExpression at 0x109520610>"
      ]
     },
     "execution_count": 9,
     "metadata": {},
     "output_type": "execute_result"
    }
   ],
   "source": [
    "to_regexp(m68, display_steps=True)"
   ]
  },
  {
   "cell_type": "markdown",
   "metadata": {},
   "source": [
    "(The answer is different from the book's because the elimination order was different.)"
   ]
  }
 ],
 "metadata": {
  "kernelspec": {
   "display_name": "Python 2",
   "language": "python",
   "name": "python2"
  },
  "language_info": {
   "codemirror_mode": {
    "name": "ipython",
    "version": 2
   },
   "file_extension": ".py",
   "mimetype": "text/x-python",
   "name": "python",
   "nbconvert_exporter": "python",
   "pygments_lexer": "ipython2",
   "version": "2.7.10"
  }
 },
 "nbformat": 4,
 "nbformat_minor": 0
}
