{
 "cells": [
  {
   "cell_type": "markdown",
   "metadata": {},
   "source": [
    "# Week 6: 2016/02/22-26"
   ]
  },
  {
   "cell_type": "code",
   "execution_count": 1,
   "metadata": {
    "collapsed": true
   },
   "outputs": [],
   "source": [
    "from tock import *"
   ]
  },
  {
   "cell_type": "markdown",
   "metadata": {},
   "source": [
    "## Monday reading\n",
    "\n",
    "Read Section 2.2, Lemma 2.21."
   ]
  },
  {
   "cell_type": "markdown",
   "metadata": {},
   "source": [
    "## Tuesday class\n",
    "\n",
    "This week we'll show that the two models we learned last week, context-free grammars and pushdown automata, are equivalent. Today we will show how to convert a context-free grammar to a pushdown automaton, which is important because it is the basis for a lot of _parsing_ algorithms (algorithms that take a string as input, decide whether it belongs to the language, and if so, generates a tree as output).\n",
    "\n",
    "### The top-down construction\n",
    "\n",
    "The construction used in the proof of Lemma 2.21 is known as _top-down_ or sometimes \"nondeterministic LL\" parsing.\n",
    "\n",
    "The basic idea is pretty simple, and probably easier to describe first without getting into the details of the PDA. The stack is initialized to $S\\mathtt{$}$ (remember that the top of the stack is on the left). \n",
    "\n",
    "Whenever the top stack symbol is a terminal symbol and it matches the next input symbol, we pop it and read in the input symbol. If it doesn't match, then this path of the derivation rejects.\n",
    "\n",
    "Whenever the top stack symbol is a nonterminal symbol, we pop it and nondeterministically push _all possible_ replacements for the nonterminal. Each replacement is pushed in reverse order, so that the leftmost symbol is on the top.\n",
    "\n",
    "If we reach the end of the input string and the stack just has $\\mathtt{$}$, then we accept.\n",
    "\n",
    "Here's an example grammar:\n",
    "\\begin{align*}\n",
    "S &\\rightarrow \\mathtt{a} T \\mathtt{b} \\\\\n",
    "S &\\rightarrow \\mathtt{b} \\\\\n",
    "T &\\rightarrow T \\mathtt{a} \\\\\n",
    "T &\\rightarrow \\varepsilon\n",
    "\\end{align*}\n",
    "\n",
    "Here's what the _successful_ parse looks like for string `aaab`:\n",
    "\n",
    "| Input | Stack |\n",
    "|-------|-------|\n",
    "|`aaab` | _S_`$`|\n",
    "|`aaab` | `a`_T_`b$` |\n",
    "|`aab` | _T_`b$` |\n",
    "|`aab` | _T_`ab$` |\n",
    "|`aab` | _T_`aab$` |\n",
    "|`aab` | `aab$` |\n",
    "|`ab` | `ab$` |\n",
    "|`b` | `b$` |\n",
    "|$\\varepsilon$ | `$` |\n",
    "\n",
    "There are also many unsuccessful parses, but as long as one of them succeeds, we accept the string."
   ]
  },
  {
   "cell_type": "markdown",
   "metadata": {},
   "source": [
    "The conversion from CFG to PDA basically implements the above algorithm in the PDA. This construction is implemented in Tock:"
   ]
  },
  {
   "cell_type": "code",
   "execution_count": 12,
   "metadata": {
    "collapsed": false
   },
   "outputs": [
    {
     "data": {
      "image/svg+xml": [
       "<svg height=\"183pt\" viewBox=\"0.00 0.00 554.00 183.00\" width=\"554pt\" xmlns=\"http://www.w3.org/2000/svg\" xmlns:xlink=\"http://www.w3.org/1999/xlink\">\n",
       "<g class=\"graph\" id=\"graph0\" transform=\"scale(1 1) rotate(0) translate(4 179)\">\n",
       "<title>%3</title>\n",
       "<polygon fill=\"white\" points=\"-4,4 -4,-179 550,-179 550,4 -4,4\" stroke=\"none\"/>\n",
       "<!-- _START -->\n",
       "<g class=\"node\" id=\"node1\"><title>_START</title>\n",
       "</g>\n",
       "<!-- 6 -->\n",
       "<g class=\"node\" id=\"node8\"><title>6</title>\n",
       "<path d=\"M71.3333,-99C71.3333,-99 43.6667,-99 43.6667,-99 40.8333,-99 38,-96.1667 38,-93.3333 38,-93.3333 38,-87.6667 38,-87.6667 38,-84.8333 40.8333,-82 43.6667,-82 43.6667,-82 71.3333,-82 71.3333,-82 74.1667,-82 77,-84.8333 77,-87.6667 77,-87.6667 77,-93.3333 77,-93.3333 77,-96.1667 74.1667,-99 71.3333,-99\" fill=\"none\" stroke=\"black\"/>\n",
       "<text font-family=\"Courier,monospace\" font-size=\"10.00\" text-anchor=\"start\" x=\"42\" y=\"-88\">start</text>\n",
       "</g>\n",
       "<!-- _START&#45;&gt;6 -->\n",
       "<g class=\"edge\" id=\"edge1\"><title>_START-&gt;6</title>\n",
       "<path d=\"M1.15921,-90.5C2.89199,-90.5 18.4598,-90.5 32.6433,-90.5\" fill=\"none\" stroke=\"black\"/>\n",
       "<polygon fill=\"black\" points=\"37.7779,-90.5 32.778,-92.7501 35.2779,-90.5 32.7779,-90.5001 32.7779,-90.5001 32.7779,-90.5001 35.2779,-90.5 32.7779,-88.2501 37.7779,-90.5 37.7779,-90.5\" stroke=\"black\"/>\n",
       "</g>\n",
       "<!-- 0 -->\n",
       "<g class=\"node\" id=\"node2\"><title>0</title>\n",
       "<path d=\"M173.333,-99C173.333,-99 157.667,-99 157.667,-99 154.833,-99 152,-96.1667 152,-93.3333 152,-93.3333 152,-87.6667 152,-87.6667 152,-84.8333 154.833,-82 157.667,-82 157.667,-82 173.333,-82 173.333,-82 176.167,-82 179,-84.8333 179,-87.6667 179,-87.6667 179,-93.3333 179,-93.3333 179,-96.1667 176.167,-99 173.333,-99\" fill=\"none\" stroke=\"black\"/>\n",
       "<text font-family=\"Courier,monospace\" font-size=\"10.00\" text-anchor=\"start\" x=\"156\" y=\"-88\">0.1</text>\n",
       "</g>\n",
       "<!-- 5 -->\n",
       "<g class=\"node\" id=\"node7\"><title>5</title>\n",
       "<path d=\"M293.833,-99C293.833,-99 272.167,-99 272.167,-99 269.333,-99 266.5,-96.1667 266.5,-93.3333 266.5,-93.3333 266.5,-87.6667 266.5,-87.6667 266.5,-84.8333 269.333,-82 272.167,-82 272.167,-82 293.833,-82 293.833,-82 296.667,-82 299.5,-84.8333 299.5,-87.6667 299.5,-87.6667 299.5,-93.3333 299.5,-93.3333 299.5,-96.1667 296.667,-99 293.833,-99\" fill=\"none\" stroke=\"black\"/>\n",
       "<text font-family=\"Courier,monospace\" font-size=\"10.00\" text-anchor=\"start\" x=\"270.5\" y=\"-88\">loop</text>\n",
       "</g>\n",
       "<!-- 0&#45;&gt;5 -->\n",
       "<g class=\"edge\" id=\"edge4\"><title>0-&gt;5</title>\n",
       "<path d=\"M179.302,-90.5C199.069,-90.5 237.222,-90.5 261.049,-90.5\" fill=\"none\" stroke=\"black\"/>\n",
       "<polygon fill=\"black\" points=\"266.196,-90.5 261.196,-92.7501 263.696,-90.5 261.196,-90.5001 261.196,-90.5001 261.196,-90.5001 263.696,-90.5 261.196,-88.2501 266.196,-90.5 266.196,-90.5\" stroke=\"black\"/>\n",
       "<text font-family=\"Courier,monospace\" font-size=\"9.00\" text-anchor=\"start\" x=\"200.5\" y=\"-96.3\">ε,ε → S</text>\n",
       "</g>\n",
       "<!-- 1 -->\n",
       "<g class=\"node\" id=\"node3\"><title>1</title>\n",
       "<path d=\"M540.333,-136C540.333,-136 524.667,-136 524.667,-136 521.833,-136 519,-133.167 519,-130.333 519,-130.333 519,-124.667 519,-124.667 519,-121.833 521.833,-119 524.667,-119 524.667,-119 540.333,-119 540.333,-119 543.167,-119 546,-121.833 546,-124.667 546,-124.667 546,-130.333 546,-130.333 546,-133.167 543.167,-136 540.333,-136\" fill=\"none\" stroke=\"black\"/>\n",
       "<text font-family=\"Courier,monospace\" font-size=\"10.00\" text-anchor=\"start\" x=\"523\" y=\"-125\">1.1</text>\n",
       "</g>\n",
       "<!-- 1&#45;&gt;5 -->\n",
       "<g class=\"edge\" id=\"edge2\"><title>1-&gt;5</title>\n",
       "<path d=\"M518.693,-130.801C485.978,-138.586 397.178,-155.623 330,-130.5 315.428,-125.051 302.424,-112.67 293.991,-103.116\" fill=\"none\" stroke=\"black\"/>\n",
       "<polygon fill=\"black\" points=\"290.666,-99.2224 295.624,-101.563 292.29,-101.123 293.914,-103.025 293.914,-103.025 293.914,-103.025 292.29,-101.123 292.203,-104.486 290.666,-99.2224 290.666,-99.2224\" stroke=\"black\"/>\n",
       "<text font-family=\"Courier,monospace\" font-size=\"9.00\" text-anchor=\"start\" x=\"401.5\" y=\"-149.3\">ε,ε → a</text>\n",
       "</g>\n",
       "<!-- 2 -->\n",
       "<g class=\"node\" id=\"node4\"><title>2</title>\n",
       "<path d=\"M425.333,-68C425.333,-68 409.667,-68 409.667,-68 406.833,-68 404,-65.1667 404,-62.3333 404,-62.3333 404,-56.6667 404,-56.6667 404,-53.8333 406.833,-51 409.667,-51 409.667,-51 425.333,-51 425.333,-51 428.167,-51 431,-53.8333 431,-56.6667 431,-56.6667 431,-62.3333 431,-62.3333 431,-65.1667 428.167,-68 425.333,-68\" fill=\"none\" stroke=\"black\"/>\n",
       "<text font-family=\"Courier,monospace\" font-size=\"10.00\" text-anchor=\"start\" x=\"408\" y=\"-57\">1.2</text>\n",
       "</g>\n",
       "<!-- 2&#45;&gt;1 -->\n",
       "<g class=\"edge\" id=\"edge3\"><title>2-&gt;1</title>\n",
       "<path d=\"M431.025,-67.037C451.388,-79.2911 491.696,-103.547 514.585,-117.321\" fill=\"none\" stroke=\"black\"/>\n",
       "<polygon fill=\"black\" points=\"518.919,-119.929 513.475,-119.279 516.777,-118.64 514.635,-117.351 514.635,-117.351 514.635,-117.351 516.777,-118.64 515.795,-115.423 518.919,-119.929 518.919,-119.929\" stroke=\"black\"/>\n",
       "<text font-family=\"Courier,monospace\" font-size=\"9.00\" text-anchor=\"start\" x=\"465.5\" y=\"-113.3\">ε,ε → T</text>\n",
       "</g>\n",
       "<!-- 3 -->\n",
       "<g class=\"node\" id=\"node5\"><title>3</title>\n",
       "<path d=\"M425.333,-111C425.333,-111 409.667,-111 409.667,-111 406.833,-111 404,-108.167 404,-105.333 404,-105.333 404,-99.6667 404,-99.6667 404,-96.8333 406.833,-94 409.667,-94 409.667,-94 425.333,-94 425.333,-94 428.167,-94 431,-96.8333 431,-99.6667 431,-99.6667 431,-105.333 431,-105.333 431,-108.167 428.167,-111 425.333,-111\" fill=\"none\" stroke=\"black\"/>\n",
       "<text font-family=\"Courier,monospace\" font-size=\"10.00\" text-anchor=\"start\" x=\"408\" y=\"-100\">3.1</text>\n",
       "</g>\n",
       "<!-- 3&#45;&gt;5 -->\n",
       "<g class=\"edge\" id=\"edge6\"><title>3-&gt;5</title>\n",
       "<path d=\"M403.711,-98.4165C395.126,-95.8867 383.505,-92.8677 373,-91.5 349.81,-88.4809 322.933,-88.682 304.834,-89.351\" fill=\"none\" stroke=\"black\"/>\n",
       "<polygon fill=\"black\" points=\"299.513,-89.5706 304.416,-87.1163 302.011,-89.4675 304.509,-89.3644 304.509,-89.3644 304.509,-89.3644 302.011,-89.4675 304.601,-91.6124 299.513,-89.5706 299.513,-89.5706\" stroke=\"black\"/>\n",
       "<text font-family=\"Courier,monospace\" font-size=\"9.00\" text-anchor=\"start\" x=\"335.5\" y=\"-97.3\">ε,ε → T</text>\n",
       "</g>\n",
       "<!-- 4 -->\n",
       "<g class=\"node\" id=\"node6\"><title>4</title>\n",
       "<path d=\"M434.333,-21C434.333,-21 400.667,-21 400.667,-21 397.833,-21 395,-18.1667 395,-15.3333 395,-15.3333 395,-9.66667 395,-9.66667 395,-6.83333 397.833,-4 400.667,-4 400.667,-4 434.333,-4 434.333,-4 437.167,-4 440,-6.83333 440,-9.66667 440,-9.66667 440,-15.3333 440,-15.3333 440,-18.1667 437.167,-21 434.333,-21\" fill=\"none\" stroke=\"black\"/>\n",
       "<path d=\"M435.667,-25C435.667,-25 399.333,-25 399.333,-25 395.167,-25 391,-20.8333 391,-16.6667 391,-16.6667 391,-8.33333 391,-8.33333 391,-4.16667 395.167,-0 399.333,-0 399.333,-0 435.667,-0 435.667,-0 439.833,-0 444,-4.16667 444,-8.33333 444,-8.33333 444,-16.6667 444,-16.6667 444,-20.8333 439.833,-25 435.667,-25\" fill=\"none\" stroke=\"black\"/>\n",
       "<text font-family=\"Courier,monospace\" font-size=\"10.00\" text-anchor=\"start\" x=\"399\" y=\"-10\">accept</text>\n",
       "</g>\n",
       "<!-- 5&#45;&gt;2 -->\n",
       "<g class=\"edge\" id=\"edge9\"><title>5-&gt;2</title>\n",
       "<path d=\"M299.714,-81.838C308.393,-77.4395 319.513,-72.4212 330,-69.5 353.228,-63.0295 381.09,-60.74 398.795,-59.9333\" fill=\"none\" stroke=\"black\"/>\n",
       "<polygon fill=\"black\" points=\"403.947,-59.7276 399.041,-62.1754 401.449,-59.8274 398.951,-59.9272 398.951,-59.9272 398.951,-59.9272 401.449,-59.8274 398.861,-57.6789 403.947,-59.7276 403.947,-59.7276\" stroke=\"black\"/>\n",
       "<text font-family=\"Courier,monospace\" font-size=\"9.00\" text-anchor=\"start\" x=\"333.5\" y=\"-75.3\">ε,S → b</text>\n",
       "</g>\n",
       "<!-- 5&#45;&gt;3 -->\n",
       "<g class=\"edge\" id=\"edge10\"><title>5-&gt;3</title>\n",
       "<path d=\"M299.789,-97.9156C308.49,-101.594 319.608,-105.641 330,-107.5 353.484,-111.701 381.068,-108.778 398.66,-105.945\" fill=\"none\" stroke=\"black\"/>\n",
       "<polygon fill=\"black\" points=\"403.783,-105.077 399.23,-108.131 401.319,-105.495 398.854,-105.912 398.854,-105.912 398.854,-105.912 401.319,-105.495 398.478,-103.694 403.783,-105.077 403.783,-105.077\" stroke=\"black\"/>\n",
       "<text font-family=\"Courier,monospace\" font-size=\"9.00\" text-anchor=\"start\" x=\"333.5\" y=\"-116.3\">ε,T → a</text>\n",
       "</g>\n",
       "<!-- 5&#45;&gt;4 -->\n",
       "<g class=\"edge\" id=\"edge7\"><title>5-&gt;4</title>\n",
       "<path d=\"M290.21,-81.8493C298.268,-71.2012 313.289,-53.2174 330,-42.5 346.976,-31.6131 368.371,-24.1487 385.636,-19.3884\" fill=\"none\" stroke=\"black\"/>\n",
       "<polygon fill=\"black\" points=\"390.852,-17.9971 386.601,-21.4598 388.437,-18.6415 386.021,-19.2858 386.021,-19.2858 386.021,-19.2858 388.437,-18.6415 385.441,-17.1118 390.852,-17.9971 390.852,-17.9971\" stroke=\"black\"/>\n",
       "<text font-family=\"Courier,monospace\" font-size=\"9.00\" text-anchor=\"start\" x=\"333.5\" y=\"-48.3\">ε,$ → ε</text>\n",
       "</g>\n",
       "<!-- 5&#45;&gt;5 -->\n",
       "<g class=\"edge\" id=\"edge8\"><title>5-&gt;5</title>\n",
       "<path d=\"M273.166,-99.1857C267.734,-107.674 271.012,-117 283,-117 292.74,-117 296.731,-110.843 294.971,-103.982\" fill=\"none\" stroke=\"black\"/>\n",
       "<polygon fill=\"black\" points=\"292.834,-99.1857 296.924,-102.837 293.852,-101.469 294.869,-103.753 294.869,-103.753 294.869,-103.753 293.852,-101.469 292.814,-104.669 292.834,-99.1857 292.834,-99.1857\" stroke=\"black\"/>\n",
       "<text font-family=\"Courier,monospace\" font-size=\"9.00\" text-anchor=\"start\" x=\"265\" y=\"-164.8\">ε,S → b</text>\n",
       "<text font-family=\"Courier,monospace\" font-size=\"9.00\" text-anchor=\"start\" x=\"265.5\" y=\"-150.8\">ε,T → ε</text>\n",
       "<text font-family=\"Courier,monospace\" font-size=\"9.00\" text-anchor=\"start\" x=\"265\" y=\"-136.8\">a,a → ε</text>\n",
       "<text font-family=\"Courier,monospace\" font-size=\"9.00\" text-anchor=\"start\" x=\"265\" y=\"-122.8\">b,b → ε</text>\n",
       "</g>\n",
       "<!-- 6&#45;&gt;0 -->\n",
       "<g class=\"edge\" id=\"edge5\"><title>6-&gt;0</title>\n",
       "<path d=\"M77.4507,-90.5C97.0462,-90.5 127.411,-90.5 146.607,-90.5\" fill=\"none\" stroke=\"black\"/>\n",
       "<polygon fill=\"black\" points=\"151.707,-90.5 146.707,-92.7501 149.207,-90.5 146.707,-90.5001 146.707,-90.5001 146.707,-90.5001 149.207,-90.5 146.707,-88.2501 151.707,-90.5 151.707,-90.5\" stroke=\"black\"/>\n",
       "<text font-family=\"Courier,monospace\" font-size=\"9.00\" text-anchor=\"start\" x=\"98.5\" y=\"-96.3\">ε,ε → $</text>\n",
       "</g>\n",
       "</g>\n",
       "</svg>"
      ],
      "text/plain": [
       "<IPython.core.display.SVG object>"
      ]
     },
     "metadata": {},
     "output_type": "display_data"
    }
   ],
   "source": [
    "m = from_grammar([\"S -> a T b\",\n",
    "                  \"S -> b\",\n",
    "                  \"T -> T a\",\n",
    "                  \"T -> &\"])\n",
    "to_graph(m)"
   ]
  },
  {
   "cell_type": "markdown",
   "metadata": {},
   "source": [
    "**Question.** Convert the following CFG to a PDA:\n",
    "\\begin{align*}\n",
    "S &\\rightarrow \\mathtt{0} S \\mathtt{0} \\\\\n",
    "S &\\rightarrow \\mathtt{1} S \\mathtt{1} \\\\\n",
    "S &\\rightarrow \\varepsilon\n",
    "\\end{align*}"
   ]
  },
  {
   "cell_type": "markdown",
   "metadata": {},
   "source": [
    "**Question.** If you actually had to implement a parser this way, how would you do it? What would its time complexity be?"
   ]
  },
  {
   "cell_type": "markdown",
   "metadata": {},
   "source": [
    "### The bottom-up construction\n",
    "\n",
    "There's another parsing strategy that the book doesn't mention at this point. It's called _bottom-up_, _shift-reduce_, or maybe sometimes \"nondeterministic LR\" parsing. It's the basis for most parsing algorithms that are used in compilers.\n",
    "\n",
    "The idea is again pretty simple -- it's like top-down parsing in reverse. The stack is initialized to $\\mathtt{\\$}$. At any point in time, we can do two operations.\n",
    "\n",
    "In a _shift_, we read in one input symbol and push it onto the stack.\n",
    "\n",
    "In a _reduce_, we check to see if the prefix (top symbols) of the stack match a right-hand-side of a rule (in reverse order), and if so, we can pop those symbols and replace them with the left-hand-side of the rule.\n",
    "\n",
    "This algorithm is again nondeterministic: it's always possible to do a shift unless we're at the end of the string, and it may be possible to do several different reduces.\n",
    "\n",
    "If we reach the end of the input and the stack has just $S\\mathtt{\\$}$, then we accept.\n",
    "\n",
    "Here's what the _successful_ parse looks like for string `aaab`:\n",
    "\n",
    "| Input | Stack |\n",
    "|-------|-------|\n",
    "|`aaab` | `$`|\n",
    "|`aab` | `a$` |\n",
    "|`aab` | _T_`a$` |\n",
    "|`ab` | `a`_T_`a$` |\n",
    "|`ab` | _T_`a$` |\n",
    "|`b` | `a`_T_`a$` |\n",
    "|`b` | _T_`a$` |\n",
    "|$\\varepsilon$ | `b`_T_`a$` |\n",
    "|$\\varepsilon$ | _S_`$` |\n"
   ]
  },
  {
   "cell_type": "markdown",
   "metadata": {},
   "source": [
    "This construction is not yet implemented in Tock, but here's what the PDA would look like:"
   ]
  },
  {
   "cell_type": "code",
   "execution_count": 14,
   "metadata": {
    "collapsed": false
   },
   "outputs": [
    {
     "data": {
      "image/svg+xml": [
       "<svg height=\"197pt\" viewBox=\"0.00 0.00 465.00 197.00\" width=\"465pt\" xmlns=\"http://www.w3.org/2000/svg\" xmlns:xlink=\"http://www.w3.org/1999/xlink\">\n",
       "<g class=\"graph\" id=\"graph0\" transform=\"scale(1 1) rotate(0) translate(4 193)\">\n",
       "<title>%3</title>\n",
       "<polygon fill=\"white\" points=\"-4,4 -4,-193 461,-193 461,4 -4,4\" stroke=\"none\"/>\n",
       "<!-- _START -->\n",
       "<g class=\"node\" id=\"node1\"><title>_START</title>\n",
       "</g>\n",
       "<!-- 5 -->\n",
       "<g class=\"node\" id=\"node7\"><title>5</title>\n",
       "<path d=\"M71.3333,-99C71.3333,-99 43.6667,-99 43.6667,-99 40.8333,-99 38,-96.1667 38,-93.3333 38,-93.3333 38,-87.6667 38,-87.6667 38,-84.8333 40.8333,-82 43.6667,-82 43.6667,-82 71.3333,-82 71.3333,-82 74.1667,-82 77,-84.8333 77,-87.6667 77,-87.6667 77,-93.3333 77,-93.3333 77,-96.1667 74.1667,-99 71.3333,-99\" fill=\"none\" stroke=\"black\"/>\n",
       "<text font-family=\"Courier,monospace\" font-size=\"10.00\" text-anchor=\"start\" x=\"42\" y=\"-88\">start</text>\n",
       "</g>\n",
       "<!-- _START&#45;&gt;5 -->\n",
       "<g class=\"edge\" id=\"edge1\"><title>_START-&gt;5</title>\n",
       "<path d=\"M1.15921,-90.5C2.89199,-90.5 18.4598,-90.5 32.6433,-90.5\" fill=\"none\" stroke=\"black\"/>\n",
       "<polygon fill=\"black\" points=\"37.7779,-90.5 32.778,-92.7501 35.2779,-90.5 32.7779,-90.5001 32.7779,-90.5001 32.7779,-90.5001 35.2779,-90.5 32.7779,-88.2501 37.7779,-90.5 37.7779,-90.5\" stroke=\"black\"/>\n",
       "</g>\n",
       "<!-- 0 -->\n",
       "<g class=\"node\" id=\"node2\"><title>0</title>\n",
       "<path d=\"M451.333,-136C451.333,-136 435.667,-136 435.667,-136 432.833,-136 430,-133.167 430,-130.333 430,-130.333 430,-124.667 430,-124.667 430,-121.833 432.833,-119 435.667,-119 435.667,-119 451.333,-119 451.333,-119 454.167,-119 457,-121.833 457,-124.667 457,-124.667 457,-130.333 457,-130.333 457,-133.167 454.167,-136 451.333,-136\" fill=\"none\" stroke=\"black\"/>\n",
       "<text font-family=\"Courier,monospace\" font-size=\"10.00\" text-anchor=\"start\" x=\"434\" y=\"-125\">1.1</text>\n",
       "</g>\n",
       "<!-- 4 -->\n",
       "<g class=\"node\" id=\"node6\"><title>4</title>\n",
       "<path d=\"M198.833,-99C198.833,-99 177.167,-99 177.167,-99 174.333,-99 171.5,-96.1667 171.5,-93.3333 171.5,-93.3333 171.5,-87.6667 171.5,-87.6667 171.5,-84.8333 174.333,-82 177.167,-82 177.167,-82 198.833,-82 198.833,-82 201.667,-82 204.5,-84.8333 204.5,-87.6667 204.5,-87.6667 204.5,-93.3333 204.5,-93.3333 204.5,-96.1667 201.667,-99 198.833,-99\" fill=\"none\" stroke=\"black\"/>\n",
       "<text font-family=\"Courier,monospace\" font-size=\"10.00\" text-anchor=\"start\" x=\"175.5\" y=\"-88\">loop</text>\n",
       "</g>\n",
       "<!-- 0&#45;&gt;4 -->\n",
       "<g class=\"edge\" id=\"edge9\"><title>0-&gt;4</title>\n",
       "<path d=\"M429.871,-130.357C397.586,-137.086 309.802,-151.758 242,-129.5 225.902,-124.215 210.668,-111.964 200.699,-102.592\" fill=\"none\" stroke=\"black\"/>\n",
       "<polygon fill=\"black\" points=\"197.018,-99.0349 202.177,-100.891 198.816,-100.772 200.614,-102.509 200.614,-102.509 200.614,-102.509 198.816,-100.772 199.05,-104.127 197.018,-99.0349 197.018,-99.0349\" stroke=\"black\"/>\n",
       "<text font-family=\"Courier,monospace\" font-size=\"9.00\" text-anchor=\"start\" x=\"311.5\" y=\"-146.3\">a,ε → S</text>\n",
       "</g>\n",
       "<!-- 1 -->\n",
       "<g class=\"node\" id=\"node3\"><title>1</title>\n",
       "<path d=\"M336.333,-68C336.333,-68 320.667,-68 320.667,-68 317.833,-68 315,-65.1667 315,-62.3333 315,-62.3333 315,-56.6667 315,-56.6667 315,-53.8333 317.833,-51 320.667,-51 320.667,-51 336.333,-51 336.333,-51 339.167,-51 342,-53.8333 342,-56.6667 342,-56.6667 342,-62.3333 342,-62.3333 342,-65.1667 339.167,-68 336.333,-68\" fill=\"none\" stroke=\"black\"/>\n",
       "<text font-family=\"Courier,monospace\" font-size=\"10.00\" text-anchor=\"start\" x=\"319\" y=\"-57\">1.2</text>\n",
       "</g>\n",
       "<!-- 1&#45;&gt;0 -->\n",
       "<g class=\"edge\" id=\"edge4\"><title>1-&gt;0</title>\n",
       "<path d=\"M342.025,-67.037C362.388,-79.2911 402.696,-103.547 425.585,-117.321\" fill=\"none\" stroke=\"black\"/>\n",
       "<polygon fill=\"black\" points=\"429.919,-119.929 424.475,-119.279 427.777,-118.64 425.635,-117.351 425.635,-117.351 425.635,-117.351 427.777,-118.64 426.795,-115.423 429.919,-119.929 429.919,-119.929\" stroke=\"black\"/>\n",
       "<text font-family=\"Courier,monospace\" font-size=\"9.00\" text-anchor=\"start\" x=\"376.5\" y=\"-113.3\">T,ε → ε</text>\n",
       "</g>\n",
       "<!-- 2 -->\n",
       "<g class=\"node\" id=\"node4\"><title>2</title>\n",
       "<path d=\"M336.333,-111C336.333,-111 320.667,-111 320.667,-111 317.833,-111 315,-108.167 315,-105.333 315,-105.333 315,-99.6667 315,-99.6667 315,-96.8333 317.833,-94 320.667,-94 320.667,-94 336.333,-94 336.333,-94 339.167,-94 342,-96.8333 342,-99.6667 342,-99.6667 342,-105.333 342,-105.333 342,-108.167 339.167,-111 336.333,-111\" fill=\"none\" stroke=\"black\"/>\n",
       "<text font-family=\"Courier,monospace\" font-size=\"10.00\" text-anchor=\"start\" x=\"319\" y=\"-100\">2.1</text>\n",
       "</g>\n",
       "<!-- 2&#45;&gt;4 -->\n",
       "<g class=\"edge\" id=\"edge3\"><title>2-&gt;4</title>\n",
       "<path d=\"M314.712,-98.414C306.126,-95.8832 294.506,-92.8639 284,-91.5 258.583,-88.2002 229.02,-88.5379 209.709,-89.313\" fill=\"none\" stroke=\"black\"/>\n",
       "<polygon fill=\"black\" points=\"204.546,-89.5405 209.442,-87.0725 207.044,-89.4304 209.541,-89.3203 209.541,-89.3203 209.541,-89.3203 207.044,-89.4304 209.64,-91.5681 204.546,-89.5405 204.546,-89.5405\" stroke=\"black\"/>\n",
       "<text font-family=\"Courier,monospace\" font-size=\"9.00\" text-anchor=\"start\" x=\"246\" y=\"-97.3\">T,ε → T</text>\n",
       "</g>\n",
       "<!-- 3 -->\n",
       "<g class=\"node\" id=\"node5\"><title>3</title>\n",
       "<path d=\"M345.333,-21C345.333,-21 311.667,-21 311.667,-21 308.833,-21 306,-18.1667 306,-15.3333 306,-15.3333 306,-9.66667 306,-9.66667 306,-6.83333 308.833,-4 311.667,-4 311.667,-4 345.333,-4 345.333,-4 348.167,-4 351,-6.83333 351,-9.66667 351,-9.66667 351,-15.3333 351,-15.3333 351,-18.1667 348.167,-21 345.333,-21\" fill=\"none\" stroke=\"black\"/>\n",
       "<path d=\"M346.667,-25C346.667,-25 310.333,-25 310.333,-25 306.167,-25 302,-20.8333 302,-16.6667 302,-16.6667 302,-8.33333 302,-8.33333 302,-4.16667 306.167,-0 310.333,-0 310.333,-0 346.667,-0 346.667,-0 350.833,-0 355,-4.16667 355,-8.33333 355,-8.33333 355,-16.6667 355,-16.6667 355,-20.8333 350.833,-25 346.667,-25\" fill=\"none\" stroke=\"black\"/>\n",
       "<text font-family=\"Courier,monospace\" font-size=\"10.00\" text-anchor=\"start\" x=\"310\" y=\"-10\">accept</text>\n",
       "</g>\n",
       "<!-- 4&#45;&gt;1 -->\n",
       "<g class=\"edge\" id=\"edge7\"><title>4-&gt;1</title>\n",
       "<path d=\"M204.876,-82.9456C215.221,-78.3424 229.14,-72.7406 242,-69.5 264.983,-63.7087 292.304,-61.255 309.767,-60.2262\" fill=\"none\" stroke=\"black\"/>\n",
       "<polygon fill=\"black\" points=\"314.855,-59.9506 309.984,-62.4679 312.358,-60.0859 309.862,-60.2212 309.862,-60.2212 309.862,-60.2212 312.358,-60.0859 309.74,-57.9745 314.855,-59.9506 314.855,-59.9506\" stroke=\"black\"/>\n",
       "<text font-family=\"Courier,monospace\" font-size=\"9.00\" text-anchor=\"start\" x=\"247\" y=\"-75.3\">b,ε → ε</text>\n",
       "</g>\n",
       "<!-- 4&#45;&gt;2 -->\n",
       "<g class=\"edge\" id=\"edge5\"><title>4-&gt;2</title>\n",
       "<path d=\"M204.922,-97.0391C215.285,-100.935 229.207,-105.499 242,-107.5 260.442,-110.385 265.364,-108.568 284,-107.5 292.51,-107.013 301.91,-105.993 309.788,-105.001\" fill=\"none\" stroke=\"black\"/>\n",
       "<polygon fill=\"black\" points=\"314.969,-104.325 310.302,-107.203 312.49,-104.649 310.011,-104.972 310.011,-104.972 310.011,-104.972 312.49,-104.649 309.72,-102.741 314.969,-104.325 314.969,-104.325\" stroke=\"black\"/>\n",
       "<text font-family=\"Courier,monospace\" font-size=\"9.00\" text-anchor=\"start\" x=\"247\" y=\"-115.3\">a,ε → ε</text>\n",
       "</g>\n",
       "<!-- 4&#45;&gt;3 -->\n",
       "<g class=\"edge\" id=\"edge6\"><title>4-&gt;3</title>\n",
       "<path d=\"M196.447,-81.9139C206.033,-71.3325 223.65,-53.4174 242,-42.5 258.908,-32.4409 279.701,-25.0504 296.548,-20.1217\" fill=\"none\" stroke=\"black\"/>\n",
       "<polygon fill=\"black\" points=\"301.641,-18.671 297.449,-22.2047 299.237,-19.3559 296.832,-20.0408 296.832,-20.0408 296.832,-20.0408 299.237,-19.3559 296.216,-17.8769 301.641,-18.671 301.641,-18.671\" stroke=\"black\"/>\n",
       "<text font-family=\"Courier,monospace\" font-size=\"9.00\" text-anchor=\"start\" x=\"245\" y=\"-48.3\">ε,$ → ε</text>\n",
       "</g>\n",
       "<!-- 4&#45;&gt;4 -->\n",
       "<g class=\"edge\" id=\"edge8\"><title>4-&gt;4</title>\n",
       "<path d=\"M177.272,-99.1857C171.346,-107.674 174.922,-117 188,-117 198.626,-117 202.979,-110.843 201.059,-103.982\" fill=\"none\" stroke=\"black\"/>\n",
       "<polygon fill=\"black\" points=\"198.728,-99.1857 202.938,-102.699 199.821,-101.434 200.914,-103.683 200.914,-103.683 200.914,-103.683 199.821,-101.434 198.89,-104.666 198.728,-99.1857 198.728,-99.1857\" stroke=\"black\"/>\n",
       "<text font-family=\"Courier,monospace\" font-size=\"9.00\" text-anchor=\"start\" x=\"171\" y=\"-178.8\">a,ε → a</text>\n",
       "<text font-family=\"Courier,monospace\" font-size=\"9.00\" text-anchor=\"start\" x=\"171\" y=\"-164.8\">b,ε → b</text>\n",
       "<text font-family=\"Courier,monospace\" font-size=\"9.00\" text-anchor=\"start\" x=\"171\" y=\"-150.8\">b,ε → S</text>\n",
       "<text font-family=\"Courier,monospace\" font-size=\"9.00\" text-anchor=\"start\" x=\"172\" y=\"-136.8\">ε,ε → S</text>\n",
       "<text font-family=\"Courier,monospace\" font-size=\"9.00\" text-anchor=\"start\" x=\"172\" y=\"-122.8\">ε,ε → T</text>\n",
       "</g>\n",
       "<!-- 5&#45;&gt;4 -->\n",
       "<g class=\"edge\" id=\"edge2\"><title>5-&gt;4</title>\n",
       "<path d=\"M77.185,-90.5C100.84,-90.5 141.471,-90.5 166.123,-90.5\" fill=\"none\" stroke=\"black\"/>\n",
       "<polygon fill=\"black\" points=\"171.129,-90.5 166.129,-92.7501 168.629,-90.5 166.129,-90.5001 166.129,-90.5001 166.129,-90.5001 168.629,-90.5 166.129,-88.2501 171.129,-90.5 171.129,-90.5\" stroke=\"black\"/>\n",
       "<text font-family=\"Courier,monospace\" font-size=\"9.00\" text-anchor=\"start\" x=\"98.5\" y=\"-96.3\">ε,ε → $</text>\n",
       "</g>\n",
       "</g>\n",
       "</svg>"
      ],
      "text/plain": [
       "<IPython.core.display.SVG object>"
      ]
     },
     "metadata": {},
     "output_type": "display_data"
    }
   ],
   "source": [
    "m = read_csv(\"shiftreduce.csv\")\n",
    "to_graph(m)"
   ]
  },
  {
   "cell_type": "markdown",
   "metadata": {},
   "source": [
    "## Wednesday reading\n",
    "\n",
    "Read Section 2.2, Lemma 2.27."
   ]
  },
  {
   "cell_type": "markdown",
   "metadata": {},
   "source": [
    "## Thursday class\n",
    "\n",
    "CP1 is due tonight.\n",
    "\n",
    "More to be posted later!"
   ]
  }
 ],
 "metadata": {
  "kernelspec": {
   "display_name": "Python 2",
   "language": "python",
   "name": "python2"
  },
  "language_info": {
   "codemirror_mode": {
    "name": "ipython",
    "version": 2
   },
   "file_extension": ".py",
   "mimetype": "text/x-python",
   "name": "python",
   "nbconvert_exporter": "python",
   "pygments_lexer": "ipython2",
   "version": "2.7.10"
  }
 },
 "nbformat": 4,
 "nbformat_minor": 0
}
