{
 "cells": [
  {
   "cell_type": "markdown",
   "metadata": {},
   "source": [
    "# Week 10: 2016/03/28-04/01\n",
    "\n",
    "## Monday\n",
    "\n",
    "Happy Easter! No reading today since it's a holiday."
   ]
  },
  {
   "cell_type": "markdown",
   "metadata": {},
   "source": [
    "## Tuesday class\n",
    "\n",
    "### Reducibility\n",
    "\n",
    "Now that we've proven that one language ($A_{\\mathsf{TM}}$) is undecidable, we can use it to prove that other languages are undecidable.\n",
    "\n",
    "The first example is the halting problem. In many textbooks (and the poem \"Scooping the Loop Snooper\"), the halting problem is actually the prototypical undecidable language, but Sipser does things a little differently.\n",
    "\n",
    "The proof is not difficult but it has a weird feel to it. The first thing that you have to remember is that the direction of the reduction is the opposite of what most people intuitively think of first. If you want to show that the halting problem is undecidable, you do _not_ reduce the halting problem to $A_{\\mathsf{TM}}$. You assume that the halting problem _is_ decidable, then show via a reduction from $A_{\\mathsf{TM}}$ to the halting problem that $A_{\\mathsf{TM}}$ would also be decidable, which is a contradiction.\n",
    "\n",
    "Theorems 5.2 and 3 are slightly different. They are both proofs of the undecidability of questions of the form \"Does $L(M)$ belong to such-and-such a language class?\". So the proofs go like this. Assume that the question is decidable, so there is a TM $C$ that decides it. Now we need to construct a new TM $S$ that decides $A_{\\mathsf{TM}}$. Somehow, $S$ needs to use $C$, and $C$ expects to receive _another_ TM as input. So $S$ constructs another TM (called $M_1$ or $M_2$ in the book) for this purpose. As the book points out, the weird thing is that we do not actually run this machine; we just feed it into $C$.\n",
    "\n",
    "The trick here is that the putative machine $C$ is able to do its job even if its argument doesn't halt on some inputs. The only hard part about deciding $A_{\\mathsf{TM}}$ is detecting when a machine doesn't halt, so $S$ delegates this task to $C$.\n",
    "\n",
    "If you like, you could think of $S$ as a Python function..."
   ]
  },
  {
   "cell_type": "code",
   "execution_count": null,
   "metadata": {
    "collapsed": true
   },
   "outputs": [],
   "source": [
    "# For Theorem 5.2\n",
    "def accepts(function, input):\n",
    "    def f(x):\n",
    "        \"\"\"Recognizes {w} if function(input) is True,\n",
    "           recognizes \\emptyset otherwise.\"\"\"\n",
    "        if x != input:\n",
    "            return False\n",
    "        else:\n",
    "            return function(input)\n",
    "    return not is_empty(f)\n",
    "\n",
    "# For Theorem 5.3\n",
    "def accepts(function, input):\n",
    "    def f(x):\n",
    "        \"\"\"Recognizes \\Sigma^\\ast if function(input) is True,\n",
    "           recognizes {0^n 1^n} otherwise.\"\"\"\n",
    "        n = len(x)/2\n",
    "        if x == \"0\"*n+\"1\"*n:\n",
    "            return True\n",
    "        else:\n",
    "            return function(input)\n",
    "    return is_regular(f)"
   ]
  },
  {
   "cell_type": "markdown",
   "metadata": {},
   "source": [
    "### Other undecidable problems\n",
    "\n",
    "Alas, we don't have time to look at more examples of undecidable problems. The examples we've looked at so far may seem a little arcane because they are all questions about Turing machines, but some other examples are:\n",
    "\n",
    "- Do two context-free grammars generate the same language (Exercise 5.1)?\n",
    "- The third and hardest puzzle we did on the first day of class (Section 5.2).\n",
    "- Does a polynomial equation in several variables have an integral solution?\n",
    "\n",
    "See [the survey by Poonen](http://www-math.mit.edu/~poonen/papers/sampler.pdf) for more examples."
   ]
  },
  {
   "cell_type": "markdown",
   "metadata": {},
   "source": [
    "## Wednesday reading\n",
    "\n",
    "Catch up by reading Section 5.1, up to but not including \"Reductions via Computation Histories.\" \n",
    "\n",
    "If you were interested in the third, hardest puzzle that we did on the first day of class, then read the rest of Section 5.1 and Section 5.2, but this is optional."
   ]
  },
  {
   "cell_type": "markdown",
   "metadata": {},
   "source": [
    "## Thursday class"
   ]
  },
  {
   "cell_type": "markdown",
   "metadata": {},
   "source": [
    "Today we'll discuss the possibility that something out there could be more powerful than a Turing machine.\n",
    "\n",
    "Consider the following syllogism:\n",
    "\n",
    "1. All physical computers can be simulated by a Turing machine.\n",
    "2. The human brain is a physical computer.\n",
    "3. Therefore the human brain can be simulated by a Turing machine.\n",
    "\n",
    "There are plenty of people who would defend this argument. There are also plenty of people who would deny the major (1) and plenty of people who would deny the minor (2).\n",
    "\n",
    "What do you think?"
   ]
  }
 ],
 "metadata": {
  "kernelspec": {
   "display_name": "Python 2",
   "language": "python",
   "name": "python2"
  },
  "language_info": {
   "codemirror_mode": {
    "name": "ipython",
    "version": 2
   },
   "file_extension": ".py",
   "mimetype": "text/x-python",
   "name": "python",
   "nbconvert_exporter": "python",
   "pygments_lexer": "ipython2",
   "version": "2.7.10"
  }
 },
 "nbformat": 4,
 "nbformat_minor": 0
}
